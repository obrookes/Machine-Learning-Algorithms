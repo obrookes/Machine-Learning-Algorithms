{
 "cells": [
  {
   "cell_type": "code",
   "execution_count": 36,
   "metadata": {
    "scrolled": false
   },
   "outputs": [],
   "source": [
    "STATION_PATH = 'Train/Train/station_201_deploy.csv'"
   ]
  },
  {
   "cell_type": "code",
   "execution_count": 37,
   "metadata": {},
   "outputs": [],
   "source": [
    "from data_handling import *\n",
    "station_data = load_data(STATION_PATH)"
   ]
  },
  {
   "cell_type": "markdown",
   "metadata": {},
   "source": [
    "The time conversion is  possible way of extracting seasonal/monthly features - not implemented yet."
   ]
  },
  {
   "cell_type": "code",
   "execution_count": 38,
   "metadata": {},
   "outputs": [
    {
     "name": "stdout",
     "output_type": "stream",
     "text": [
      "Unix Timestamp: 1412114400\n",
      "Timestamp conversion: 2014-09-30 22:00:00\n"
     ]
    }
   ],
   "source": [
    "from datetime import datetime\n",
    "ts = int(station_data.loc[0][4])\n",
    "\n",
    "# if you encounter a \"year is out of range\" error the timestamp\n",
    "# may be in milliseconds, try `ts /= 1000` in that case\n",
    "print('Unix Timestamp:',int(station_data.loc[0][4]))\n",
    "print('Timestamp conversion:', datetime.utcfromtimestamp(ts).strftime('%Y-%m-%d %H:%M:%S'))"
   ]
  },
  {
   "cell_type": "markdown",
   "metadata": {},
   "source": [
    "The below cells represent very basic analysis - just an initial glance at the data."
   ]
  },
  {
   "cell_type": "code",
   "execution_count": 39,
   "metadata": {},
   "outputs": [
    {
     "data": {
      "text/html": [
       "<div>\n",
       "<style scoped>\n",
       "    .dataframe tbody tr th:only-of-type {\n",
       "        vertical-align: middle;\n",
       "    }\n",
       "\n",
       "    .dataframe tbody tr th {\n",
       "        vertical-align: top;\n",
       "    }\n",
       "\n",
       "    .dataframe thead th {\n",
       "        text-align: right;\n",
       "    }\n",
       "</style>\n",
       "<table border=\"1\" class=\"dataframe\">\n",
       "  <thead>\n",
       "    <tr style=\"text-align: right;\">\n",
       "      <th></th>\n",
       "      <th>station</th>\n",
       "      <th>latitude</th>\n",
       "      <th>longitude</th>\n",
       "      <th>numDocks</th>\n",
       "      <th>timestamp</th>\n",
       "      <th>year</th>\n",
       "      <th>month</th>\n",
       "      <th>day</th>\n",
       "      <th>hour</th>\n",
       "      <th>weekday</th>\n",
       "      <th>...</th>\n",
       "      <th>temperature.C</th>\n",
       "      <th>relHumidity.HR</th>\n",
       "      <th>airPressure.mb</th>\n",
       "      <th>precipitation.l.m2</th>\n",
       "      <th>bikes_3h_ago</th>\n",
       "      <th>full_profile_3h_diff_bikes</th>\n",
       "      <th>full_profile_bikes</th>\n",
       "      <th>short_profile_3h_diff_bikes</th>\n",
       "      <th>short_profile_bikes</th>\n",
       "      <th>bikes</th>\n",
       "    </tr>\n",
       "  </thead>\n",
       "  <tbody>\n",
       "    <tr>\n",
       "      <th>0</th>\n",
       "      <td>201</td>\n",
       "      <td>39.478178</td>\n",
       "      <td>-0.383541</td>\n",
       "      <td>27</td>\n",
       "      <td>1.412114e+09</td>\n",
       "      <td>2014</td>\n",
       "      <td>10</td>\n",
       "      <td>1</td>\n",
       "      <td>0</td>\n",
       "      <td>Wednesday</td>\n",
       "      <td>...</td>\n",
       "      <td>21.3</td>\n",
       "      <td>85.0</td>\n",
       "      <td>855.3</td>\n",
       "      <td>0.0</td>\n",
       "      <td>NaN</td>\n",
       "      <td>NaN</td>\n",
       "      <td>NaN</td>\n",
       "      <td>NaN</td>\n",
       "      <td>NaN</td>\n",
       "      <td>1.0</td>\n",
       "    </tr>\n",
       "    <tr>\n",
       "      <th>1</th>\n",
       "      <td>201</td>\n",
       "      <td>39.478178</td>\n",
       "      <td>-0.383541</td>\n",
       "      <td>27</td>\n",
       "      <td>1.412118e+09</td>\n",
       "      <td>2014</td>\n",
       "      <td>10</td>\n",
       "      <td>1</td>\n",
       "      <td>1</td>\n",
       "      <td>Wednesday</td>\n",
       "      <td>...</td>\n",
       "      <td>21.1</td>\n",
       "      <td>86.0</td>\n",
       "      <td>1000.6</td>\n",
       "      <td>0.0</td>\n",
       "      <td>NaN</td>\n",
       "      <td>NaN</td>\n",
       "      <td>NaN</td>\n",
       "      <td>NaN</td>\n",
       "      <td>NaN</td>\n",
       "      <td>0.0</td>\n",
       "    </tr>\n",
       "    <tr>\n",
       "      <th>2</th>\n",
       "      <td>201</td>\n",
       "      <td>39.478178</td>\n",
       "      <td>-0.383541</td>\n",
       "      <td>27</td>\n",
       "      <td>1.412122e+09</td>\n",
       "      <td>2014</td>\n",
       "      <td>10</td>\n",
       "      <td>1</td>\n",
       "      <td>2</td>\n",
       "      <td>Wednesday</td>\n",
       "      <td>...</td>\n",
       "      <td>20.9</td>\n",
       "      <td>86.0</td>\n",
       "      <td>880.6</td>\n",
       "      <td>0.0</td>\n",
       "      <td>NaN</td>\n",
       "      <td>NaN</td>\n",
       "      <td>NaN</td>\n",
       "      <td>NaN</td>\n",
       "      <td>NaN</td>\n",
       "      <td>0.0</td>\n",
       "    </tr>\n",
       "    <tr>\n",
       "      <th>3</th>\n",
       "      <td>201</td>\n",
       "      <td>39.478178</td>\n",
       "      <td>-0.383541</td>\n",
       "      <td>27</td>\n",
       "      <td>1.412125e+09</td>\n",
       "      <td>2014</td>\n",
       "      <td>10</td>\n",
       "      <td>1</td>\n",
       "      <td>3</td>\n",
       "      <td>Wednesday</td>\n",
       "      <td>...</td>\n",
       "      <td>20.4</td>\n",
       "      <td>88.0</td>\n",
       "      <td>859.8</td>\n",
       "      <td>0.0</td>\n",
       "      <td>1.0</td>\n",
       "      <td>NaN</td>\n",
       "      <td>NaN</td>\n",
       "      <td>NaN</td>\n",
       "      <td>NaN</td>\n",
       "      <td>0.0</td>\n",
       "    </tr>\n",
       "    <tr>\n",
       "      <th>4</th>\n",
       "      <td>201</td>\n",
       "      <td>39.478178</td>\n",
       "      <td>-0.383541</td>\n",
       "      <td>27</td>\n",
       "      <td>1.412129e+09</td>\n",
       "      <td>2014</td>\n",
       "      <td>10</td>\n",
       "      <td>1</td>\n",
       "      <td>4</td>\n",
       "      <td>Wednesday</td>\n",
       "      <td>...</td>\n",
       "      <td>20.3</td>\n",
       "      <td>87.0</td>\n",
       "      <td>898.1</td>\n",
       "      <td>0.0</td>\n",
       "      <td>0.0</td>\n",
       "      <td>NaN</td>\n",
       "      <td>NaN</td>\n",
       "      <td>NaN</td>\n",
       "      <td>NaN</td>\n",
       "      <td>0.0</td>\n",
       "    </tr>\n",
       "  </tbody>\n",
       "</table>\n",
       "<p>5 rows × 25 columns</p>\n",
       "</div>"
      ],
      "text/plain": [
       "   station   latitude  longitude  numDocks     timestamp  year  month  day  \\\n",
       "0      201  39.478178  -0.383541        27  1.412114e+09  2014     10    1   \n",
       "1      201  39.478178  -0.383541        27  1.412118e+09  2014     10    1   \n",
       "2      201  39.478178  -0.383541        27  1.412122e+09  2014     10    1   \n",
       "3      201  39.478178  -0.383541        27  1.412125e+09  2014     10    1   \n",
       "4      201  39.478178  -0.383541        27  1.412129e+09  2014     10    1   \n",
       "\n",
       "   hour    weekday  ...  temperature.C  relHumidity.HR  airPressure.mb  \\\n",
       "0     0  Wednesday  ...           21.3            85.0           855.3   \n",
       "1     1  Wednesday  ...           21.1            86.0          1000.6   \n",
       "2     2  Wednesday  ...           20.9            86.0           880.6   \n",
       "3     3  Wednesday  ...           20.4            88.0           859.8   \n",
       "4     4  Wednesday  ...           20.3            87.0           898.1   \n",
       "\n",
       "   precipitation.l.m2  bikes_3h_ago  full_profile_3h_diff_bikes  \\\n",
       "0                 0.0           NaN                         NaN   \n",
       "1                 0.0           NaN                         NaN   \n",
       "2                 0.0           NaN                         NaN   \n",
       "3                 0.0           1.0                         NaN   \n",
       "4                 0.0           0.0                         NaN   \n",
       "\n",
       "   full_profile_bikes  short_profile_3h_diff_bikes  short_profile_bikes  bikes  \n",
       "0                 NaN                          NaN                  NaN    1.0  \n",
       "1                 NaN                          NaN                  NaN    0.0  \n",
       "2                 NaN                          NaN                  NaN    0.0  \n",
       "3                 NaN                          NaN                  NaN    0.0  \n",
       "4                 NaN                          NaN                  NaN    0.0  \n",
       "\n",
       "[5 rows x 25 columns]"
      ]
     },
     "execution_count": 39,
     "metadata": {},
     "output_type": "execute_result"
    }
   ],
   "source": [
    "station_data.head()"
   ]
  },
  {
   "cell_type": "code",
   "execution_count": 40,
   "metadata": {},
   "outputs": [
    {
     "data": {
      "text/html": [
       "<div>\n",
       "<style scoped>\n",
       "    .dataframe tbody tr th:only-of-type {\n",
       "        vertical-align: middle;\n",
       "    }\n",
       "\n",
       "    .dataframe tbody tr th {\n",
       "        vertical-align: top;\n",
       "    }\n",
       "\n",
       "    .dataframe thead th {\n",
       "        text-align: right;\n",
       "    }\n",
       "</style>\n",
       "<table border=\"1\" class=\"dataframe\">\n",
       "  <thead>\n",
       "    <tr style=\"text-align: right;\">\n",
       "      <th></th>\n",
       "      <th>station</th>\n",
       "      <th>latitude</th>\n",
       "      <th>longitude</th>\n",
       "      <th>numDocks</th>\n",
       "      <th>timestamp</th>\n",
       "      <th>year</th>\n",
       "      <th>month</th>\n",
       "      <th>day</th>\n",
       "      <th>hour</th>\n",
       "      <th>weekday</th>\n",
       "      <th>...</th>\n",
       "      <th>temperature.C</th>\n",
       "      <th>relHumidity.HR</th>\n",
       "      <th>airPressure.mb</th>\n",
       "      <th>precipitation.l.m2</th>\n",
       "      <th>bikes_3h_ago</th>\n",
       "      <th>full_profile_3h_diff_bikes</th>\n",
       "      <th>full_profile_bikes</th>\n",
       "      <th>short_profile_3h_diff_bikes</th>\n",
       "      <th>short_profile_bikes</th>\n",
       "      <th>bikes</th>\n",
       "    </tr>\n",
       "  </thead>\n",
       "  <tbody>\n",
       "    <tr>\n",
       "      <th>740</th>\n",
       "      <td>201</td>\n",
       "      <td>39.478178</td>\n",
       "      <td>-0.383541</td>\n",
       "      <td>27</td>\n",
       "      <td>1.414778e+09</td>\n",
       "      <td>2014</td>\n",
       "      <td>10</td>\n",
       "      <td>31</td>\n",
       "      <td>19</td>\n",
       "      <td>Friday</td>\n",
       "      <td>...</td>\n",
       "      <td>20.2</td>\n",
       "      <td>80.0</td>\n",
       "      <td>1023.5</td>\n",
       "      <td>0.0</td>\n",
       "      <td>1.0</td>\n",
       "      <td>2.00</td>\n",
       "      <td>2.50</td>\n",
       "      <td>2.00</td>\n",
       "      <td>2.50</td>\n",
       "      <td>0.0</td>\n",
       "    </tr>\n",
       "    <tr>\n",
       "      <th>741</th>\n",
       "      <td>201</td>\n",
       "      <td>39.478178</td>\n",
       "      <td>-0.383541</td>\n",
       "      <td>27</td>\n",
       "      <td>1.414782e+09</td>\n",
       "      <td>2014</td>\n",
       "      <td>10</td>\n",
       "      <td>31</td>\n",
       "      <td>20</td>\n",
       "      <td>Friday</td>\n",
       "      <td>...</td>\n",
       "      <td>20.2</td>\n",
       "      <td>82.0</td>\n",
       "      <td>1023.9</td>\n",
       "      <td>0.0</td>\n",
       "      <td>1.0</td>\n",
       "      <td>3.00</td>\n",
       "      <td>3.25</td>\n",
       "      <td>3.00</td>\n",
       "      <td>3.25</td>\n",
       "      <td>2.0</td>\n",
       "    </tr>\n",
       "    <tr>\n",
       "      <th>742</th>\n",
       "      <td>201</td>\n",
       "      <td>39.478178</td>\n",
       "      <td>-0.383541</td>\n",
       "      <td>27</td>\n",
       "      <td>1.414786e+09</td>\n",
       "      <td>2014</td>\n",
       "      <td>10</td>\n",
       "      <td>31</td>\n",
       "      <td>21</td>\n",
       "      <td>Friday</td>\n",
       "      <td>...</td>\n",
       "      <td>20.0</td>\n",
       "      <td>83.0</td>\n",
       "      <td>1024.0</td>\n",
       "      <td>0.0</td>\n",
       "      <td>1.0</td>\n",
       "      <td>2.25</td>\n",
       "      <td>2.75</td>\n",
       "      <td>2.25</td>\n",
       "      <td>2.75</td>\n",
       "      <td>7.0</td>\n",
       "    </tr>\n",
       "    <tr>\n",
       "      <th>743</th>\n",
       "      <td>201</td>\n",
       "      <td>39.478178</td>\n",
       "      <td>-0.383541</td>\n",
       "      <td>27</td>\n",
       "      <td>1.414789e+09</td>\n",
       "      <td>2014</td>\n",
       "      <td>10</td>\n",
       "      <td>31</td>\n",
       "      <td>22</td>\n",
       "      <td>Friday</td>\n",
       "      <td>...</td>\n",
       "      <td>19.3</td>\n",
       "      <td>84.0</td>\n",
       "      <td>1024.4</td>\n",
       "      <td>0.0</td>\n",
       "      <td>0.0</td>\n",
       "      <td>3.25</td>\n",
       "      <td>5.75</td>\n",
       "      <td>3.25</td>\n",
       "      <td>5.75</td>\n",
       "      <td>9.0</td>\n",
       "    </tr>\n",
       "    <tr>\n",
       "      <th>744</th>\n",
       "      <td>201</td>\n",
       "      <td>39.478178</td>\n",
       "      <td>-0.383541</td>\n",
       "      <td>27</td>\n",
       "      <td>1.414793e+09</td>\n",
       "      <td>2014</td>\n",
       "      <td>10</td>\n",
       "      <td>31</td>\n",
       "      <td>23</td>\n",
       "      <td>Friday</td>\n",
       "      <td>...</td>\n",
       "      <td>19.1</td>\n",
       "      <td>86.0</td>\n",
       "      <td>1024.1</td>\n",
       "      <td>0.0</td>\n",
       "      <td>2.0</td>\n",
       "      <td>7.50</td>\n",
       "      <td>10.75</td>\n",
       "      <td>7.50</td>\n",
       "      <td>10.75</td>\n",
       "      <td>14.0</td>\n",
       "    </tr>\n",
       "  </tbody>\n",
       "</table>\n",
       "<p>5 rows × 25 columns</p>\n",
       "</div>"
      ],
      "text/plain": [
       "     station   latitude  longitude  numDocks     timestamp  year  month  day  \\\n",
       "740      201  39.478178  -0.383541        27  1.414778e+09  2014     10   31   \n",
       "741      201  39.478178  -0.383541        27  1.414782e+09  2014     10   31   \n",
       "742      201  39.478178  -0.383541        27  1.414786e+09  2014     10   31   \n",
       "743      201  39.478178  -0.383541        27  1.414789e+09  2014     10   31   \n",
       "744      201  39.478178  -0.383541        27  1.414793e+09  2014     10   31   \n",
       "\n",
       "     hour weekday  ...  temperature.C  relHumidity.HR  airPressure.mb  \\\n",
       "740    19  Friday  ...           20.2            80.0          1023.5   \n",
       "741    20  Friday  ...           20.2            82.0          1023.9   \n",
       "742    21  Friday  ...           20.0            83.0          1024.0   \n",
       "743    22  Friday  ...           19.3            84.0          1024.4   \n",
       "744    23  Friday  ...           19.1            86.0          1024.1   \n",
       "\n",
       "     precipitation.l.m2  bikes_3h_ago  full_profile_3h_diff_bikes  \\\n",
       "740                 0.0           1.0                        2.00   \n",
       "741                 0.0           1.0                        3.00   \n",
       "742                 0.0           1.0                        2.25   \n",
       "743                 0.0           0.0                        3.25   \n",
       "744                 0.0           2.0                        7.50   \n",
       "\n",
       "     full_profile_bikes  short_profile_3h_diff_bikes  short_profile_bikes  \\\n",
       "740                2.50                         2.00                 2.50   \n",
       "741                3.25                         3.00                 3.25   \n",
       "742                2.75                         2.25                 2.75   \n",
       "743                5.75                         3.25                 5.75   \n",
       "744               10.75                         7.50                10.75   \n",
       "\n",
       "     bikes  \n",
       "740    0.0  \n",
       "741    2.0  \n",
       "742    7.0  \n",
       "743    9.0  \n",
       "744   14.0  \n",
       "\n",
       "[5 rows x 25 columns]"
      ]
     },
     "execution_count": 40,
     "metadata": {},
     "output_type": "execute_result"
    }
   ],
   "source": [
    "station_data.tail()"
   ]
  },
  {
   "cell_type": "code",
   "execution_count": 41,
   "metadata": {},
   "outputs": [
    {
     "name": "stdout",
     "output_type": "stream",
     "text": [
      "<class 'pandas.core.frame.DataFrame'>\n",
      "RangeIndex: 745 entries, 0 to 744\n",
      "Data columns (total 25 columns):\n",
      " #   Column                       Non-Null Count  Dtype  \n",
      "---  ------                       --------------  -----  \n",
      " 0   station                      745 non-null    int64  \n",
      " 1   latitude                     745 non-null    float64\n",
      " 2   longitude                    745 non-null    float64\n",
      " 3   numDocks                     745 non-null    int64  \n",
      " 4   timestamp                    745 non-null    float64\n",
      " 5   year                         745 non-null    int64  \n",
      " 6   month                        745 non-null    int64  \n",
      " 7   day                          745 non-null    int64  \n",
      " 8   hour                         745 non-null    int64  \n",
      " 9   weekday                      745 non-null    object \n",
      " 10  weekhour                     745 non-null    int64  \n",
      " 11  isHoliday                    745 non-null    int64  \n",
      " 12  windMaxSpeed.m.s             744 non-null    float64\n",
      " 13  windMeanSpeed.m.s            744 non-null    float64\n",
      " 14  windDirection.grades         740 non-null    float64\n",
      " 15  temperature.C                744 non-null    float64\n",
      " 16  relHumidity.HR               744 non-null    float64\n",
      " 17  airPressure.mb               744 non-null    float64\n",
      " 18  precipitation.l.m2           744 non-null    float64\n",
      " 19  bikes_3h_ago                 741 non-null    float64\n",
      " 20  full_profile_3h_diff_bikes   574 non-null    float64\n",
      " 21  full_profile_bikes           577 non-null    float64\n",
      " 22  short_profile_3h_diff_bikes  574 non-null    float64\n",
      " 23  short_profile_bikes          577 non-null    float64\n",
      " 24  bikes                        744 non-null    float64\n",
      "dtypes: float64(16), int64(8), object(1)\n",
      "memory usage: 145.6+ KB\n"
     ]
    }
   ],
   "source": [
    "station_data.info()"
   ]
  },
  {
   "cell_type": "markdown",
   "metadata": {},
   "source": [
    "___\n",
    "**RUNNING TODO: Take care of the null values**\n",
    "___\n"
   ]
  },
  {
   "cell_type": "code",
   "execution_count": 42,
   "metadata": {},
   "outputs": [
    {
     "data": {
      "text/plain": [
       "(201    745\n",
       " Name: station, dtype: int64,\n",
       " -0.383541    745\n",
       " Name: longitude, dtype: int64,\n",
       " 39.478178    745\n",
       " Name: latitude, dtype: int64,\n",
       " 27    745\n",
       " Name: numDocks, dtype: int64)"
      ]
     },
     "execution_count": 42,
     "metadata": {},
     "output_type": "execute_result"
    }
   ],
   "source": [
    "(station_data['station'].value_counts(),\n",
    "station_data['longitude'].value_counts(),\n",
    "station_data['latitude'].value_counts(),\n",
    "station_data['numDocks'].value_counts(),)"
   ]
  },
  {
   "cell_type": "markdown",
   "metadata": {},
   "source": [
    "___\n",
    "**RUNNING TODO: Consider which values are repeated and seperate categorical data**\n",
    "___"
   ]
  },
  {
   "cell_type": "code",
   "execution_count": 43,
   "metadata": {},
   "outputs": [
    {
     "data": {
      "text/html": [
       "<div>\n",
       "<style scoped>\n",
       "    .dataframe tbody tr th:only-of-type {\n",
       "        vertical-align: middle;\n",
       "    }\n",
       "\n",
       "    .dataframe tbody tr th {\n",
       "        vertical-align: top;\n",
       "    }\n",
       "\n",
       "    .dataframe thead th {\n",
       "        text-align: right;\n",
       "    }\n",
       "</style>\n",
       "<table border=\"1\" class=\"dataframe\">\n",
       "  <thead>\n",
       "    <tr style=\"text-align: right;\">\n",
       "      <th></th>\n",
       "      <th>station</th>\n",
       "      <th>latitude</th>\n",
       "      <th>longitude</th>\n",
       "      <th>numDocks</th>\n",
       "      <th>timestamp</th>\n",
       "      <th>year</th>\n",
       "      <th>month</th>\n",
       "      <th>day</th>\n",
       "      <th>hour</th>\n",
       "      <th>weekhour</th>\n",
       "      <th>...</th>\n",
       "      <th>temperature.C</th>\n",
       "      <th>relHumidity.HR</th>\n",
       "      <th>airPressure.mb</th>\n",
       "      <th>precipitation.l.m2</th>\n",
       "      <th>bikes_3h_ago</th>\n",
       "      <th>full_profile_3h_diff_bikes</th>\n",
       "      <th>full_profile_bikes</th>\n",
       "      <th>short_profile_3h_diff_bikes</th>\n",
       "      <th>short_profile_bikes</th>\n",
       "      <th>bikes</th>\n",
       "    </tr>\n",
       "  </thead>\n",
       "  <tbody>\n",
       "    <tr>\n",
       "      <th>count</th>\n",
       "      <td>745.0</td>\n",
       "      <td>745.000000</td>\n",
       "      <td>7.450000e+02</td>\n",
       "      <td>745.0</td>\n",
       "      <td>7.450000e+02</td>\n",
       "      <td>745.0</td>\n",
       "      <td>745.0</td>\n",
       "      <td>745.000000</td>\n",
       "      <td>745.000000</td>\n",
       "      <td>745.000000</td>\n",
       "      <td>...</td>\n",
       "      <td>744.000000</td>\n",
       "      <td>744.000000</td>\n",
       "      <td>744.000000</td>\n",
       "      <td>744.0</td>\n",
       "      <td>741.000000</td>\n",
       "      <td>574.000000</td>\n",
       "      <td>577.000000</td>\n",
       "      <td>574.000000</td>\n",
       "      <td>577.000000</td>\n",
       "      <td>744.000000</td>\n",
       "    </tr>\n",
       "    <tr>\n",
       "      <th>mean</th>\n",
       "      <td>201.0</td>\n",
       "      <td>39.478178</td>\n",
       "      <td>-3.835411e-01</td>\n",
       "      <td>27.0</td>\n",
       "      <td>1.413454e+09</td>\n",
       "      <td>2014.0</td>\n",
       "      <td>10.0</td>\n",
       "      <td>16.013423</td>\n",
       "      <td>11.487248</td>\n",
       "      <td>84.583893</td>\n",
       "      <td>...</td>\n",
       "      <td>21.707796</td>\n",
       "      <td>65.943548</td>\n",
       "      <td>1002.257258</td>\n",
       "      <td>0.0</td>\n",
       "      <td>4.292848</td>\n",
       "      <td>0.050377</td>\n",
       "      <td>3.857019</td>\n",
       "      <td>0.050377</td>\n",
       "      <td>3.857019</td>\n",
       "      <td>4.315860</td>\n",
       "    </tr>\n",
       "    <tr>\n",
       "      <th>std</th>\n",
       "      <td>0.0</td>\n",
       "      <td>0.000000</td>\n",
       "      <td>1.666453e-16</td>\n",
       "      <td>0.0</td>\n",
       "      <td>7.747462e+05</td>\n",
       "      <td>0.0</td>\n",
       "      <td>0.0</td>\n",
       "      <td>8.951772</td>\n",
       "      <td>6.930931</td>\n",
       "      <td>46.597784</td>\n",
       "      <td>...</td>\n",
       "      <td>3.273425</td>\n",
       "      <td>16.735357</td>\n",
       "      <td>42.551917</td>\n",
       "      <td>0.0</td>\n",
       "      <td>4.576888</td>\n",
       "      <td>4.395611</td>\n",
       "      <td>3.743557</td>\n",
       "      <td>4.395611</td>\n",
       "      <td>3.743557</td>\n",
       "      <td>4.585772</td>\n",
       "    </tr>\n",
       "    <tr>\n",
       "      <th>min</th>\n",
       "      <td>201.0</td>\n",
       "      <td>39.478178</td>\n",
       "      <td>-3.835411e-01</td>\n",
       "      <td>27.0</td>\n",
       "      <td>1.412114e+09</td>\n",
       "      <td>2014.0</td>\n",
       "      <td>10.0</td>\n",
       "      <td>1.000000</td>\n",
       "      <td>0.000000</td>\n",
       "      <td>1.000000</td>\n",
       "      <td>...</td>\n",
       "      <td>13.900000</td>\n",
       "      <td>18.000000</td>\n",
       "      <td>811.900000</td>\n",
       "      <td>0.0</td>\n",
       "      <td>0.000000</td>\n",
       "      <td>-19.000000</td>\n",
       "      <td>0.000000</td>\n",
       "      <td>-19.000000</td>\n",
       "      <td>0.000000</td>\n",
       "      <td>0.000000</td>\n",
       "    </tr>\n",
       "    <tr>\n",
       "      <th>25%</th>\n",
       "      <td>201.0</td>\n",
       "      <td>39.478178</td>\n",
       "      <td>-3.835411e-01</td>\n",
       "      <td>27.0</td>\n",
       "      <td>1.412784e+09</td>\n",
       "      <td>2014.0</td>\n",
       "      <td>10.0</td>\n",
       "      <td>8.000000</td>\n",
       "      <td>5.000000</td>\n",
       "      <td>47.000000</td>\n",
       "      <td>...</td>\n",
       "      <td>19.400000</td>\n",
       "      <td>54.000000</td>\n",
       "      <td>1009.675000</td>\n",
       "      <td>0.0</td>\n",
       "      <td>1.000000</td>\n",
       "      <td>-2.000000</td>\n",
       "      <td>1.000000</td>\n",
       "      <td>-2.000000</td>\n",
       "      <td>1.000000</td>\n",
       "      <td>1.000000</td>\n",
       "    </tr>\n",
       "    <tr>\n",
       "      <th>50%</th>\n",
       "      <td>201.0</td>\n",
       "      <td>39.478178</td>\n",
       "      <td>-3.835411e-01</td>\n",
       "      <td>27.0</td>\n",
       "      <td>1.413454e+09</td>\n",
       "      <td>2014.0</td>\n",
       "      <td>10.0</td>\n",
       "      <td>16.000000</td>\n",
       "      <td>11.000000</td>\n",
       "      <td>85.000000</td>\n",
       "      <td>...</td>\n",
       "      <td>21.350000</td>\n",
       "      <td>68.000000</td>\n",
       "      <td>1015.350000</td>\n",
       "      <td>0.0</td>\n",
       "      <td>3.000000</td>\n",
       "      <td>0.000000</td>\n",
       "      <td>3.000000</td>\n",
       "      <td>0.000000</td>\n",
       "      <td>3.000000</td>\n",
       "      <td>3.000000</td>\n",
       "    </tr>\n",
       "    <tr>\n",
       "      <th>75%</th>\n",
       "      <td>201.0</td>\n",
       "      <td>39.478178</td>\n",
       "      <td>-3.835411e-01</td>\n",
       "      <td>27.0</td>\n",
       "      <td>1.414123e+09</td>\n",
       "      <td>2014.0</td>\n",
       "      <td>10.0</td>\n",
       "      <td>24.000000</td>\n",
       "      <td>17.000000</td>\n",
       "      <td>122.000000</td>\n",
       "      <td>...</td>\n",
       "      <td>23.400000</td>\n",
       "      <td>81.000000</td>\n",
       "      <td>1021.500000</td>\n",
       "      <td>0.0</td>\n",
       "      <td>6.000000</td>\n",
       "      <td>2.333333</td>\n",
       "      <td>5.000000</td>\n",
       "      <td>2.333333</td>\n",
       "      <td>5.000000</td>\n",
       "      <td>6.000000</td>\n",
       "    </tr>\n",
       "    <tr>\n",
       "      <th>max</th>\n",
       "      <td>201.0</td>\n",
       "      <td>39.478178</td>\n",
       "      <td>-3.835411e-01</td>\n",
       "      <td>27.0</td>\n",
       "      <td>1.414793e+09</td>\n",
       "      <td>2014.0</td>\n",
       "      <td>10.0</td>\n",
       "      <td>31.000000</td>\n",
       "      <td>23.000000</td>\n",
       "      <td>168.000000</td>\n",
       "      <td>...</td>\n",
       "      <td>34.600000</td>\n",
       "      <td>91.000000</td>\n",
       "      <td>1084.900000</td>\n",
       "      <td>0.0</td>\n",
       "      <td>26.000000</td>\n",
       "      <td>17.000000</td>\n",
       "      <td>20.000000</td>\n",
       "      <td>17.000000</td>\n",
       "      <td>20.000000</td>\n",
       "      <td>26.000000</td>\n",
       "    </tr>\n",
       "  </tbody>\n",
       "</table>\n",
       "<p>8 rows × 24 columns</p>\n",
       "</div>"
      ],
      "text/plain": [
       "       station    latitude     longitude  numDocks     timestamp    year  \\\n",
       "count    745.0  745.000000  7.450000e+02     745.0  7.450000e+02   745.0   \n",
       "mean     201.0   39.478178 -3.835411e-01      27.0  1.413454e+09  2014.0   \n",
       "std        0.0    0.000000  1.666453e-16       0.0  7.747462e+05     0.0   \n",
       "min      201.0   39.478178 -3.835411e-01      27.0  1.412114e+09  2014.0   \n",
       "25%      201.0   39.478178 -3.835411e-01      27.0  1.412784e+09  2014.0   \n",
       "50%      201.0   39.478178 -3.835411e-01      27.0  1.413454e+09  2014.0   \n",
       "75%      201.0   39.478178 -3.835411e-01      27.0  1.414123e+09  2014.0   \n",
       "max      201.0   39.478178 -3.835411e-01      27.0  1.414793e+09  2014.0   \n",
       "\n",
       "       month         day        hour    weekhour  ...  temperature.C  \\\n",
       "count  745.0  745.000000  745.000000  745.000000  ...     744.000000   \n",
       "mean    10.0   16.013423   11.487248   84.583893  ...      21.707796   \n",
       "std      0.0    8.951772    6.930931   46.597784  ...       3.273425   \n",
       "min     10.0    1.000000    0.000000    1.000000  ...      13.900000   \n",
       "25%     10.0    8.000000    5.000000   47.000000  ...      19.400000   \n",
       "50%     10.0   16.000000   11.000000   85.000000  ...      21.350000   \n",
       "75%     10.0   24.000000   17.000000  122.000000  ...      23.400000   \n",
       "max     10.0   31.000000   23.000000  168.000000  ...      34.600000   \n",
       "\n",
       "       relHumidity.HR  airPressure.mb  precipitation.l.m2  bikes_3h_ago  \\\n",
       "count      744.000000      744.000000               744.0    741.000000   \n",
       "mean        65.943548     1002.257258                 0.0      4.292848   \n",
       "std         16.735357       42.551917                 0.0      4.576888   \n",
       "min         18.000000      811.900000                 0.0      0.000000   \n",
       "25%         54.000000     1009.675000                 0.0      1.000000   \n",
       "50%         68.000000     1015.350000                 0.0      3.000000   \n",
       "75%         81.000000     1021.500000                 0.0      6.000000   \n",
       "max         91.000000     1084.900000                 0.0     26.000000   \n",
       "\n",
       "       full_profile_3h_diff_bikes  full_profile_bikes  \\\n",
       "count                  574.000000          577.000000   \n",
       "mean                     0.050377            3.857019   \n",
       "std                      4.395611            3.743557   \n",
       "min                    -19.000000            0.000000   \n",
       "25%                     -2.000000            1.000000   \n",
       "50%                      0.000000            3.000000   \n",
       "75%                      2.333333            5.000000   \n",
       "max                     17.000000           20.000000   \n",
       "\n",
       "       short_profile_3h_diff_bikes  short_profile_bikes       bikes  \n",
       "count                   574.000000           577.000000  744.000000  \n",
       "mean                      0.050377             3.857019    4.315860  \n",
       "std                       4.395611             3.743557    4.585772  \n",
       "min                     -19.000000             0.000000    0.000000  \n",
       "25%                      -2.000000             1.000000    1.000000  \n",
       "50%                       0.000000             3.000000    3.000000  \n",
       "75%                       2.333333             5.000000    6.000000  \n",
       "max                      17.000000            20.000000   26.000000  \n",
       "\n",
       "[8 rows x 24 columns]"
      ]
     },
     "execution_count": 43,
     "metadata": {},
     "output_type": "execute_result"
    }
   ],
   "source": [
    "station_data.describe()"
   ]
  },
  {
   "cell_type": "code",
   "execution_count": 44,
   "metadata": {},
   "outputs": [],
   "source": [
    "train, dev = split_data(station_data)"
   ]
  },
  {
   "cell_type": "markdown",
   "metadata": {},
   "source": [
    "Here, we are checking the dimensions of the train and development datasets are as expected (i.e. same dimensions are roughly 80:20)."
   ]
  },
  {
   "cell_type": "code",
   "execution_count": 87,
   "metadata": {},
   "outputs": [
    {
     "name": "stdout",
     "output_type": "stream",
     "text": [
      "(597, 26) (148, 26)\n"
     ]
    }
   ],
   "source": [
    "print(train.shape, dev.shape)"
   ]
  },
  {
   "cell_type": "markdown",
   "metadata": {},
   "source": [
    "Now, we can check the distribution of our train and development datasets"
   ]
  },
  {
   "cell_type": "code",
   "execution_count": 46,
   "metadata": {},
   "outputs": [
    {
     "data": {
      "image/png": "[encoded data removed]",
      "text/plain": [
       "<Figure size 432x288 with 1 Axes>"
      ]
     },
     "metadata": {
      "needs_background": "light"
     },
     "output_type": "display_data"
    }
   ],
   "source": [
    "import matplotlib.pyplot as plt\n",
    "\n",
    "fig, ax = plt.subplots()\n",
    "train.plot.scatter(\"temperature.C\", \"bikes\", color=\"red\", marker=\"o\", ax=ax, label=\"train\")\n",
    "dev.plot.scatter(\"temperature.C\", \"bikes\", color=\"blue\", marker=\"x\", ax=ax, label=\"development\")\n",
    "ax.legend();"
   ]
  },
  {
   "cell_type": "code",
   "execution_count": 47,
   "metadata": {},
   "outputs": [
    {
     "data": {
      "text/plain": [
       "<AxesSubplot:xlabel='temperature.C', ylabel='bikes'>"
      ]
     },
     "execution_count": 47,
     "metadata": {},
     "output_type": "execute_result"
    },
    {
     "data": {
      "image/png": "[encoded data removed]",
      "text/plain": [
       "<Figure size 432x288 with 1 Axes>"
      ]
     },
     "metadata": {
      "needs_background": "light"
     },
     "output_type": "display_data"
    }
   ],
   "source": [
    "train.plot.scatter('temperature.C', 'bikes')"
   ]
  },
  {
   "cell_type": "markdown",
   "metadata": {},
   "source": [
    "### Correlation - Practise Analysis "
   ]
  },
  {
   "cell_type": "code",
   "execution_count": 90,
   "metadata": {},
   "outputs": [],
   "source": [
    "corr = station_data.corr()"
   ]
  },
  {
   "cell_type": "code",
   "execution_count": 97,
   "metadata": {},
   "outputs": [],
   "source": [
    "new_corr = corr.replace(1.0, np.nan)"
   ]
  },
  {
   "cell_type": "code",
   "execution_count": 102,
   "metadata": {},
   "outputs": [
    {
     "data": {
      "text/plain": [
       "bikes_3h_ago                   4.240492e-01\n",
       "short_profile_bikes            3.970195e-01\n",
       "full_profile_bikes             3.970195e-01\n",
       "short_profile_3h_diff_bikes    2.096902e-01\n",
       "full_profile_3h_diff_bikes     2.096902e-01\n",
       "day                            1.305759e-01\n",
       "timestamp                      1.301909e-01\n",
       "airPressure.mb                 1.015576e-01\n",
       "relHumidity.HR                 4.134018e-02\n",
       "windMeanSpeed.m.s              1.954402e-02\n",
       "windMaxSpeed.m.s               3.919557e-03\n",
       "longitude                      1.299937e-15\n",
       "latitude                      -2.982009e-16\n",
       "hour                          -1.434241e-02\n",
       "temperature.C                 -4.052000e-02\n",
       "isHoliday                     -5.630410e-02\n",
       "windDirection.grades          -8.767229e-02\n",
       "weekhour                      -9.862673e-02\n",
       "station                                 NaN\n",
       "numDocks                                NaN\n",
       "year                                    NaN\n",
       "month                                   NaN\n",
       "precipitation.l.m2                      NaN\n",
       "bikes                                   NaN\n",
       "Name: bikes, dtype: float64"
      ]
     },
     "execution_count": 102,
     "metadata": {},
     "output_type": "execute_result"
    }
   ],
   "source": [
    "new_corr['bikes'].sort_values(ascending=False)"
   ]
  },
  {
   "cell_type": "code",
   "execution_count": 110,
   "metadata": {},
   "outputs": [
    {
     "data": {
      "text/plain": [
       "<AxesSubplot:>"
      ]
     },
     "execution_count": 110,
     "metadata": {},
     "output_type": "execute_result"
    },
    {
     "data": {
      "image/png": "[encoded data removed]",
      "text/plain": [
       "<Figure size 432x288 with 2 Axes>"
      ]
     },
     "metadata": {
      "needs_background": "light"
     },
     "output_type": "display_data"
    }
   ],
   "source": [
    "%matplotlib inline\n",
    "\n",
    "import seaborn as sns\n",
    "\n",
    "# We define a diverging colourmap so that 0.0 is white\n",
    "cmap = sns.diverging_palette(10, 220, as_cmap=True)\n",
    "sns.heatmap(corr, vmin=-1.0, vmax=1.0, cmap=cmap)"
   ]
  },
  {
   "cell_type": "markdown",
   "metadata": {},
   "source": [
    "## Linear Regression - Practise Fitting Model"
   ]
  },
  {
   "cell_type": "markdown",
   "metadata": {},
   "source": [
    "First, make a copy of the training data but drop all columns/features except the 'temperature.C' feature. This should produce a 1-dimensional training set, as below:"
   ]
  },
  {
   "cell_type": "code",
   "execution_count": 155,
   "metadata": {},
   "outputs": [
    {
     "data": {
      "text/html": [
       "<div>\n",
       "<style scoped>\n",
       "    .dataframe tbody tr th:only-of-type {\n",
       "        vertical-align: middle;\n",
       "    }\n",
       "\n",
       "    .dataframe tbody tr th {\n",
       "        vertical-align: top;\n",
       "    }\n",
       "\n",
       "    .dataframe thead th {\n",
       "        text-align: right;\n",
       "    }\n",
       "</style>\n",
       "<table border=\"1\" class=\"dataframe\">\n",
       "  <thead>\n",
       "    <tr style=\"text-align: right;\">\n",
       "      <th></th>\n",
       "      <th>bikes_3h_ago</th>\n",
       "    </tr>\n",
       "  </thead>\n",
       "  <tbody>\n",
       "    <tr>\n",
       "      <th>0</th>\n",
       "      <td>NaN</td>\n",
       "    </tr>\n",
       "    <tr>\n",
       "      <th>1</th>\n",
       "      <td>NaN</td>\n",
       "    </tr>\n",
       "    <tr>\n",
       "      <th>3</th>\n",
       "      <td>1.0</td>\n",
       "    </tr>\n",
       "    <tr>\n",
       "      <th>4</th>\n",
       "      <td>0.0</td>\n",
       "    </tr>\n",
       "    <tr>\n",
       "      <th>6</th>\n",
       "      <td>0.0</td>\n",
       "    </tr>\n",
       "    <tr>\n",
       "      <th>...</th>\n",
       "      <td>...</td>\n",
       "    </tr>\n",
       "    <tr>\n",
       "      <th>740</th>\n",
       "      <td>1.0</td>\n",
       "    </tr>\n",
       "    <tr>\n",
       "      <th>741</th>\n",
       "      <td>1.0</td>\n",
       "    </tr>\n",
       "    <tr>\n",
       "      <th>742</th>\n",
       "      <td>1.0</td>\n",
       "    </tr>\n",
       "    <tr>\n",
       "      <th>743</th>\n",
       "      <td>0.0</td>\n",
       "    </tr>\n",
       "    <tr>\n",
       "      <th>744</th>\n",
       "      <td>2.0</td>\n",
       "    </tr>\n",
       "  </tbody>\n",
       "</table>\n",
       "<p>597 rows × 1 columns</p>\n",
       "</div>"
      ],
      "text/plain": [
       "     bikes_3h_ago\n",
       "0             NaN\n",
       "1             NaN\n",
       "3             1.0\n",
       "4             0.0\n",
       "6             0.0\n",
       "..            ...\n",
       "740           1.0\n",
       "741           1.0\n",
       "742           1.0\n",
       "743           0.0\n",
       "744           2.0\n",
       "\n",
       "[597 rows x 1 columns]"
      ]
     },
     "execution_count": 155,
     "metadata": {},
     "output_type": "execute_result"
    }
   ],
   "source": [
    "train_copy = train[['bikes_3h_ago']]\n",
    "train_copy"
   ]
  },
  {
   "cell_type": "markdown",
   "metadata": {},
   "source": [
    "Next, lets check for any null values"
   ]
  },
  {
   "cell_type": "code",
   "execution_count": 156,
   "metadata": {},
   "outputs": [],
   "source": [
    "def find_null(train_copy, feature):\n",
    "    print('Null value: {boolean}\\nNull value count: {count}'.format(\n",
    "            boolean=train_copy[feature].isnull().values.any(),\n",
    "            count=train_copy[feature].isnull().sum()))"
   ]
  },
  {
   "cell_type": "code",
   "execution_count": 157,
   "metadata": {},
   "outputs": [
    {
     "name": "stdout",
     "output_type": "stream",
     "text": [
      "Null value: True\n",
      "Null value count: 3\n"
     ]
    }
   ],
   "source": [
    "find_null(train_copy, 'bikes_3h_ago')"
   ]
  },
  {
   "cell_type": "code",
   "execution_count": 158,
   "metadata": {},
   "outputs": [
    {
     "data": {
      "text/plain": [
       "0      NaN\n",
       "1      NaN\n",
       "3      1.0\n",
       "4      0.0\n",
       "6      0.0\n",
       "      ... \n",
       "740    1.0\n",
       "741    1.0\n",
       "742    1.0\n",
       "743    0.0\n",
       "744    2.0\n",
       "Name: bikes_3h_ago, Length: 597, dtype: float64"
      ]
     },
     "execution_count": 158,
     "metadata": {},
     "output_type": "execute_result"
    }
   ],
   "source": [
    "train_copy['bikes_3h_ago']"
   ]
  },
  {
   "cell_type": "markdown",
   "metadata": {},
   "source": [
    "Let's train a simple imputer to take care of missing values (note: this could be the wrong thing to do, it may be that this data point may need to be removed...)"
   ]
  },
  {
   "cell_type": "code",
   "execution_count": 159,
   "metadata": {},
   "outputs": [
    {
     "data": {
      "text/plain": [
       "array([3.])"
      ]
     },
     "execution_count": 159,
     "metadata": {},
     "output_type": "execute_result"
    }
   ],
   "source": [
    "from sklearn.impute import SimpleImputer\n",
    "imputer = SimpleImputer(strategy=\"median\")\n",
    "imputer.fit(train_copy[['bikes_3h_ago']])\n",
    "imputer.statistics_"
   ]
  },
  {
   "cell_type": "code",
   "execution_count": 160,
   "metadata": {},
   "outputs": [],
   "source": [
    "X = imputer.transform(train_copy[['bikes_3h_ago']])\n",
    "train_copy = pd.DataFrame(X, columns=train_copy.columns)"
   ]
  },
  {
   "cell_type": "code",
   "execution_count": 161,
   "metadata": {},
   "outputs": [
    {
     "name": "stdout",
     "output_type": "stream",
     "text": [
      "Null value: False\n",
      "Null value count: 0\n"
     ]
    }
   ],
   "source": [
    "find_null(train_copy, 'bikes_3h_ago')"
   ]
  },
  {
   "cell_type": "markdown",
   "metadata": {},
   "source": [
    "Yay! This seems to have worked..."
   ]
  },
  {
   "cell_type": "markdown",
   "metadata": {},
   "source": [
    "Now, let's store our labels in a new dataframe"
   ]
  },
  {
   "cell_type": "code",
   "execution_count": 162,
   "metadata": {},
   "outputs": [
    {
     "data": {
      "text/html": [
       "<div>\n",
       "<style scoped>\n",
       "    .dataframe tbody tr th:only-of-type {\n",
       "        vertical-align: middle;\n",
       "    }\n",
       "\n",
       "    .dataframe tbody tr th {\n",
       "        vertical-align: top;\n",
       "    }\n",
       "\n",
       "    .dataframe thead th {\n",
       "        text-align: right;\n",
       "    }\n",
       "</style>\n",
       "<table border=\"1\" class=\"dataframe\">\n",
       "  <thead>\n",
       "    <tr style=\"text-align: right;\">\n",
       "      <th></th>\n",
       "      <th>bikes</th>\n",
       "    </tr>\n",
       "  </thead>\n",
       "  <tbody>\n",
       "    <tr>\n",
       "      <th>0</th>\n",
       "      <td>1.0</td>\n",
       "    </tr>\n",
       "    <tr>\n",
       "      <th>1</th>\n",
       "      <td>0.0</td>\n",
       "    </tr>\n",
       "    <tr>\n",
       "      <th>3</th>\n",
       "      <td>0.0</td>\n",
       "    </tr>\n",
       "    <tr>\n",
       "      <th>4</th>\n",
       "      <td>0.0</td>\n",
       "    </tr>\n",
       "    <tr>\n",
       "      <th>6</th>\n",
       "      <td>0.0</td>\n",
       "    </tr>\n",
       "    <tr>\n",
       "      <th>...</th>\n",
       "      <td>...</td>\n",
       "    </tr>\n",
       "    <tr>\n",
       "      <th>740</th>\n",
       "      <td>0.0</td>\n",
       "    </tr>\n",
       "    <tr>\n",
       "      <th>741</th>\n",
       "      <td>2.0</td>\n",
       "    </tr>\n",
       "    <tr>\n",
       "      <th>742</th>\n",
       "      <td>7.0</td>\n",
       "    </tr>\n",
       "    <tr>\n",
       "      <th>743</th>\n",
       "      <td>9.0</td>\n",
       "    </tr>\n",
       "    <tr>\n",
       "      <th>744</th>\n",
       "      <td>14.0</td>\n",
       "    </tr>\n",
       "  </tbody>\n",
       "</table>\n",
       "<p>597 rows × 1 columns</p>\n",
       "</div>"
      ],
      "text/plain": [
       "     bikes\n",
       "0      1.0\n",
       "1      0.0\n",
       "3      0.0\n",
       "4      0.0\n",
       "6      0.0\n",
       "..     ...\n",
       "740    0.0\n",
       "741    2.0\n",
       "742    7.0\n",
       "743    9.0\n",
       "744   14.0\n",
       "\n",
       "[597 rows x 1 columns]"
      ]
     },
     "execution_count": 162,
     "metadata": {},
     "output_type": "execute_result"
    }
   ],
   "source": [
    "train_copy_labels = train[['bikes']].copy()\n",
    "train_copy_labels"
   ]
  },
  {
   "cell_type": "code",
   "execution_count": 163,
   "metadata": {},
   "outputs": [
    {
     "name": "stdout",
     "output_type": "stream",
     "text": [
      "Null value: True\n",
      "Null value count: 1\n"
     ]
    }
   ],
   "source": [
    "find_null(train_copy_labels, 'bikes')"
   ]
  },
  {
   "cell_type": "code",
   "execution_count": 164,
   "metadata": {},
   "outputs": [
    {
     "data": {
      "text/plain": [
       "array([0.])"
      ]
     },
     "execution_count": 164,
     "metadata": {},
     "output_type": "execute_result"
    }
   ],
   "source": [
    "from sklearn.impute import SimpleImputer\n",
    "imputer = SimpleImputer(strategy=\"most_frequent\")\n",
    "imputer.fit(train_copy_labels[['bikes']])\n",
    "imputer.statistics_"
   ]
  },
  {
   "cell_type": "code",
   "execution_count": 165,
   "metadata": {},
   "outputs": [],
   "source": [
    "X = imputer.transform(train_copy_labels[['bikes']])\n",
    "train_copy_labels = pd.DataFrame(X, columns=train_copy_labels.columns)"
   ]
  },
  {
   "cell_type": "code",
   "execution_count": 166,
   "metadata": {},
   "outputs": [
    {
     "name": "stdout",
     "output_type": "stream",
     "text": [
      "Null value: False\n",
      "Null value count: 0\n"
     ]
    }
   ],
   "source": [
    "find_null(train_copy_labels, 'bikes')"
   ]
  },
  {
   "cell_type": "markdown",
   "metadata": {},
   "source": [
    "Ok, now we have **_imputed_** the labels too and are ready to fit our model.\n",
    "\n",
    "But first, let's check the shape of the training set and the labels have the same shape"
   ]
  },
  {
   "cell_type": "code",
   "execution_count": 167,
   "metadata": {},
   "outputs": [],
   "source": [
    "assert(train_copy.shape == train_copy_labels.shape)"
   ]
  },
  {
   "cell_type": "code",
   "execution_count": 168,
   "metadata": {
    "scrolled": true
   },
   "outputs": [
    {
     "data": {
      "text/plain": [
       "LinearRegression()"
      ]
     },
     "execution_count": 168,
     "metadata": {},
     "output_type": "execute_result"
    }
   ],
   "source": [
    "from sklearn.linear_model import LinearRegression\n",
    "reg = LinearRegression()\n",
    "reg.fit(train_copy, train_copy_labels)"
   ]
  },
  {
   "cell_type": "code",
   "execution_count": 179,
   "metadata": {},
   "outputs": [
    {
     "name": "stdout",
     "output_type": "stream",
     "text": [
      " Model gradient:  [0.38769428]\n",
      "Model intercept: [2.66200419]\n"
     ]
    }
   ],
   "source": [
    "print(\" Model gradient: \", reg.coef_[0])\n",
    "print(\"Model intercept:\", reg.intercept_)"
   ]
  },
  {
   "cell_type": "code",
   "execution_count": 169,
   "metadata": {},
   "outputs": [
    {
     "data": {
      "text/plain": [
       "array([[10.4158898]])"
      ]
     },
     "execution_count": 169,
     "metadata": {},
     "output_type": "execute_result"
    }
   ],
   "source": [
    "reg.predict([[20]])"
   ]
  },
  {
   "cell_type": "markdown",
   "metadata": {},
   "source": [
    "Now, lets prepare the dev set so we can evaluate performance."
   ]
  },
  {
   "cell_type": "code",
   "execution_count": 170,
   "metadata": {},
   "outputs": [
    {
     "data": {
      "text/html": [
       "<div>\n",
       "<style scoped>\n",
       "    .dataframe tbody tr th:only-of-type {\n",
       "        vertical-align: middle;\n",
       "    }\n",
       "\n",
       "    .dataframe tbody tr th {\n",
       "        vertical-align: top;\n",
       "    }\n",
       "\n",
       "    .dataframe thead th {\n",
       "        text-align: right;\n",
       "    }\n",
       "</style>\n",
       "<table border=\"1\" class=\"dataframe\">\n",
       "  <thead>\n",
       "    <tr style=\"text-align: right;\">\n",
       "      <th></th>\n",
       "      <th>bikes_3h_ago</th>\n",
       "    </tr>\n",
       "  </thead>\n",
       "  <tbody>\n",
       "    <tr>\n",
       "      <th>2</th>\n",
       "      <td>NaN</td>\n",
       "    </tr>\n",
       "    <tr>\n",
       "      <th>5</th>\n",
       "      <td>0.0</td>\n",
       "    </tr>\n",
       "    <tr>\n",
       "      <th>12</th>\n",
       "      <td>6.0</td>\n",
       "    </tr>\n",
       "    <tr>\n",
       "      <th>16</th>\n",
       "      <td>3.0</td>\n",
       "    </tr>\n",
       "    <tr>\n",
       "      <th>23</th>\n",
       "      <td>0.0</td>\n",
       "    </tr>\n",
       "    <tr>\n",
       "      <th>...</th>\n",
       "      <td>...</td>\n",
       "    </tr>\n",
       "    <tr>\n",
       "      <th>714</th>\n",
       "      <td>0.0</td>\n",
       "    </tr>\n",
       "    <tr>\n",
       "      <th>717</th>\n",
       "      <td>12.0</td>\n",
       "    </tr>\n",
       "    <tr>\n",
       "      <th>726</th>\n",
       "      <td>4.0</td>\n",
       "    </tr>\n",
       "    <tr>\n",
       "      <th>728</th>\n",
       "      <td>0.0</td>\n",
       "    </tr>\n",
       "    <tr>\n",
       "      <th>735</th>\n",
       "      <td>11.0</td>\n",
       "    </tr>\n",
       "  </tbody>\n",
       "</table>\n",
       "<p>148 rows × 1 columns</p>\n",
       "</div>"
      ],
      "text/plain": [
       "     bikes_3h_ago\n",
       "2             NaN\n",
       "5             0.0\n",
       "12            6.0\n",
       "16            3.0\n",
       "23            0.0\n",
       "..            ...\n",
       "714           0.0\n",
       "717          12.0\n",
       "726           4.0\n",
       "728           0.0\n",
       "735          11.0\n",
       "\n",
       "[148 rows x 1 columns]"
      ]
     },
     "execution_count": 170,
     "metadata": {},
     "output_type": "execute_result"
    }
   ],
   "source": [
    "dev_copy = dev[['bikes_3h_ago']]\n",
    "dev_copy"
   ]
  },
  {
   "cell_type": "code",
   "execution_count": 171,
   "metadata": {},
   "outputs": [
    {
     "name": "stdout",
     "output_type": "stream",
     "text": [
      "Null value: True\n",
      "Null value count: 1\n"
     ]
    }
   ],
   "source": [
    "find_null(dev_copy, 'bikes_3h_ago')"
   ]
  },
  {
   "cell_type": "code",
   "execution_count": 172,
   "metadata": {},
   "outputs": [
    {
     "data": {
      "text/plain": [
       "array([0.])"
      ]
     },
     "execution_count": 172,
     "metadata": {},
     "output_type": "execute_result"
    }
   ],
   "source": [
    "from sklearn.impute import SimpleImputer\n",
    "imputer = SimpleImputer(strategy=\"most_frequent\")\n",
    "imputer.fit(dev_copy[['bikes_3h_ago']])\n",
    "imputer.statistics_"
   ]
  },
  {
   "cell_type": "code",
   "execution_count": 173,
   "metadata": {},
   "outputs": [],
   "source": [
    "X = imputer.transform(dev_copy[['bikes_3h_ago']])\n",
    "dev_copy = pd.DataFrame(X, columns=dev_copy.columns)"
   ]
  },
  {
   "cell_type": "code",
   "execution_count": 174,
   "metadata": {},
   "outputs": [
    {
     "name": "stdout",
     "output_type": "stream",
     "text": [
      "Null value: False\n",
      "Null value count: 0\n"
     ]
    }
   ],
   "source": [
    "find_null(dev_copy, 'bikes_3h_ago')"
   ]
  },
  {
   "cell_type": "code",
   "execution_count": 175,
   "metadata": {},
   "outputs": [
    {
     "data": {
      "text/html": [
       "<div>\n",
       "<style scoped>\n",
       "    .dataframe tbody tr th:only-of-type {\n",
       "        vertical-align: middle;\n",
       "    }\n",
       "\n",
       "    .dataframe tbody tr th {\n",
       "        vertical-align: top;\n",
       "    }\n",
       "\n",
       "    .dataframe thead th {\n",
       "        text-align: right;\n",
       "    }\n",
       "</style>\n",
       "<table border=\"1\" class=\"dataframe\">\n",
       "  <thead>\n",
       "    <tr style=\"text-align: right;\">\n",
       "      <th></th>\n",
       "      <th>bikes</th>\n",
       "    </tr>\n",
       "  </thead>\n",
       "  <tbody>\n",
       "    <tr>\n",
       "      <th>2</th>\n",
       "      <td>0.0</td>\n",
       "    </tr>\n",
       "    <tr>\n",
       "      <th>5</th>\n",
       "      <td>0.0</td>\n",
       "    </tr>\n",
       "    <tr>\n",
       "      <th>12</th>\n",
       "      <td>7.0</td>\n",
       "    </tr>\n",
       "    <tr>\n",
       "      <th>16</th>\n",
       "      <td>10.0</td>\n",
       "    </tr>\n",
       "    <tr>\n",
       "      <th>23</th>\n",
       "      <td>3.0</td>\n",
       "    </tr>\n",
       "    <tr>\n",
       "      <th>...</th>\n",
       "      <td>...</td>\n",
       "    </tr>\n",
       "    <tr>\n",
       "      <th>714</th>\n",
       "      <td>12.0</td>\n",
       "    </tr>\n",
       "    <tr>\n",
       "      <th>717</th>\n",
       "      <td>3.0</td>\n",
       "    </tr>\n",
       "    <tr>\n",
       "      <th>726</th>\n",
       "      <td>0.0</td>\n",
       "    </tr>\n",
       "    <tr>\n",
       "      <th>728</th>\n",
       "      <td>1.0</td>\n",
       "    </tr>\n",
       "    <tr>\n",
       "      <th>735</th>\n",
       "      <td>1.0</td>\n",
       "    </tr>\n",
       "  </tbody>\n",
       "</table>\n",
       "<p>148 rows × 1 columns</p>\n",
       "</div>"
      ],
      "text/plain": [
       "     bikes\n",
       "2      0.0\n",
       "5      0.0\n",
       "12     7.0\n",
       "16    10.0\n",
       "23     3.0\n",
       "..     ...\n",
       "714   12.0\n",
       "717    3.0\n",
       "726    0.0\n",
       "728    1.0\n",
       "735    1.0\n",
       "\n",
       "[148 rows x 1 columns]"
      ]
     },
     "execution_count": 175,
     "metadata": {},
     "output_type": "execute_result"
    }
   ],
   "source": [
    "dev_copy_labels = dev[['bikes']].copy()\n",
    "dev_copy_labels"
   ]
  },
  {
   "cell_type": "code",
   "execution_count": 176,
   "metadata": {},
   "outputs": [
    {
     "name": "stdout",
     "output_type": "stream",
     "text": [
      "Null value: False\n",
      "Null value count: 0\n"
     ]
    }
   ],
   "source": [
    "find_null(dev_copy_labels, 'bikes')"
   ]
  },
  {
   "cell_type": "code",
   "execution_count": 177,
   "metadata": {},
   "outputs": [
    {
     "name": "stdout",
     "output_type": "stream",
     "text": [
      "2       0.0\n",
      "5       0.0\n",
      "12      7.0\n",
      "16     10.0\n",
      "23      3.0\n",
      "       ... \n",
      "714    12.0\n",
      "717     3.0\n",
      "726     0.0\n",
      "728     1.0\n",
      "735     1.0\n",
      "Name: bikes, Length: 148, dtype: float64\n"
     ]
    }
   ],
   "source": [
    "preds = reg.predict(dev_copy)\n",
    "ground_truth = dev_copy_labels['bikes']\n",
    "print(ground_truth)"
   ]
  },
  {
   "cell_type": "markdown",
   "metadata": {},
   "source": [
    "The graph below shows the development training points (blue) and the predictions given by the classifier (red). Obviously not very good..."
   ]
  },
  {
   "cell_type": "code",
   "execution_count": 180,
   "metadata": {},
   "outputs": [
    {
     "data": {
      "image/png": "[encoded data removed]",
      "text/plain": [
       "<Figure size 432x288 with 1 Axes>"
      ]
     },
     "metadata": {
      "needs_background": "light"
     },
     "output_type": "display_data"
    }
   ],
   "source": [
    "import matplotlib.pyplot as plt\n",
    "\n",
    "fig, ax = plt.subplots()\n",
    "\n",
    "dev.plot.scatter(\"bikes_3h_ago\", \"bikes\", color=\"blue\", marker=\"x\", ax=ax, label=\"development\")\n",
    "ax.plot(dev['bikes_3h_ago'], preds, linestyle=':', color='red')\n",
    "ax.legend();"
   ]
  },
  {
   "cell_type": "markdown",
   "metadata": {},
   "source": [
    "Lets visually compare our predictions and groud truths"
   ]
  },
  {
   "cell_type": "code",
   "execution_count": 181,
   "metadata": {},
   "outputs": [
    {
     "data": {
      "text/plain": [
       "0    0.0\n",
       "1    0.0\n",
       "2    6.0\n",
       "3    3.0\n",
       "4    0.0\n",
       "5    1.0\n",
       "6    0.0\n",
       "7    8.0\n",
       "8    5.0\n",
       "9    0.0\n",
       "Name: bikes_3h_ago, dtype: float64"
      ]
     },
     "execution_count": 181,
     "metadata": {},
     "output_type": "execute_result"
    }
   ],
   "source": [
    "dev_copy['bikes_3h_ago'][:10]"
   ]
  },
  {
   "cell_type": "code",
   "execution_count": 182,
   "metadata": {},
   "outputs": [
    {
     "data": {
      "text/plain": [
       "array([[2.66200419],\n",
       "       [2.66200419],\n",
       "       [4.98816987],\n",
       "       [3.82508703],\n",
       "       [2.66200419],\n",
       "       [3.04969847],\n",
       "       [2.66200419],\n",
       "       [5.76355843],\n",
       "       [4.60047559],\n",
       "       [2.66200419]])"
      ]
     },
     "execution_count": 182,
     "metadata": {},
     "output_type": "execute_result"
    }
   ],
   "source": [
    "preds[:10]"
   ]
  },
  {
   "cell_type": "code",
   "execution_count": 183,
   "metadata": {
    "scrolled": true
   },
   "outputs": [
    {
     "data": {
      "text/plain": [
       "2      0.0\n",
       "5      0.0\n",
       "12     7.0\n",
       "16    10.0\n",
       "23     3.0\n",
       "25     0.0\n",
       "30     0.0\n",
       "35     8.0\n",
       "36     5.0\n",
       "42     1.0\n",
       "Name: bikes, dtype: float64"
      ]
     },
     "execution_count": 183,
     "metadata": {},
     "output_type": "execute_result"
    }
   ],
   "source": [
    "ground_truth[:10]"
   ]
  },
  {
   "cell_type": "code",
   "execution_count": 154,
   "metadata": {},
   "outputs": [
    {
     "data": {
      "text/plain": [
       "2.8969826616626104"
      ]
     },
     "execution_count": 154,
     "metadata": {},
     "output_type": "execute_result"
    }
   ],
   "source": [
    "from sklearn.metrics import mean_absolute_error\n",
    "assert(len(ground_truth) == len(preds))\n",
    "error = mean_absolute_error(ground_truth, preds)\n",
    "error"
   ]
  },
  {
   "cell_type": "markdown",
   "metadata": {},
   "source": [
    "Let's try manually putting in some of the predictions to ensure the results are consistent (slack testing, you'll need to be more rigorous than this going forward...)"
   ]
  },
  {
   "cell_type": "code",
   "execution_count": 411,
   "metadata": {},
   "outputs": [
    {
     "data": {
      "text/plain": [
       "array([[4.50709437]])"
      ]
     },
     "execution_count": 411,
     "metadata": {},
     "output_type": "execute_result"
    }
   ],
   "source": [
    "reg.predict([[20.1]])"
   ]
  }
 ],
 "metadata": {
  "kernelspec": {
   "display_name": "Python 3",
   "language": "python",
   "name": "python3"
  },
  "language_info": {
   "codemirror_mode": {
    "name": "ipython",
    "version": 3
   },
   "file_extension": ".py",
   "mimetype": "text/x-python",
   "name": "python",
   "nbconvert_exporter": "python",
   "pygments_lexer": "ipython3",
   "version": "3.8.5"
  }
 },
 "nbformat": 4,
 "nbformat_minor": 4
}
