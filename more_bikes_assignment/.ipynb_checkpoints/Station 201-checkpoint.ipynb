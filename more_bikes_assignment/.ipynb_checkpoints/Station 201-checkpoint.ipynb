{
 "cells": [
  {
   "cell_type": "code",
   "execution_count": 206,
   "metadata": {
    "scrolled": false
   },
   "outputs": [],
   "source": [
    "STATION_PATH = 'Train/Train/station_201_deploy.csv'"
   ]
  },
  {
   "cell_type": "code",
   "execution_count": 207,
   "metadata": {},
   "outputs": [],
   "source": [
    "from data_handling import *\n",
    "station_data = load_data(STATION_PATH)"
   ]
  },
  {
   "cell_type": "markdown",
   "metadata": {},
   "source": [
    "The time conversion is  possible way of extracting seasonal/monthly features - not implemented yet."
   ]
  },
  {
   "cell_type": "code",
   "execution_count": 208,
   "metadata": {},
   "outputs": [
    {
     "name": "stdout",
     "output_type": "stream",
     "text": [
      "Unix Timestamp: 1412114400\n",
      "Timestamp conversion: 2014-09-30 22:00:00\n"
     ]
    }
   ],
   "source": [
    "from datetime import datetime\n",
    "ts = int(station_data.loc[0][4])\n",
    "\n",
    "# if you encounter a \"year is out of range\" error the timestamp\n",
    "# may be in milliseconds, try `ts /= 1000` in that case\n",
    "print('Unix Timestamp:',int(station_data.loc[0][4]))\n",
    "print('Timestamp conversion:', datetime.utcfromtimestamp(ts).strftime('%Y-%m-%d %H:%M:%S'))"
   ]
  },
  {
   "cell_type": "markdown",
   "metadata": {},
   "source": [
    "The below cells represent very basic analysis - just an initial glance at the data."
   ]
  },
  {
   "cell_type": "code",
   "execution_count": 209,
   "metadata": {},
   "outputs": [
    {
     "data": {
      "text/html": [
       "<div>\n",
       "<style scoped>\n",
       "    .dataframe tbody tr th:only-of-type {\n",
       "        vertical-align: middle;\n",
       "    }\n",
       "\n",
       "    .dataframe tbody tr th {\n",
       "        vertical-align: top;\n",
       "    }\n",
       "\n",
       "    .dataframe thead th {\n",
       "        text-align: right;\n",
       "    }\n",
       "</style>\n",
       "<table border=\"1\" class=\"dataframe\">\n",
       "  <thead>\n",
       "    <tr style=\"text-align: right;\">\n",
       "      <th></th>\n",
       "      <th>station</th>\n",
       "      <th>latitude</th>\n",
       "      <th>longitude</th>\n",
       "      <th>numDocks</th>\n",
       "      <th>timestamp</th>\n",
       "      <th>year</th>\n",
       "      <th>month</th>\n",
       "      <th>day</th>\n",
       "      <th>hour</th>\n",
       "      <th>weekday</th>\n",
       "      <th>...</th>\n",
       "      <th>temperature.C</th>\n",
       "      <th>relHumidity.HR</th>\n",
       "      <th>airPressure.mb</th>\n",
       "      <th>precipitation.l.m2</th>\n",
       "      <th>bikes_3h_ago</th>\n",
       "      <th>full_profile_3h_diff_bikes</th>\n",
       "      <th>full_profile_bikes</th>\n",
       "      <th>short_profile_3h_diff_bikes</th>\n",
       "      <th>short_profile_bikes</th>\n",
       "      <th>bikes</th>\n",
       "    </tr>\n",
       "  </thead>\n",
       "  <tbody>\n",
       "    <tr>\n",
       "      <th>740</th>\n",
       "      <td>201</td>\n",
       "      <td>39.478178</td>\n",
       "      <td>-0.383541</td>\n",
       "      <td>27</td>\n",
       "      <td>1.414778e+09</td>\n",
       "      <td>2014</td>\n",
       "      <td>10</td>\n",
       "      <td>31</td>\n",
       "      <td>19</td>\n",
       "      <td>Friday</td>\n",
       "      <td>...</td>\n",
       "      <td>20.2</td>\n",
       "      <td>80.0</td>\n",
       "      <td>1023.5</td>\n",
       "      <td>0.0</td>\n",
       "      <td>1.0</td>\n",
       "      <td>2.00</td>\n",
       "      <td>2.50</td>\n",
       "      <td>2.00</td>\n",
       "      <td>2.50</td>\n",
       "      <td>0.0</td>\n",
       "    </tr>\n",
       "    <tr>\n",
       "      <th>741</th>\n",
       "      <td>201</td>\n",
       "      <td>39.478178</td>\n",
       "      <td>-0.383541</td>\n",
       "      <td>27</td>\n",
       "      <td>1.414782e+09</td>\n",
       "      <td>2014</td>\n",
       "      <td>10</td>\n",
       "      <td>31</td>\n",
       "      <td>20</td>\n",
       "      <td>Friday</td>\n",
       "      <td>...</td>\n",
       "      <td>20.2</td>\n",
       "      <td>82.0</td>\n",
       "      <td>1023.9</td>\n",
       "      <td>0.0</td>\n",
       "      <td>1.0</td>\n",
       "      <td>3.00</td>\n",
       "      <td>3.25</td>\n",
       "      <td>3.00</td>\n",
       "      <td>3.25</td>\n",
       "      <td>2.0</td>\n",
       "    </tr>\n",
       "    <tr>\n",
       "      <th>742</th>\n",
       "      <td>201</td>\n",
       "      <td>39.478178</td>\n",
       "      <td>-0.383541</td>\n",
       "      <td>27</td>\n",
       "      <td>1.414786e+09</td>\n",
       "      <td>2014</td>\n",
       "      <td>10</td>\n",
       "      <td>31</td>\n",
       "      <td>21</td>\n",
       "      <td>Friday</td>\n",
       "      <td>...</td>\n",
       "      <td>20.0</td>\n",
       "      <td>83.0</td>\n",
       "      <td>1024.0</td>\n",
       "      <td>0.0</td>\n",
       "      <td>1.0</td>\n",
       "      <td>2.25</td>\n",
       "      <td>2.75</td>\n",
       "      <td>2.25</td>\n",
       "      <td>2.75</td>\n",
       "      <td>7.0</td>\n",
       "    </tr>\n",
       "    <tr>\n",
       "      <th>743</th>\n",
       "      <td>201</td>\n",
       "      <td>39.478178</td>\n",
       "      <td>-0.383541</td>\n",
       "      <td>27</td>\n",
       "      <td>1.414789e+09</td>\n",
       "      <td>2014</td>\n",
       "      <td>10</td>\n",
       "      <td>31</td>\n",
       "      <td>22</td>\n",
       "      <td>Friday</td>\n",
       "      <td>...</td>\n",
       "      <td>19.3</td>\n",
       "      <td>84.0</td>\n",
       "      <td>1024.4</td>\n",
       "      <td>0.0</td>\n",
       "      <td>0.0</td>\n",
       "      <td>3.25</td>\n",
       "      <td>5.75</td>\n",
       "      <td>3.25</td>\n",
       "      <td>5.75</td>\n",
       "      <td>9.0</td>\n",
       "    </tr>\n",
       "    <tr>\n",
       "      <th>744</th>\n",
       "      <td>201</td>\n",
       "      <td>39.478178</td>\n",
       "      <td>-0.383541</td>\n",
       "      <td>27</td>\n",
       "      <td>1.414793e+09</td>\n",
       "      <td>2014</td>\n",
       "      <td>10</td>\n",
       "      <td>31</td>\n",
       "      <td>23</td>\n",
       "      <td>Friday</td>\n",
       "      <td>...</td>\n",
       "      <td>19.1</td>\n",
       "      <td>86.0</td>\n",
       "      <td>1024.1</td>\n",
       "      <td>0.0</td>\n",
       "      <td>2.0</td>\n",
       "      <td>7.50</td>\n",
       "      <td>10.75</td>\n",
       "      <td>7.50</td>\n",
       "      <td>10.75</td>\n",
       "      <td>14.0</td>\n",
       "    </tr>\n",
       "  </tbody>\n",
       "</table>\n",
       "<p>5 rows × 25 columns</p>\n",
       "</div>"
      ],
      "text/plain": [
       "     station   latitude  longitude  numDocks     timestamp  year  month  day  \\\n",
       "740      201  39.478178  -0.383541        27  1.414778e+09  2014     10   31   \n",
       "741      201  39.478178  -0.383541        27  1.414782e+09  2014     10   31   \n",
       "742      201  39.478178  -0.383541        27  1.414786e+09  2014     10   31   \n",
       "743      201  39.478178  -0.383541        27  1.414789e+09  2014     10   31   \n",
       "744      201  39.478178  -0.383541        27  1.414793e+09  2014     10   31   \n",
       "\n",
       "     hour weekday  ...  temperature.C  relHumidity.HR  airPressure.mb  \\\n",
       "740    19  Friday  ...           20.2            80.0          1023.5   \n",
       "741    20  Friday  ...           20.2            82.0          1023.9   \n",
       "742    21  Friday  ...           20.0            83.0          1024.0   \n",
       "743    22  Friday  ...           19.3            84.0          1024.4   \n",
       "744    23  Friday  ...           19.1            86.0          1024.1   \n",
       "\n",
       "     precipitation.l.m2  bikes_3h_ago  full_profile_3h_diff_bikes  \\\n",
       "740                 0.0           1.0                        2.00   \n",
       "741                 0.0           1.0                        3.00   \n",
       "742                 0.0           1.0                        2.25   \n",
       "743                 0.0           0.0                        3.25   \n",
       "744                 0.0           2.0                        7.50   \n",
       "\n",
       "     full_profile_bikes  short_profile_3h_diff_bikes  short_profile_bikes  \\\n",
       "740                2.50                         2.00                 2.50   \n",
       "741                3.25                         3.00                 3.25   \n",
       "742                2.75                         2.25                 2.75   \n",
       "743                5.75                         3.25                 5.75   \n",
       "744               10.75                         7.50                10.75   \n",
       "\n",
       "     bikes  \n",
       "740    0.0  \n",
       "741    2.0  \n",
       "742    7.0  \n",
       "743    9.0  \n",
       "744   14.0  \n",
       "\n",
       "[5 rows x 25 columns]"
      ]
     },
     "execution_count": 209,
     "metadata": {},
     "output_type": "execute_result"
    }
   ],
   "source": [
    "station_data.head()\n",
    "station_data.tail()"
   ]
  },
  {
   "cell_type": "code",
   "execution_count": 210,
   "metadata": {},
   "outputs": [
    {
     "name": "stdout",
     "output_type": "stream",
     "text": [
      "<class 'pandas.core.frame.DataFrame'>\n",
      "RangeIndex: 745 entries, 0 to 744\n",
      "Data columns (total 25 columns):\n",
      " #   Column                       Non-Null Count  Dtype  \n",
      "---  ------                       --------------  -----  \n",
      " 0   station                      745 non-null    int64  \n",
      " 1   latitude                     745 non-null    float64\n",
      " 2   longitude                    745 non-null    float64\n",
      " 3   numDocks                     745 non-null    int64  \n",
      " 4   timestamp                    745 non-null    float64\n",
      " 5   year                         745 non-null    int64  \n",
      " 6   month                        745 non-null    int64  \n",
      " 7   day                          745 non-null    int64  \n",
      " 8   hour                         745 non-null    int64  \n",
      " 9   weekday                      745 non-null    object \n",
      " 10  weekhour                     745 non-null    int64  \n",
      " 11  isHoliday                    745 non-null    int64  \n",
      " 12  windMaxSpeed.m.s             744 non-null    float64\n",
      " 13  windMeanSpeed.m.s            744 non-null    float64\n",
      " 14  windDirection.grades         740 non-null    float64\n",
      " 15  temperature.C                744 non-null    float64\n",
      " 16  relHumidity.HR               744 non-null    float64\n",
      " 17  airPressure.mb               744 non-null    float64\n",
      " 18  precipitation.l.m2           744 non-null    float64\n",
      " 19  bikes_3h_ago                 741 non-null    float64\n",
      " 20  full_profile_3h_diff_bikes   574 non-null    float64\n",
      " 21  full_profile_bikes           577 non-null    float64\n",
      " 22  short_profile_3h_diff_bikes  574 non-null    float64\n",
      " 23  short_profile_bikes          577 non-null    float64\n",
      " 24  bikes                        744 non-null    float64\n",
      "dtypes: float64(16), int64(8), object(1)\n",
      "memory usage: 145.6+ KB\n"
     ]
    }
   ],
   "source": [
    "station_data.info()"
   ]
  },
  {
   "cell_type": "markdown",
   "metadata": {},
   "source": [
    "___\n",
    "**RUNNING TODO: Take care of the null values**\n",
    "- These are irrelevant when looking at a station in isolation\n",
    "___\n"
   ]
  },
  {
   "cell_type": "code",
   "execution_count": 211,
   "metadata": {},
   "outputs": [
    {
     "data": {
      "text/plain": [
       "201    745\n",
       "Name: station, dtype: int64"
      ]
     },
     "execution_count": 211,
     "metadata": {},
     "output_type": "execute_result"
    }
   ],
   "source": [
    "station_data['station'].value_counts()"
   ]
  },
  {
   "cell_type": "markdown",
   "metadata": {},
   "source": [
    "___\n",
    "**RUNNING TODO: Consider which values are repeated and seperate categorical data**\n",
    "___"
   ]
  },
  {
   "cell_type": "code",
   "execution_count": 212,
   "metadata": {
    "scrolled": false
   },
   "outputs": [
    {
     "data": {
      "text/html": [
       "<div>\n",
       "<style scoped>\n",
       "    .dataframe tbody tr th:only-of-type {\n",
       "        vertical-align: middle;\n",
       "    }\n",
       "\n",
       "    .dataframe tbody tr th {\n",
       "        vertical-align: top;\n",
       "    }\n",
       "\n",
       "    .dataframe thead th {\n",
       "        text-align: right;\n",
       "    }\n",
       "</style>\n",
       "<table border=\"1\" class=\"dataframe\">\n",
       "  <thead>\n",
       "    <tr style=\"text-align: right;\">\n",
       "      <th></th>\n",
       "      <th>station</th>\n",
       "      <th>latitude</th>\n",
       "      <th>longitude</th>\n",
       "      <th>numDocks</th>\n",
       "      <th>timestamp</th>\n",
       "      <th>year</th>\n",
       "      <th>month</th>\n",
       "      <th>day</th>\n",
       "      <th>hour</th>\n",
       "      <th>weekhour</th>\n",
       "      <th>...</th>\n",
       "      <th>temperature.C</th>\n",
       "      <th>relHumidity.HR</th>\n",
       "      <th>airPressure.mb</th>\n",
       "      <th>precipitation.l.m2</th>\n",
       "      <th>bikes_3h_ago</th>\n",
       "      <th>full_profile_3h_diff_bikes</th>\n",
       "      <th>full_profile_bikes</th>\n",
       "      <th>short_profile_3h_diff_bikes</th>\n",
       "      <th>short_profile_bikes</th>\n",
       "      <th>bikes</th>\n",
       "    </tr>\n",
       "  </thead>\n",
       "  <tbody>\n",
       "    <tr>\n",
       "      <th>count</th>\n",
       "      <td>745.0</td>\n",
       "      <td>745.000000</td>\n",
       "      <td>7.450000e+02</td>\n",
       "      <td>745.0</td>\n",
       "      <td>7.450000e+02</td>\n",
       "      <td>745.0</td>\n",
       "      <td>745.0</td>\n",
       "      <td>745.000000</td>\n",
       "      <td>745.000000</td>\n",
       "      <td>745.000000</td>\n",
       "      <td>...</td>\n",
       "      <td>744.000000</td>\n",
       "      <td>744.000000</td>\n",
       "      <td>744.000000</td>\n",
       "      <td>744.0</td>\n",
       "      <td>741.000000</td>\n",
       "      <td>574.000000</td>\n",
       "      <td>577.000000</td>\n",
       "      <td>574.000000</td>\n",
       "      <td>577.000000</td>\n",
       "      <td>744.000000</td>\n",
       "    </tr>\n",
       "    <tr>\n",
       "      <th>mean</th>\n",
       "      <td>201.0</td>\n",
       "      <td>39.478178</td>\n",
       "      <td>-3.835411e-01</td>\n",
       "      <td>27.0</td>\n",
       "      <td>1.413454e+09</td>\n",
       "      <td>2014.0</td>\n",
       "      <td>10.0</td>\n",
       "      <td>16.013423</td>\n",
       "      <td>11.487248</td>\n",
       "      <td>84.583893</td>\n",
       "      <td>...</td>\n",
       "      <td>21.707796</td>\n",
       "      <td>65.943548</td>\n",
       "      <td>1002.257258</td>\n",
       "      <td>0.0</td>\n",
       "      <td>4.292848</td>\n",
       "      <td>0.050377</td>\n",
       "      <td>3.857019</td>\n",
       "      <td>0.050377</td>\n",
       "      <td>3.857019</td>\n",
       "      <td>4.315860</td>\n",
       "    </tr>\n",
       "    <tr>\n",
       "      <th>std</th>\n",
       "      <td>0.0</td>\n",
       "      <td>0.000000</td>\n",
       "      <td>1.666453e-16</td>\n",
       "      <td>0.0</td>\n",
       "      <td>7.747462e+05</td>\n",
       "      <td>0.0</td>\n",
       "      <td>0.0</td>\n",
       "      <td>8.951772</td>\n",
       "      <td>6.930931</td>\n",
       "      <td>46.597784</td>\n",
       "      <td>...</td>\n",
       "      <td>3.273425</td>\n",
       "      <td>16.735357</td>\n",
       "      <td>42.551917</td>\n",
       "      <td>0.0</td>\n",
       "      <td>4.576888</td>\n",
       "      <td>4.395611</td>\n",
       "      <td>3.743557</td>\n",
       "      <td>4.395611</td>\n",
       "      <td>3.743557</td>\n",
       "      <td>4.585772</td>\n",
       "    </tr>\n",
       "    <tr>\n",
       "      <th>min</th>\n",
       "      <td>201.0</td>\n",
       "      <td>39.478178</td>\n",
       "      <td>-3.835411e-01</td>\n",
       "      <td>27.0</td>\n",
       "      <td>1.412114e+09</td>\n",
       "      <td>2014.0</td>\n",
       "      <td>10.0</td>\n",
       "      <td>1.000000</td>\n",
       "      <td>0.000000</td>\n",
       "      <td>1.000000</td>\n",
       "      <td>...</td>\n",
       "      <td>13.900000</td>\n",
       "      <td>18.000000</td>\n",
       "      <td>811.900000</td>\n",
       "      <td>0.0</td>\n",
       "      <td>0.000000</td>\n",
       "      <td>-19.000000</td>\n",
       "      <td>0.000000</td>\n",
       "      <td>-19.000000</td>\n",
       "      <td>0.000000</td>\n",
       "      <td>0.000000</td>\n",
       "    </tr>\n",
       "    <tr>\n",
       "      <th>25%</th>\n",
       "      <td>201.0</td>\n",
       "      <td>39.478178</td>\n",
       "      <td>-3.835411e-01</td>\n",
       "      <td>27.0</td>\n",
       "      <td>1.412784e+09</td>\n",
       "      <td>2014.0</td>\n",
       "      <td>10.0</td>\n",
       "      <td>8.000000</td>\n",
       "      <td>5.000000</td>\n",
       "      <td>47.000000</td>\n",
       "      <td>...</td>\n",
       "      <td>19.400000</td>\n",
       "      <td>54.000000</td>\n",
       "      <td>1009.675000</td>\n",
       "      <td>0.0</td>\n",
       "      <td>1.000000</td>\n",
       "      <td>-2.000000</td>\n",
       "      <td>1.000000</td>\n",
       "      <td>-2.000000</td>\n",
       "      <td>1.000000</td>\n",
       "      <td>1.000000</td>\n",
       "    </tr>\n",
       "    <tr>\n",
       "      <th>50%</th>\n",
       "      <td>201.0</td>\n",
       "      <td>39.478178</td>\n",
       "      <td>-3.835411e-01</td>\n",
       "      <td>27.0</td>\n",
       "      <td>1.413454e+09</td>\n",
       "      <td>2014.0</td>\n",
       "      <td>10.0</td>\n",
       "      <td>16.000000</td>\n",
       "      <td>11.000000</td>\n",
       "      <td>85.000000</td>\n",
       "      <td>...</td>\n",
       "      <td>21.350000</td>\n",
       "      <td>68.000000</td>\n",
       "      <td>1015.350000</td>\n",
       "      <td>0.0</td>\n",
       "      <td>3.000000</td>\n",
       "      <td>0.000000</td>\n",
       "      <td>3.000000</td>\n",
       "      <td>0.000000</td>\n",
       "      <td>3.000000</td>\n",
       "      <td>3.000000</td>\n",
       "    </tr>\n",
       "    <tr>\n",
       "      <th>75%</th>\n",
       "      <td>201.0</td>\n",
       "      <td>39.478178</td>\n",
       "      <td>-3.835411e-01</td>\n",
       "      <td>27.0</td>\n",
       "      <td>1.414123e+09</td>\n",
       "      <td>2014.0</td>\n",
       "      <td>10.0</td>\n",
       "      <td>24.000000</td>\n",
       "      <td>17.000000</td>\n",
       "      <td>122.000000</td>\n",
       "      <td>...</td>\n",
       "      <td>23.400000</td>\n",
       "      <td>81.000000</td>\n",
       "      <td>1021.500000</td>\n",
       "      <td>0.0</td>\n",
       "      <td>6.000000</td>\n",
       "      <td>2.333333</td>\n",
       "      <td>5.000000</td>\n",
       "      <td>2.333333</td>\n",
       "      <td>5.000000</td>\n",
       "      <td>6.000000</td>\n",
       "    </tr>\n",
       "    <tr>\n",
       "      <th>max</th>\n",
       "      <td>201.0</td>\n",
       "      <td>39.478178</td>\n",
       "      <td>-3.835411e-01</td>\n",
       "      <td>27.0</td>\n",
       "      <td>1.414793e+09</td>\n",
       "      <td>2014.0</td>\n",
       "      <td>10.0</td>\n",
       "      <td>31.000000</td>\n",
       "      <td>23.000000</td>\n",
       "      <td>168.000000</td>\n",
       "      <td>...</td>\n",
       "      <td>34.600000</td>\n",
       "      <td>91.000000</td>\n",
       "      <td>1084.900000</td>\n",
       "      <td>0.0</td>\n",
       "      <td>26.000000</td>\n",
       "      <td>17.000000</td>\n",
       "      <td>20.000000</td>\n",
       "      <td>17.000000</td>\n",
       "      <td>20.000000</td>\n",
       "      <td>26.000000</td>\n",
       "    </tr>\n",
       "  </tbody>\n",
       "</table>\n",
       "<p>8 rows × 24 columns</p>\n",
       "</div>"
      ],
      "text/plain": [
       "       station    latitude     longitude  numDocks     timestamp    year  \\\n",
       "count    745.0  745.000000  7.450000e+02     745.0  7.450000e+02   745.0   \n",
       "mean     201.0   39.478178 -3.835411e-01      27.0  1.413454e+09  2014.0   \n",
       "std        0.0    0.000000  1.666453e-16       0.0  7.747462e+05     0.0   \n",
       "min      201.0   39.478178 -3.835411e-01      27.0  1.412114e+09  2014.0   \n",
       "25%      201.0   39.478178 -3.835411e-01      27.0  1.412784e+09  2014.0   \n",
       "50%      201.0   39.478178 -3.835411e-01      27.0  1.413454e+09  2014.0   \n",
       "75%      201.0   39.478178 -3.835411e-01      27.0  1.414123e+09  2014.0   \n",
       "max      201.0   39.478178 -3.835411e-01      27.0  1.414793e+09  2014.0   \n",
       "\n",
       "       month         day        hour    weekhour  ...  temperature.C  \\\n",
       "count  745.0  745.000000  745.000000  745.000000  ...     744.000000   \n",
       "mean    10.0   16.013423   11.487248   84.583893  ...      21.707796   \n",
       "std      0.0    8.951772    6.930931   46.597784  ...       3.273425   \n",
       "min     10.0    1.000000    0.000000    1.000000  ...      13.900000   \n",
       "25%     10.0    8.000000    5.000000   47.000000  ...      19.400000   \n",
       "50%     10.0   16.000000   11.000000   85.000000  ...      21.350000   \n",
       "75%     10.0   24.000000   17.000000  122.000000  ...      23.400000   \n",
       "max     10.0   31.000000   23.000000  168.000000  ...      34.600000   \n",
       "\n",
       "       relHumidity.HR  airPressure.mb  precipitation.l.m2  bikes_3h_ago  \\\n",
       "count      744.000000      744.000000               744.0    741.000000   \n",
       "mean        65.943548     1002.257258                 0.0      4.292848   \n",
       "std         16.735357       42.551917                 0.0      4.576888   \n",
       "min         18.000000      811.900000                 0.0      0.000000   \n",
       "25%         54.000000     1009.675000                 0.0      1.000000   \n",
       "50%         68.000000     1015.350000                 0.0      3.000000   \n",
       "75%         81.000000     1021.500000                 0.0      6.000000   \n",
       "max         91.000000     1084.900000                 0.0     26.000000   \n",
       "\n",
       "       full_profile_3h_diff_bikes  full_profile_bikes  \\\n",
       "count                  574.000000          577.000000   \n",
       "mean                     0.050377            3.857019   \n",
       "std                      4.395611            3.743557   \n",
       "min                    -19.000000            0.000000   \n",
       "25%                     -2.000000            1.000000   \n",
       "50%                      0.000000            3.000000   \n",
       "75%                      2.333333            5.000000   \n",
       "max                     17.000000           20.000000   \n",
       "\n",
       "       short_profile_3h_diff_bikes  short_profile_bikes       bikes  \n",
       "count                   574.000000           577.000000  744.000000  \n",
       "mean                      0.050377             3.857019    4.315860  \n",
       "std                       4.395611             3.743557    4.585772  \n",
       "min                     -19.000000             0.000000    0.000000  \n",
       "25%                      -2.000000             1.000000    1.000000  \n",
       "50%                       0.000000             3.000000    3.000000  \n",
       "75%                       2.333333             5.000000    6.000000  \n",
       "max                      17.000000            20.000000   26.000000  \n",
       "\n",
       "[8 rows x 24 columns]"
      ]
     },
     "execution_count": 212,
     "metadata": {},
     "output_type": "execute_result"
    }
   ],
   "source": [
    "station_data.describe()"
   ]
  },
  {
   "cell_type": "markdown",
   "metadata": {},
   "source": [
    "Before performing train and test split, we want to analyse the distribution of target instances. \n",
    "\n",
    "- The first step is to get a frequency distribution (or count) of the unique target examples (i.e. 'bikes')\n",
    "- Secondly, how to split and get a representative distribution (especially where there is only 1 example?)"
   ]
  },
  {
   "cell_type": "markdown",
   "metadata": {},
   "source": [
    "**TODO: consider more sophisticated fix**\n",
    "- crude fix to remove whole example with null target i.e. bikes: NaN"
   ]
  },
  {
   "cell_type": "code",
   "execution_count": 213,
   "metadata": {},
   "outputs": [
    {
     "name": "stdout",
     "output_type": "stream",
     "text": [
      "Null value: True\n",
      "Null value count: 1\n",
      "Null locations:\n",
      "[603]\n"
     ]
    }
   ],
   "source": [
    "print_null_indication(station_data, 'bikes')\n",
    "print_null_locs(station_data, 'bikes')"
   ]
  },
  {
   "cell_type": "code",
   "execution_count": 214,
   "metadata": {},
   "outputs": [
    {
     "data": {
      "text/plain": [
       "(745, 25)"
      ]
     },
     "execution_count": 214,
     "metadata": {},
     "output_type": "execute_result"
    }
   ],
   "source": [
    "station_data.shape"
   ]
  },
  {
   "cell_type": "code",
   "execution_count": 215,
   "metadata": {},
   "outputs": [],
   "source": [
    "station_data = station_data.drop([603]).reset_index(drop=True)"
   ]
  },
  {
   "cell_type": "code",
   "execution_count": 216,
   "metadata": {},
   "outputs": [
    {
     "data": {
      "text/plain": [
       "25"
      ]
     },
     "execution_count": 216,
     "metadata": {},
     "output_type": "execute_result"
    }
   ],
   "source": [
    "station_data['bikes'].nunique()"
   ]
  },
  {
   "cell_type": "code",
   "execution_count": 217,
   "metadata": {},
   "outputs": [
    {
     "data": {
      "text/plain": [
       "0.0     18.817204\n",
       "1.0     16.397849\n",
       "2.0     10.618280\n",
       "3.0      8.333333\n",
       "4.0      7.795699\n",
       "6.0      7.258065\n",
       "5.0      6.989247\n",
       "7.0      4.838710\n",
       "8.0      4.569892\n",
       "9.0      3.360215\n",
       "10.0     2.150538\n",
       "11.0     1.747312\n",
       "12.0     0.940860\n",
       "14.0     0.806452\n",
       "15.0     0.806452\n",
       "16.0     0.806452\n",
       "20.0     0.806452\n",
       "13.0     0.672043\n",
       "17.0     0.672043\n",
       "19.0     0.537634\n",
       "24.0     0.268817\n",
       "18.0     0.268817\n",
       "22.0     0.268817\n",
       "23.0     0.134409\n",
       "26.0     0.134409\n",
       "Name: bikes, dtype: float64"
      ]
     },
     "execution_count": 217,
     "metadata": {},
     "output_type": "execute_result"
    }
   ],
   "source": [
    "station_data['bikes'].sort_values(axis=0).value_counts(normalize=True) * 100"
   ]
  },
  {
   "cell_type": "code",
   "execution_count": 218,
   "metadata": {},
   "outputs": [
    {
     "data": {
      "text/plain": [
       "0.0     140\n",
       "1.0     122\n",
       "2.0      79\n",
       "3.0      62\n",
       "4.0      58\n",
       "6.0      54\n",
       "5.0      52\n",
       "7.0      36\n",
       "8.0      34\n",
       "9.0      25\n",
       "10.0     16\n",
       "11.0     13\n",
       "12.0      7\n",
       "20.0      6\n",
       "16.0      6\n",
       "15.0      6\n",
       "14.0      6\n",
       "17.0      5\n",
       "13.0      5\n",
       "19.0      4\n",
       "24.0      2\n",
       "18.0      2\n",
       "22.0      2\n",
       "23.0      1\n",
       "26.0      1\n",
       "Name: bikes, dtype: int64"
      ]
     },
     "execution_count": 218,
     "metadata": {},
     "output_type": "execute_result"
    }
   ],
   "source": [
    "station_data['bikes'].value_counts()"
   ]
  },
  {
   "cell_type": "markdown",
   "metadata": {},
   "source": [
    "Lets create a bike_category category so we can perform stratified sampling when creating our train and development datasets:\n",
    "- It is important to have a sufficient number of instances in your dataset for each stratum, or else the estimate of the stratum’s importance may be biased. \n",
    "- This means that you should not have too many strata, and each stratum should be large enough"
   ]
  },
  {
   "cell_type": "code",
   "execution_count": 230,
   "metadata": {},
   "outputs": [],
   "source": [
    "station_data['bike_category'] = pd.cut(station_data['bikes'],\n",
    "                                      bins=[0, 3, 7, 12, np.inf],\n",
    "                                      labels=[1, 2, 3, 4],include_lowest=True)"
   ]
  },
  {
   "cell_type": "markdown",
   "metadata": {},
   "source": [
    "It's worth taking a look at the distribution of newly generated categoties to make sure they are representative (at least to some extent for now...)"
   ]
  },
  {
   "cell_type": "code",
   "execution_count": 231,
   "metadata": {},
   "outputs": [
    {
     "data": {
      "image/png": "[encoded data removed]",
      "text/plain": [
       "<Figure size 432x288 with 1 Axes>"
      ]
     },
     "metadata": {
      "needs_background": "light"
     },
     "output_type": "display_data"
    }
   ],
   "source": [
    "station_data['bike_category'].hist();"
   ]
  },
  {
   "cell_type": "code",
   "execution_count": 232,
   "metadata": {},
   "outputs": [],
   "source": [
    "assert(station_data['bike_category'].shape == (744,))"
   ]
  },
  {
   "cell_type": "code",
   "execution_count": 233,
   "metadata": {},
   "outputs": [
    {
     "data": {
      "image/png": "[encoded data removed]",
      "text/plain": [
       "<Figure size 432x288 with 1 Axes>"
      ]
     },
     "metadata": {
      "needs_background": "light"
     },
     "output_type": "display_data"
    }
   ],
   "source": [
    "station_data['bikes'].hist();"
   ]
  },
  {
   "cell_type": "code",
   "execution_count": 234,
   "metadata": {},
   "outputs": [
    {
     "data": {
      "text/plain": [
       "0.0     119\n",
       "1.0      95\n",
       "2.0      58\n",
       "3.0      50\n",
       "6.0      46\n",
       "4.0      44\n",
       "5.0      42\n",
       "7.0      28\n",
       "8.0      28\n",
       "9.0      22\n",
       "10.0     12\n",
       "11.0     11\n",
       "15.0      6\n",
       "13.0      5\n",
       "20.0      5\n",
       "14.0      4\n",
       "16.0      4\n",
       "17.0      3\n",
       "12.0      3\n",
       "19.0      3\n",
       "24.0      2\n",
       "22.0      2\n",
       "18.0      2\n",
       "26.0      1\n",
       "Name: bikes, dtype: int64"
      ]
     },
     "execution_count": 234,
     "metadata": {},
     "output_type": "execute_result"
    },
    {
     "data": {
      "image/png": "[encoded data removed]",
      "text/plain": [
       "<Figure size 432x288 with 1 Axes>"
      ]
     },
     "metadata": {
      "needs_background": "light"
     },
     "output_type": "display_data"
    }
   ],
   "source": [
    "train, dev = strat_split_data(station_data)\n",
    "train['bikes'].hist();\n",
    "train['bikes'].value_counts()"
   ]
  },
  {
   "cell_type": "code",
   "execution_count": 235,
   "metadata": {},
   "outputs": [
    {
     "data": {
      "text/plain": [
       "1.0     27\n",
       "2.0     21\n",
       "0.0     21\n",
       "4.0     14\n",
       "3.0     12\n",
       "5.0     10\n",
       "7.0      8\n",
       "6.0      8\n",
       "8.0      6\n",
       "12.0     4\n",
       "10.0     4\n",
       "9.0      3\n",
       "11.0     2\n",
       "16.0     2\n",
       "17.0     2\n",
       "14.0     2\n",
       "23.0     1\n",
       "19.0     1\n",
       "20.0     1\n",
       "Name: bikes, dtype: int64"
      ]
     },
     "execution_count": 235,
     "metadata": {},
     "output_type": "execute_result"
    },
    {
     "data": {
      "image/png": "[encoded data removed]",
      "text/plain": [
       "<Figure size 432x288 with 1 Axes>"
      ]
     },
     "metadata": {
      "needs_background": "light"
     },
     "output_type": "display_data"
    }
   ],
   "source": [
    "dev['bikes'].hist();\n",
    "dev['bikes'].value_counts()"
   ]
  },
  {
   "cell_type": "markdown",
   "metadata": {},
   "source": [
    "After we have used the 'bike_category', we should remove it from both the train and development sets as per the below code:"
   ]
  },
  {
   "cell_type": "code",
   "execution_count": 236,
   "metadata": {},
   "outputs": [],
   "source": [
    "for set_ in (train, dev):\n",
    "    set_.drop(\"bike_category\", axis=1, inplace=True)"
   ]
  },
  {
   "cell_type": "markdown",
   "metadata": {},
   "source": [
    "Here, we are checking the dimensions of the train and development datasets are as expected (i.e. same dimensions are roughly 80:20)."
   ]
  },
  {
   "cell_type": "code",
   "execution_count": 237,
   "metadata": {},
   "outputs": [
    {
     "name": "stdout",
     "output_type": "stream",
     "text": [
      "Train: (595, 25)\n",
      "Dev: (149, 25)\n"
     ]
    }
   ],
   "source": [
    "display_shapes(train, dev)"
   ]
  },
  {
   "cell_type": "markdown",
   "metadata": {},
   "source": [
    "Now, we can check the distribution of our train and development datasets"
   ]
  },
  {
   "cell_type": "code",
   "execution_count": 238,
   "metadata": {},
   "outputs": [
    {
     "data": {
      "image/png": "[encoded data removed]",
      "text/plain": [
       "<Figure size 432x288 with 1 Axes>"
      ]
     },
     "metadata": {
      "needs_background": "light"
     },
     "output_type": "display_data"
    }
   ],
   "source": [
    "display_train_test_dist(train, dev, 'bikes_3h_ago', 'bikes')"
   ]
  },
  {
   "cell_type": "code",
   "execution_count": 239,
   "metadata": {},
   "outputs": [
    {
     "data": {
      "image/png": "[encoded data removed]",
      "text/plain": [
       "<Figure size 432x288 with 1 Axes>"
      ]
     },
     "metadata": {
      "needs_background": "light"
     },
     "output_type": "display_data"
    }
   ],
   "source": [
    "scatter_plot(train, 'bikes_3h_ago', 'bikes')"
   ]
  },
  {
   "cell_type": "markdown",
   "metadata": {},
   "source": [
    "### Correlation - Practise Analysis "
   ]
  },
  {
   "cell_type": "code",
   "execution_count": 240,
   "metadata": {},
   "outputs": [],
   "source": [
    "corr = station_data.corr()"
   ]
  },
  {
   "cell_type": "code",
   "execution_count": 241,
   "metadata": {},
   "outputs": [],
   "source": [
    "new_corr = corr.replace(1.0, np.nan)"
   ]
  },
  {
   "cell_type": "code",
   "execution_count": 242,
   "metadata": {},
   "outputs": [
    {
     "data": {
      "text/plain": [
       "bikes_3h_ago                   4.240492e-01\n",
       "short_profile_bikes            3.970195e-01\n",
       "full_profile_bikes             3.970195e-01\n",
       "short_profile_3h_diff_bikes    2.096902e-01\n",
       "full_profile_3h_diff_bikes     2.096902e-01\n",
       "day                            1.305759e-01\n",
       "timestamp                      1.301909e-01\n",
       "airPressure.mb                 1.015576e-01\n",
       "relHumidity.HR                 4.134018e-02\n",
       "windMeanSpeed.m.s              1.954402e-02\n",
       "windMaxSpeed.m.s               3.919557e-03\n",
       "longitude                      1.299937e-15\n",
       "latitude                      -2.982009e-16\n",
       "hour                          -1.434241e-02\n",
       "temperature.C                 -4.052000e-02\n",
       "isHoliday                     -5.630410e-02\n",
       "windDirection.grades          -8.767229e-02\n",
       "weekhour                      -9.862673e-02\n",
       "station                                 NaN\n",
       "numDocks                                NaN\n",
       "year                                    NaN\n",
       "month                                   NaN\n",
       "precipitation.l.m2                      NaN\n",
       "bikes                                   NaN\n",
       "Name: bikes, dtype: float64"
      ]
     },
     "execution_count": 242,
     "metadata": {},
     "output_type": "execute_result"
    }
   ],
   "source": [
    "new_corr['bikes'].sort_values(ascending=False)"
   ]
  },
  {
   "cell_type": "code",
   "execution_count": 243,
   "metadata": {},
   "outputs": [
    {
     "data": {
      "image/png": "[encoded data removed]",
      "text/plain": [
       "<Figure size 432x288 with 2 Axes>"
      ]
     },
     "metadata": {
      "needs_background": "light"
     },
     "output_type": "display_data"
    }
   ],
   "source": [
    "%matplotlib inline\n",
    "\n",
    "import seaborn as sns\n",
    "\n",
    "# We define a diverging colourmap so that 0.0 is white\n",
    "cmap = sns.diverging_palette(10, 220, as_cmap=True)\n",
    "sns.heatmap(corr, vmin=-1.0, vmax=1.0, cmap=cmap);"
   ]
  },
  {
   "cell_type": "markdown",
   "metadata": {},
   "source": [
    "## Model Fitting"
   ]
  },
  {
   "cell_type": "markdown",
   "metadata": {},
   "source": [
    "First, make a copy of the training data but drop all columns/features except the 'temperature.C' feature. This should produce a 1-dimensional training set, as below:"
   ]
  },
  {
   "cell_type": "code",
   "execution_count": 244,
   "metadata": {},
   "outputs": [
    {
     "data": {
      "text/html": [
       "<div>\n",
       "<style scoped>\n",
       "    .dataframe tbody tr th:only-of-type {\n",
       "        vertical-align: middle;\n",
       "    }\n",
       "\n",
       "    .dataframe tbody tr th {\n",
       "        vertical-align: top;\n",
       "    }\n",
       "\n",
       "    .dataframe thead th {\n",
       "        text-align: right;\n",
       "    }\n",
       "</style>\n",
       "<table border=\"1\" class=\"dataframe\">\n",
       "  <thead>\n",
       "    <tr style=\"text-align: right;\">\n",
       "      <th></th>\n",
       "      <th>bikes_3h_ago</th>\n",
       "    </tr>\n",
       "  </thead>\n",
       "  <tbody>\n",
       "    <tr>\n",
       "      <th>105</th>\n",
       "      <td>8.0</td>\n",
       "    </tr>\n",
       "    <tr>\n",
       "      <th>628</th>\n",
       "      <td>5.0</td>\n",
       "    </tr>\n",
       "    <tr>\n",
       "      <th>298</th>\n",
       "      <td>5.0</td>\n",
       "    </tr>\n",
       "    <tr>\n",
       "      <th>153</th>\n",
       "      <td>3.0</td>\n",
       "    </tr>\n",
       "    <tr>\n",
       "      <th>243</th>\n",
       "      <td>16.0</td>\n",
       "    </tr>\n",
       "    <tr>\n",
       "      <th>...</th>\n",
       "      <td>...</td>\n",
       "    </tr>\n",
       "    <tr>\n",
       "      <th>526</th>\n",
       "      <td>3.0</td>\n",
       "    </tr>\n",
       "    <tr>\n",
       "      <th>629</th>\n",
       "      <td>6.0</td>\n",
       "    </tr>\n",
       "    <tr>\n",
       "      <th>193</th>\n",
       "      <td>4.0</td>\n",
       "    </tr>\n",
       "    <tr>\n",
       "      <th>480</th>\n",
       "      <td>1.0</td>\n",
       "    </tr>\n",
       "    <tr>\n",
       "      <th>647</th>\n",
       "      <td>0.0</td>\n",
       "    </tr>\n",
       "  </tbody>\n",
       "</table>\n",
       "<p>595 rows × 1 columns</p>\n",
       "</div>"
      ],
      "text/plain": [
       "     bikes_3h_ago\n",
       "105           8.0\n",
       "628           5.0\n",
       "298           5.0\n",
       "153           3.0\n",
       "243          16.0\n",
       "..            ...\n",
       "526           3.0\n",
       "629           6.0\n",
       "193           4.0\n",
       "480           1.0\n",
       "647           0.0\n",
       "\n",
       "[595 rows x 1 columns]"
      ]
     },
     "execution_count": 244,
     "metadata": {},
     "output_type": "execute_result"
    }
   ],
   "source": [
    "train_copy = train[['bikes_3h_ago']]\n",
    "train_copy"
   ]
  },
  {
   "cell_type": "markdown",
   "metadata": {},
   "source": [
    "Next, lets check for any null values"
   ]
  },
  {
   "cell_type": "code",
   "execution_count": 245,
   "metadata": {},
   "outputs": [
    {
     "name": "stdout",
     "output_type": "stream",
     "text": [
      "Null value: True\n",
      "Null value count: 2\n"
     ]
    }
   ],
   "source": [
    "print_null_indication(train_copy, 'bikes_3h_ago')"
   ]
  },
  {
   "cell_type": "code",
   "execution_count": 246,
   "metadata": {},
   "outputs": [
    {
     "data": {
      "text/plain": [
       "105     8.0\n",
       "628     5.0\n",
       "298     5.0\n",
       "153     3.0\n",
       "243    16.0\n",
       "       ... \n",
       "526     3.0\n",
       "629     6.0\n",
       "193     4.0\n",
       "480     1.0\n",
       "647     0.0\n",
       "Name: bikes_3h_ago, Length: 595, dtype: float64"
      ]
     },
     "execution_count": 246,
     "metadata": {},
     "output_type": "execute_result"
    }
   ],
   "source": [
    "train_copy['bikes_3h_ago']"
   ]
  },
  {
   "cell_type": "code",
   "execution_count": 247,
   "metadata": {},
   "outputs": [
    {
     "data": {
      "text/html": [
       "<div>\n",
       "<style scoped>\n",
       "    .dataframe tbody tr th:only-of-type {\n",
       "        vertical-align: middle;\n",
       "    }\n",
       "\n",
       "    .dataframe tbody tr th {\n",
       "        vertical-align: top;\n",
       "    }\n",
       "\n",
       "    .dataframe thead th {\n",
       "        text-align: right;\n",
       "    }\n",
       "</style>\n",
       "<table border=\"1\" class=\"dataframe\">\n",
       "  <thead>\n",
       "    <tr style=\"text-align: right;\">\n",
       "      <th></th>\n",
       "      <th>bikes_3h_ago</th>\n",
       "    </tr>\n",
       "  </thead>\n",
       "  <tbody>\n",
       "    <tr>\n",
       "      <th>0</th>\n",
       "      <td>8.0</td>\n",
       "    </tr>\n",
       "    <tr>\n",
       "      <th>1</th>\n",
       "      <td>5.0</td>\n",
       "    </tr>\n",
       "    <tr>\n",
       "      <th>2</th>\n",
       "      <td>5.0</td>\n",
       "    </tr>\n",
       "    <tr>\n",
       "      <th>3</th>\n",
       "      <td>3.0</td>\n",
       "    </tr>\n",
       "    <tr>\n",
       "      <th>4</th>\n",
       "      <td>16.0</td>\n",
       "    </tr>\n",
       "    <tr>\n",
       "      <th>...</th>\n",
       "      <td>...</td>\n",
       "    </tr>\n",
       "    <tr>\n",
       "      <th>590</th>\n",
       "      <td>3.0</td>\n",
       "    </tr>\n",
       "    <tr>\n",
       "      <th>591</th>\n",
       "      <td>6.0</td>\n",
       "    </tr>\n",
       "    <tr>\n",
       "      <th>592</th>\n",
       "      <td>4.0</td>\n",
       "    </tr>\n",
       "    <tr>\n",
       "      <th>593</th>\n",
       "      <td>1.0</td>\n",
       "    </tr>\n",
       "    <tr>\n",
       "      <th>594</th>\n",
       "      <td>0.0</td>\n",
       "    </tr>\n",
       "  </tbody>\n",
       "</table>\n",
       "<p>595 rows × 1 columns</p>\n",
       "</div>"
      ],
      "text/plain": [
       "     bikes_3h_ago\n",
       "0             8.0\n",
       "1             5.0\n",
       "2             5.0\n",
       "3             3.0\n",
       "4            16.0\n",
       "..            ...\n",
       "590           3.0\n",
       "591           6.0\n",
       "592           4.0\n",
       "593           1.0\n",
       "594           0.0\n",
       "\n",
       "[595 rows x 1 columns]"
      ]
     },
     "execution_count": 247,
     "metadata": {},
     "output_type": "execute_result"
    }
   ],
   "source": [
    "train_copy = simple_imputer(train_copy, 'bikes_3h_ago', 'median')\n",
    "train_copy"
   ]
  },
  {
   "cell_type": "markdown",
   "metadata": {},
   "source": [
    "Let's train a simple imputer to take care of missing values (note: this could be the wrong thing to do, it may be that this data point may need to be removed...)"
   ]
  },
  {
   "cell_type": "code",
   "execution_count": 248,
   "metadata": {},
   "outputs": [
    {
     "name": "stdout",
     "output_type": "stream",
     "text": [
      "Null value: False\n",
      "Null value count: 0\n"
     ]
    }
   ],
   "source": [
    "print_null_indication(train_copy, 'bikes_3h_ago')"
   ]
  },
  {
   "cell_type": "markdown",
   "metadata": {},
   "source": [
    "Yay! This seems to have worked..."
   ]
  },
  {
   "cell_type": "markdown",
   "metadata": {},
   "source": [
    "Now, let's store our labels in a new dataframe"
   ]
  },
  {
   "cell_type": "code",
   "execution_count": 249,
   "metadata": {},
   "outputs": [
    {
     "data": {
      "text/html": [
       "<div>\n",
       "<style scoped>\n",
       "    .dataframe tbody tr th:only-of-type {\n",
       "        vertical-align: middle;\n",
       "    }\n",
       "\n",
       "    .dataframe tbody tr th {\n",
       "        vertical-align: top;\n",
       "    }\n",
       "\n",
       "    .dataframe thead th {\n",
       "        text-align: right;\n",
       "    }\n",
       "</style>\n",
       "<table border=\"1\" class=\"dataframe\">\n",
       "  <thead>\n",
       "    <tr style=\"text-align: right;\">\n",
       "      <th></th>\n",
       "      <th>bikes</th>\n",
       "    </tr>\n",
       "  </thead>\n",
       "  <tbody>\n",
       "    <tr>\n",
       "      <th>105</th>\n",
       "      <td>4.0</td>\n",
       "    </tr>\n",
       "    <tr>\n",
       "      <th>628</th>\n",
       "      <td>6.0</td>\n",
       "    </tr>\n",
       "    <tr>\n",
       "      <th>298</th>\n",
       "      <td>7.0</td>\n",
       "    </tr>\n",
       "    <tr>\n",
       "      <th>153</th>\n",
       "      <td>20.0</td>\n",
       "    </tr>\n",
       "    <tr>\n",
       "      <th>243</th>\n",
       "      <td>4.0</td>\n",
       "    </tr>\n",
       "    <tr>\n",
       "      <th>...</th>\n",
       "      <td>...</td>\n",
       "    </tr>\n",
       "    <tr>\n",
       "      <th>526</th>\n",
       "      <td>1.0</td>\n",
       "    </tr>\n",
       "    <tr>\n",
       "      <th>629</th>\n",
       "      <td>6.0</td>\n",
       "    </tr>\n",
       "    <tr>\n",
       "      <th>193</th>\n",
       "      <td>1.0</td>\n",
       "    </tr>\n",
       "    <tr>\n",
       "      <th>480</th>\n",
       "      <td>2.0</td>\n",
       "    </tr>\n",
       "    <tr>\n",
       "      <th>647</th>\n",
       "      <td>11.0</td>\n",
       "    </tr>\n",
       "  </tbody>\n",
       "</table>\n",
       "<p>595 rows × 1 columns</p>\n",
       "</div>"
      ],
      "text/plain": [
       "     bikes\n",
       "105    4.0\n",
       "628    6.0\n",
       "298    7.0\n",
       "153   20.0\n",
       "243    4.0\n",
       "..     ...\n",
       "526    1.0\n",
       "629    6.0\n",
       "193    1.0\n",
       "480    2.0\n",
       "647   11.0\n",
       "\n",
       "[595 rows x 1 columns]"
      ]
     },
     "execution_count": 249,
     "metadata": {},
     "output_type": "execute_result"
    }
   ],
   "source": [
    "train_copy_labels = train[['bikes']].copy()\n",
    "train_copy_labels"
   ]
  },
  {
   "cell_type": "code",
   "execution_count": 250,
   "metadata": {},
   "outputs": [
    {
     "name": "stdout",
     "output_type": "stream",
     "text": [
      "Null value: False\n",
      "Null value count: 0\n"
     ]
    }
   ],
   "source": [
    "print_null_indication(train_copy_labels, 'bikes')"
   ]
  },
  {
   "cell_type": "markdown",
   "metadata": {},
   "source": [
    "Ok, now we have **_imputed_** the labels too and are ready to fit our model.\n",
    "\n",
    "But first, let's check the shape of the training set and the labels have the same shape"
   ]
  },
  {
   "cell_type": "code",
   "execution_count": 251,
   "metadata": {},
   "outputs": [
    {
     "name": "stdout",
     "output_type": "stream",
     "text": [
      "Train: (595, 1)\n",
      "Dev: (595, 1)\n"
     ]
    }
   ],
   "source": [
    "display_shapes(train_copy, train_copy_labels)"
   ]
  },
  {
   "cell_type": "markdown",
   "metadata": {},
   "source": [
    "Below, we train a few **regressors** including an **ensemble**..."
   ]
  },
  {
   "cell_type": "code",
   "execution_count": 252,
   "metadata": {},
   "outputs": [],
   "source": [
    "from sklearn.linear_model import LinearRegression\n",
    "lin_reg = LinearRegression()"
   ]
  },
  {
   "cell_type": "code",
   "execution_count": 253,
   "metadata": {},
   "outputs": [],
   "source": [
    "from sklearn.tree import DecisionTreeRegressor\n",
    "tree_reg = DecisionTreeRegressor()"
   ]
  },
  {
   "cell_type": "code",
   "execution_count": 254,
   "metadata": {},
   "outputs": [],
   "source": [
    "from sklearn.ensemble import RandomForestRegressor\n",
    "rf_reg = RandomForestRegressor(n_estimators=10, random_state=1)"
   ]
  },
  {
   "cell_type": "code",
   "execution_count": 255,
   "metadata": {},
   "outputs": [
    {
     "data": {
      "text/plain": [
       "VotingRegressor(estimators=[('linr', LinearRegression()),\n",
       "                            ('dt', DecisionTreeRegressor()),\n",
       "                            ('rfg',\n",
       "                             RandomForestRegressor(n_estimators=10,\n",
       "                                                   random_state=1))])"
      ]
     },
     "execution_count": 255,
     "metadata": {},
     "output_type": "execute_result"
    }
   ],
   "source": [
    "from sklearn.ensemble import VotingRegressor\n",
    "voting_reg = VotingRegressor([('linr', lin_reg), ('dt', tree_reg), ('rfg', rf_reg)])\n",
    "voting_reg.fit(train_copy, train_copy_labels.values.ravel())"
   ]
  },
  {
   "cell_type": "markdown",
   "metadata": {},
   "source": [
    "Now, lets prepare the dev set so we can evaluate performance."
   ]
  },
  {
   "cell_type": "code",
   "execution_count": 256,
   "metadata": {},
   "outputs": [
    {
     "data": {
      "text/html": [
       "<div>\n",
       "<style scoped>\n",
       "    .dataframe tbody tr th:only-of-type {\n",
       "        vertical-align: middle;\n",
       "    }\n",
       "\n",
       "    .dataframe tbody tr th {\n",
       "        vertical-align: top;\n",
       "    }\n",
       "\n",
       "    .dataframe thead th {\n",
       "        text-align: right;\n",
       "    }\n",
       "</style>\n",
       "<table border=\"1\" class=\"dataframe\">\n",
       "  <thead>\n",
       "    <tr style=\"text-align: right;\">\n",
       "      <th></th>\n",
       "      <th>bikes_3h_ago</th>\n",
       "    </tr>\n",
       "  </thead>\n",
       "  <tbody>\n",
       "    <tr>\n",
       "      <th>590</th>\n",
       "      <td>2.0</td>\n",
       "    </tr>\n",
       "    <tr>\n",
       "      <th>467</th>\n",
       "      <td>10.0</td>\n",
       "    </tr>\n",
       "    <tr>\n",
       "      <th>330</th>\n",
       "      <td>2.0</td>\n",
       "    </tr>\n",
       "    <tr>\n",
       "      <th>18</th>\n",
       "      <td>2.0</td>\n",
       "    </tr>\n",
       "    <tr>\n",
       "      <th>327</th>\n",
       "      <td>5.0</td>\n",
       "    </tr>\n",
       "    <tr>\n",
       "      <th>...</th>\n",
       "      <td>...</td>\n",
       "    </tr>\n",
       "    <tr>\n",
       "      <th>711</th>\n",
       "      <td>4.0</td>\n",
       "    </tr>\n",
       "    <tr>\n",
       "      <th>391</th>\n",
       "      <td>0.0</td>\n",
       "    </tr>\n",
       "    <tr>\n",
       "      <th>680</th>\n",
       "      <td>1.0</td>\n",
       "    </tr>\n",
       "    <tr>\n",
       "      <th>550</th>\n",
       "      <td>0.0</td>\n",
       "    </tr>\n",
       "    <tr>\n",
       "      <th>63</th>\n",
       "      <td>6.0</td>\n",
       "    </tr>\n",
       "  </tbody>\n",
       "</table>\n",
       "<p>149 rows × 1 columns</p>\n",
       "</div>"
      ],
      "text/plain": [
       "     bikes_3h_ago\n",
       "590           2.0\n",
       "467          10.0\n",
       "330           2.0\n",
       "18            2.0\n",
       "327           5.0\n",
       "..            ...\n",
       "711           4.0\n",
       "391           0.0\n",
       "680           1.0\n",
       "550           0.0\n",
       "63            6.0\n",
       "\n",
       "[149 rows x 1 columns]"
      ]
     },
     "execution_count": 256,
     "metadata": {},
     "output_type": "execute_result"
    }
   ],
   "source": [
    "dev_copy = dev[['bikes_3h_ago']]\n",
    "dev_copy"
   ]
  },
  {
   "cell_type": "code",
   "execution_count": 257,
   "metadata": {},
   "outputs": [
    {
     "name": "stdout",
     "output_type": "stream",
     "text": [
      "Null value: True\n",
      "Null value count: 2\n"
     ]
    }
   ],
   "source": [
    "print_null_indication(dev_copy, 'bikes_3h_ago')"
   ]
  },
  {
   "cell_type": "code",
   "execution_count": 258,
   "metadata": {},
   "outputs": [],
   "source": [
    "dev_copy = simple_imputer(dev_copy, 'bikes_3h_ago', 'mean')"
   ]
  },
  {
   "cell_type": "code",
   "execution_count": 259,
   "metadata": {},
   "outputs": [
    {
     "name": "stdout",
     "output_type": "stream",
     "text": [
      "Null value: False\n",
      "Null value count: 0\n"
     ]
    }
   ],
   "source": [
    "print_null_indication(dev_copy, 'bikes_3h_ago')"
   ]
  },
  {
   "cell_type": "code",
   "execution_count": 260,
   "metadata": {},
   "outputs": [
    {
     "data": {
      "text/html": [
       "<div>\n",
       "<style scoped>\n",
       "    .dataframe tbody tr th:only-of-type {\n",
       "        vertical-align: middle;\n",
       "    }\n",
       "\n",
       "    .dataframe tbody tr th {\n",
       "        vertical-align: top;\n",
       "    }\n",
       "\n",
       "    .dataframe thead th {\n",
       "        text-align: right;\n",
       "    }\n",
       "</style>\n",
       "<table border=\"1\" class=\"dataframe\">\n",
       "  <thead>\n",
       "    <tr style=\"text-align: right;\">\n",
       "      <th></th>\n",
       "      <th>bikes</th>\n",
       "    </tr>\n",
       "  </thead>\n",
       "  <tbody>\n",
       "    <tr>\n",
       "      <th>590</th>\n",
       "      <td>1.0</td>\n",
       "    </tr>\n",
       "    <tr>\n",
       "      <th>467</th>\n",
       "      <td>10.0</td>\n",
       "    </tr>\n",
       "    <tr>\n",
       "      <th>330</th>\n",
       "      <td>4.0</td>\n",
       "    </tr>\n",
       "    <tr>\n",
       "      <th>18</th>\n",
       "      <td>10.0</td>\n",
       "    </tr>\n",
       "    <tr>\n",
       "      <th>327</th>\n",
       "      <td>2.0</td>\n",
       "    </tr>\n",
       "    <tr>\n",
       "      <th>...</th>\n",
       "      <td>...</td>\n",
       "    </tr>\n",
       "    <tr>\n",
       "      <th>711</th>\n",
       "      <td>2.0</td>\n",
       "    </tr>\n",
       "    <tr>\n",
       "      <th>391</th>\n",
       "      <td>7.0</td>\n",
       "    </tr>\n",
       "    <tr>\n",
       "      <th>680</th>\n",
       "      <td>14.0</td>\n",
       "    </tr>\n",
       "    <tr>\n",
       "      <th>550</th>\n",
       "      <td>1.0</td>\n",
       "    </tr>\n",
       "    <tr>\n",
       "      <th>63</th>\n",
       "      <td>0.0</td>\n",
       "    </tr>\n",
       "  </tbody>\n",
       "</table>\n",
       "<p>149 rows × 1 columns</p>\n",
       "</div>"
      ],
      "text/plain": [
       "     bikes\n",
       "590    1.0\n",
       "467   10.0\n",
       "330    4.0\n",
       "18    10.0\n",
       "327    2.0\n",
       "..     ...\n",
       "711    2.0\n",
       "391    7.0\n",
       "680   14.0\n",
       "550    1.0\n",
       "63     0.0\n",
       "\n",
       "[149 rows x 1 columns]"
      ]
     },
     "execution_count": 260,
     "metadata": {},
     "output_type": "execute_result"
    }
   ],
   "source": [
    "dev_copy_labels = dev[['bikes']].copy()\n",
    "dev_copy_labels"
   ]
  },
  {
   "cell_type": "code",
   "execution_count": 261,
   "metadata": {},
   "outputs": [
    {
     "name": "stdout",
     "output_type": "stream",
     "text": [
      "Null value: False\n",
      "Null value count: 0\n"
     ]
    }
   ],
   "source": [
    "print_null_indication(dev_copy_labels, 'bikes')"
   ]
  },
  {
   "cell_type": "code",
   "execution_count": 262,
   "metadata": {},
   "outputs": [
    {
     "name": "stdout",
     "output_type": "stream",
     "text": [
      "LinearRegression 3.401711018825415\n",
      "DecisionTreeRegressor 3.351847348788428\n",
      "RandomForestRegressor 3.3300025059489795\n",
      "VotingRegressor 3.3593790399255474\n"
     ]
    }
   ],
   "source": [
    "from sklearn.metrics import mean_absolute_error\n",
    "for reg in (lin_reg, tree_reg, rf_reg, voting_reg):\n",
    "    reg.fit(train_copy, train_copy_labels.values.ravel())\n",
    "    y_pred = reg.predict(dev_copy)\n",
    "    print(reg.__class__.__name__, mean_absolute_error(y_pred, dev_copy_labels))"
   ]
  },
  {
   "cell_type": "markdown",
   "metadata": {},
   "source": []
  },
  {
   "cell_type": "markdown",
   "metadata": {},
   "source": [
    "Lets have a look at the linear regressors parameters...."
   ]
  },
  {
   "cell_type": "code",
   "execution_count": 202,
   "metadata": {},
   "outputs": [
    {
     "name": "stdout",
     "output_type": "stream",
     "text": [
      "Model gradient:  0.4487123313849409\n",
      "Model intercept: 2.326570634313763\n"
     ]
    }
   ],
   "source": [
    "print(\"Model gradient: \", lin_reg.coef_[0])\n",
    "print(\"Model intercept:\", lin_reg.intercept_)"
   ]
  },
  {
   "cell_type": "code",
   "execution_count": 203,
   "metadata": {},
   "outputs": [
    {
     "data": {
      "text/plain": [
       "array([11.20106607])"
      ]
     },
     "execution_count": 203,
     "metadata": {},
     "output_type": "execute_result"
    }
   ],
   "source": [
    "reg.predict([[20]])"
   ]
  },
  {
   "cell_type": "code",
   "execution_count": 204,
   "metadata": {},
   "outputs": [
    {
     "name": "stdout",
     "output_type": "stream",
     "text": [
      "590     1.0\n",
      "467    10.0\n",
      "330     4.0\n",
      "18     10.0\n",
      "327     2.0\n",
      "       ... \n",
      "711     2.0\n",
      "391     7.0\n",
      "680    14.0\n",
      "550     1.0\n",
      "63      0.0\n",
      "Name: bikes, Length: 149, dtype: float64\n"
     ]
    }
   ],
   "source": [
    "preds = reg.predict(dev_copy)\n",
    "ground_truth = dev_copy_labels['bikes']\n",
    "print(ground_truth)"
   ]
  },
  {
   "cell_type": "markdown",
   "metadata": {},
   "source": [
    "The graph below shows the development training points (blue) and the predictions given by the classifier (red). Obviously not very good..."
   ]
  },
  {
   "cell_type": "code",
   "execution_count": 205,
   "metadata": {},
   "outputs": [
    {
     "data": {
      "image/png": "[encoded data removed]",
      "text/plain": [
       "<Figure size 432x288 with 1 Axes>"
      ]
     },
     "metadata": {
      "needs_background": "light"
     },
     "output_type": "display_data"
    }
   ],
   "source": [
    "import matplotlib.pyplot as plt\n",
    "\n",
    "fig, ax = plt.subplots()\n",
    "\n",
    "dev.plot.scatter(\"bikes_3h_ago\", \"bikes\", color=\"blue\", marker=\"x\", ax=ax, label=\"development\")\n",
    "ax.plot(dev['bikes_3h_ago'], preds, linestyle=':', color='red', label='predictions')\n",
    "ax.legend();"
   ]
  },
  {
   "cell_type": "markdown",
   "metadata": {},
   "source": [
    "Lets visually compare our predictions and groud truths"
   ]
  },
  {
   "cell_type": "code",
   "execution_count": null,
   "metadata": {},
   "outputs": [],
   "source": [
    "dev_copy['bikes_3h_ago'][:10]"
   ]
  },
  {
   "cell_type": "code",
   "execution_count": null,
   "metadata": {},
   "outputs": [],
   "source": [
    "preds[:10]"
   ]
  },
  {
   "cell_type": "code",
   "execution_count": null,
   "metadata": {
    "scrolled": true
   },
   "outputs": [],
   "source": [
    "ground_truth[:10]"
   ]
  },
  {
   "cell_type": "code",
   "execution_count": null,
   "metadata": {},
   "outputs": [],
   "source": [
    "from sklearn.metrics import mean_absolute_error, accuracy_score\n",
    "assert(len(ground_truth) == len(preds))\n",
    "ma_error = mean_absolute_error(ground_truth, preds)\n",
    "ma_error"
   ]
  },
  {
   "cell_type": "markdown",
   "metadata": {},
   "source": [
    "Let's try manually putting in some of the predictions to ensure the results are consistent (slack testing, you'll need to be more rigorous than this going forward...)"
   ]
  },
  {
   "cell_type": "code",
   "execution_count": null,
   "metadata": {},
   "outputs": [],
   "source": [
    "reg.predict([[10]])"
   ]
  },
  {
   "cell_type": "markdown",
   "metadata": {},
   "source": [
    "Let's try an ensemble..."
   ]
  },
  {
   "cell_type": "code",
   "execution_count": null,
   "metadata": {},
   "outputs": [],
   "source": [
    "from sklearn.linear_model import LogisticRegression\n",
    "log = LogisticRegression()\n",
    "train_copy_labels.shape"
   ]
  },
  {
   "cell_type": "code",
   "execution_count": null,
   "metadata": {},
   "outputs": [],
   "source": [
    "import numpy as np\n",
    "from sklearn.ensemble import RandomForestRegressor\n",
    "from sklearn.ensemble import VotingRegressor\n",
    "r2 = RandomForestRegressor(n_estimators=10, random_state=1)\n",
    "er = VotingRegressor([('lr', r1), ('rf', r2)])\n",
    "print(er.fit(X, y).predict(X))"
   ]
  },
  {
   "cell_type": "code",
   "execution_count": null,
   "metadata": {},
   "outputs": [],
   "source": [
    "reg"
   ]
  },
  {
   "cell_type": "code",
   "execution_count": null,
   "metadata": {},
   "outputs": [],
   "source": []
  }
 ],
 "metadata": {
  "kernelspec": {
   "display_name": "Python 3",
   "language": "python",
   "name": "python3"
  },
  "language_info": {
   "codemirror_mode": {
    "name": "ipython",
    "version": 3
   },
   "file_extension": ".py",
   "mimetype": "text/x-python",
   "name": "python",
   "nbconvert_exporter": "python",
   "pygments_lexer": "ipython3",
   "version": "3.8.5"
  }
 },
 "nbformat": 4,
 "nbformat_minor": 4
}
