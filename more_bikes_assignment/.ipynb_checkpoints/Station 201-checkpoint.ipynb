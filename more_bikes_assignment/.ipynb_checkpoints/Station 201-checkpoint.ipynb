{
 "cells": [
  {
   "cell_type": "code",
   "execution_count": 19,
   "metadata": {
    "scrolled": false
   },
   "outputs": [],
   "source": [
    "STATION_PATH = 'Train/Train/station_201_deploy.csv'"
   ]
  },
  {
   "cell_type": "code",
   "execution_count": 20,
   "metadata": {},
   "outputs": [],
   "source": [
    "from data_handling import *\n",
    "station_data = load_data(STATION_PATH)"
   ]
  },
  {
   "cell_type": "markdown",
   "metadata": {},
   "source": [
    "The time conversion is  possible way of extracting seasonal/monthly features - not implemented yet."
   ]
  },
  {
   "cell_type": "code",
   "execution_count": 140,
   "metadata": {},
   "outputs": [
    {
     "name": "stdout",
     "output_type": "stream",
     "text": [
      "Unix Timestamp: 1412114400\n",
      "Timestamp conversion: 2014-09-30 22:00:00\n"
     ]
    }
   ],
   "source": [
    "from datetime import datetime\n",
    "ts = int(station_data.loc[0][4])\n",
    "\n",
    "# if you encounter a \"year is out of range\" error the timestamp\n",
    "# may be in milliseconds, try `ts /= 1000` in that case\n",
    "print('Unix Timestamp:',int(station_data.loc[0][4]))\n",
    "print('Timestamp conversion:', datetime.utcfromtimestamp(ts).strftime('%Y-%m-%d %H:%M:%S'))"
   ]
  },
  {
   "cell_type": "markdown",
   "metadata": {},
   "source": [
    "The below cells represent very basic analysis - just an initial glance at the data."
   ]
  },
  {
   "cell_type": "code",
   "execution_count": null,
   "metadata": {},
   "outputs": [],
   "source": [
    "station_data.head()"
   ]
  },
  {
   "cell_type": "code",
   "execution_count": null,
   "metadata": {},
   "outputs": [],
   "source": [
    "station_data.tail()"
   ]
  },
  {
   "cell_type": "code",
   "execution_count": 160,
   "metadata": {},
   "outputs": [
    {
     "name": "stdout",
     "output_type": "stream",
     "text": [
      "<class 'pandas.core.frame.DataFrame'>\n",
      "RangeIndex: 745 entries, 0 to 744\n",
      "Data columns (total 25 columns):\n",
      " #   Column                       Non-Null Count  Dtype  \n",
      "---  ------                       --------------  -----  \n",
      " 0   station                      745 non-null    int64  \n",
      " 1   latitude                     745 non-null    float64\n",
      " 2   longitude                    745 non-null    float64\n",
      " 3   numDocks                     745 non-null    int64  \n",
      " 4   timestamp                    745 non-null    float64\n",
      " 5   year                         745 non-null    int64  \n",
      " 6   month                        745 non-null    int64  \n",
      " 7   day                          745 non-null    int64  \n",
      " 8   hour                         745 non-null    int64  \n",
      " 9   weekday                      745 non-null    object \n",
      " 10  weekhour                     745 non-null    int64  \n",
      " 11  isHoliday                    745 non-null    int64  \n",
      " 12  windMaxSpeed.m.s             744 non-null    float64\n",
      " 13  windMeanSpeed.m.s            744 non-null    float64\n",
      " 14  windDirection.grades         740 non-null    float64\n",
      " 15  temperature.C                744 non-null    float64\n",
      " 16  relHumidity.HR               744 non-null    float64\n",
      " 17  airPressure.mb               744 non-null    float64\n",
      " 18  precipitation.l.m2           744 non-null    float64\n",
      " 19  bikes_3h_ago                 741 non-null    float64\n",
      " 20  full_profile_3h_diff_bikes   574 non-null    float64\n",
      " 21  full_profile_bikes           577 non-null    float64\n",
      " 22  short_profile_3h_diff_bikes  574 non-null    float64\n",
      " 23  short_profile_bikes          577 non-null    float64\n",
      " 24  bikes                        744 non-null    float64\n",
      "dtypes: float64(16), int64(8), object(1)\n",
      "memory usage: 145.6+ KB\n"
     ]
    }
   ],
   "source": [
    "station_data.info()"
   ]
  },
  {
   "cell_type": "markdown",
   "metadata": {},
   "source": [
    "___\n",
    "**RUNNING TODO: Take care of the null values**\n",
    "___\n"
   ]
  },
  {
   "cell_type": "code",
   "execution_count": null,
   "metadata": {},
   "outputs": [],
   "source": [
    "(station_data['station'].value_counts(),\n",
    "station_data['longitude'].value_counts(),\n",
    "station_data['latitude'].value_counts(),\n",
    "station_data['numDocks'].value_counts(),)"
   ]
  },
  {
   "cell_type": "markdown",
   "metadata": {},
   "source": [
    "___\n",
    "**RUNNING TODO: Consider which values are repeated and seperate categorical data**\n",
    "___"
   ]
  },
  {
   "cell_type": "code",
   "execution_count": 161,
   "metadata": {
    "scrolled": true
   },
   "outputs": [
    {
     "data": {
      "text/html": [
       "<div>\n",
       "<style scoped>\n",
       "    .dataframe tbody tr th:only-of-type {\n",
       "        vertical-align: middle;\n",
       "    }\n",
       "\n",
       "    .dataframe tbody tr th {\n",
       "        vertical-align: top;\n",
       "    }\n",
       "\n",
       "    .dataframe thead th {\n",
       "        text-align: right;\n",
       "    }\n",
       "</style>\n",
       "<table border=\"1\" class=\"dataframe\">\n",
       "  <thead>\n",
       "    <tr style=\"text-align: right;\">\n",
       "      <th></th>\n",
       "      <th>station</th>\n",
       "      <th>latitude</th>\n",
       "      <th>longitude</th>\n",
       "      <th>numDocks</th>\n",
       "      <th>timestamp</th>\n",
       "      <th>year</th>\n",
       "      <th>month</th>\n",
       "      <th>day</th>\n",
       "      <th>hour</th>\n",
       "      <th>weekhour</th>\n",
       "      <th>...</th>\n",
       "      <th>temperature.C</th>\n",
       "      <th>relHumidity.HR</th>\n",
       "      <th>airPressure.mb</th>\n",
       "      <th>precipitation.l.m2</th>\n",
       "      <th>bikes_3h_ago</th>\n",
       "      <th>full_profile_3h_diff_bikes</th>\n",
       "      <th>full_profile_bikes</th>\n",
       "      <th>short_profile_3h_diff_bikes</th>\n",
       "      <th>short_profile_bikes</th>\n",
       "      <th>bikes</th>\n",
       "    </tr>\n",
       "  </thead>\n",
       "  <tbody>\n",
       "    <tr>\n",
       "      <th>count</th>\n",
       "      <td>745.0</td>\n",
       "      <td>745.000000</td>\n",
       "      <td>7.450000e+02</td>\n",
       "      <td>745.0</td>\n",
       "      <td>7.450000e+02</td>\n",
       "      <td>745.0</td>\n",
       "      <td>745.0</td>\n",
       "      <td>745.000000</td>\n",
       "      <td>745.000000</td>\n",
       "      <td>745.000000</td>\n",
       "      <td>...</td>\n",
       "      <td>744.000000</td>\n",
       "      <td>744.000000</td>\n",
       "      <td>744.000000</td>\n",
       "      <td>744.0</td>\n",
       "      <td>741.000000</td>\n",
       "      <td>574.000000</td>\n",
       "      <td>577.000000</td>\n",
       "      <td>574.000000</td>\n",
       "      <td>577.000000</td>\n",
       "      <td>744.000000</td>\n",
       "    </tr>\n",
       "    <tr>\n",
       "      <th>mean</th>\n",
       "      <td>201.0</td>\n",
       "      <td>39.478178</td>\n",
       "      <td>-3.835411e-01</td>\n",
       "      <td>27.0</td>\n",
       "      <td>1.413454e+09</td>\n",
       "      <td>2014.0</td>\n",
       "      <td>10.0</td>\n",
       "      <td>16.013423</td>\n",
       "      <td>11.487248</td>\n",
       "      <td>84.583893</td>\n",
       "      <td>...</td>\n",
       "      <td>21.707796</td>\n",
       "      <td>65.943548</td>\n",
       "      <td>1002.257258</td>\n",
       "      <td>0.0</td>\n",
       "      <td>4.292848</td>\n",
       "      <td>0.050377</td>\n",
       "      <td>3.857019</td>\n",
       "      <td>0.050377</td>\n",
       "      <td>3.857019</td>\n",
       "      <td>4.315860</td>\n",
       "    </tr>\n",
       "    <tr>\n",
       "      <th>std</th>\n",
       "      <td>0.0</td>\n",
       "      <td>0.000000</td>\n",
       "      <td>1.666453e-16</td>\n",
       "      <td>0.0</td>\n",
       "      <td>7.747462e+05</td>\n",
       "      <td>0.0</td>\n",
       "      <td>0.0</td>\n",
       "      <td>8.951772</td>\n",
       "      <td>6.930931</td>\n",
       "      <td>46.597784</td>\n",
       "      <td>...</td>\n",
       "      <td>3.273425</td>\n",
       "      <td>16.735357</td>\n",
       "      <td>42.551917</td>\n",
       "      <td>0.0</td>\n",
       "      <td>4.576888</td>\n",
       "      <td>4.395611</td>\n",
       "      <td>3.743557</td>\n",
       "      <td>4.395611</td>\n",
       "      <td>3.743557</td>\n",
       "      <td>4.585772</td>\n",
       "    </tr>\n",
       "    <tr>\n",
       "      <th>min</th>\n",
       "      <td>201.0</td>\n",
       "      <td>39.478178</td>\n",
       "      <td>-3.835411e-01</td>\n",
       "      <td>27.0</td>\n",
       "      <td>1.412114e+09</td>\n",
       "      <td>2014.0</td>\n",
       "      <td>10.0</td>\n",
       "      <td>1.000000</td>\n",
       "      <td>0.000000</td>\n",
       "      <td>1.000000</td>\n",
       "      <td>...</td>\n",
       "      <td>13.900000</td>\n",
       "      <td>18.000000</td>\n",
       "      <td>811.900000</td>\n",
       "      <td>0.0</td>\n",
       "      <td>0.000000</td>\n",
       "      <td>-19.000000</td>\n",
       "      <td>0.000000</td>\n",
       "      <td>-19.000000</td>\n",
       "      <td>0.000000</td>\n",
       "      <td>0.000000</td>\n",
       "    </tr>\n",
       "    <tr>\n",
       "      <th>25%</th>\n",
       "      <td>201.0</td>\n",
       "      <td>39.478178</td>\n",
       "      <td>-3.835411e-01</td>\n",
       "      <td>27.0</td>\n",
       "      <td>1.412784e+09</td>\n",
       "      <td>2014.0</td>\n",
       "      <td>10.0</td>\n",
       "      <td>8.000000</td>\n",
       "      <td>5.000000</td>\n",
       "      <td>47.000000</td>\n",
       "      <td>...</td>\n",
       "      <td>19.400000</td>\n",
       "      <td>54.000000</td>\n",
       "      <td>1009.675000</td>\n",
       "      <td>0.0</td>\n",
       "      <td>1.000000</td>\n",
       "      <td>-2.000000</td>\n",
       "      <td>1.000000</td>\n",
       "      <td>-2.000000</td>\n",
       "      <td>1.000000</td>\n",
       "      <td>1.000000</td>\n",
       "    </tr>\n",
       "    <tr>\n",
       "      <th>50%</th>\n",
       "      <td>201.0</td>\n",
       "      <td>39.478178</td>\n",
       "      <td>-3.835411e-01</td>\n",
       "      <td>27.0</td>\n",
       "      <td>1.413454e+09</td>\n",
       "      <td>2014.0</td>\n",
       "      <td>10.0</td>\n",
       "      <td>16.000000</td>\n",
       "      <td>11.000000</td>\n",
       "      <td>85.000000</td>\n",
       "      <td>...</td>\n",
       "      <td>21.350000</td>\n",
       "      <td>68.000000</td>\n",
       "      <td>1015.350000</td>\n",
       "      <td>0.0</td>\n",
       "      <td>3.000000</td>\n",
       "      <td>0.000000</td>\n",
       "      <td>3.000000</td>\n",
       "      <td>0.000000</td>\n",
       "      <td>3.000000</td>\n",
       "      <td>3.000000</td>\n",
       "    </tr>\n",
       "    <tr>\n",
       "      <th>75%</th>\n",
       "      <td>201.0</td>\n",
       "      <td>39.478178</td>\n",
       "      <td>-3.835411e-01</td>\n",
       "      <td>27.0</td>\n",
       "      <td>1.414123e+09</td>\n",
       "      <td>2014.0</td>\n",
       "      <td>10.0</td>\n",
       "      <td>24.000000</td>\n",
       "      <td>17.000000</td>\n",
       "      <td>122.000000</td>\n",
       "      <td>...</td>\n",
       "      <td>23.400000</td>\n",
       "      <td>81.000000</td>\n",
       "      <td>1021.500000</td>\n",
       "      <td>0.0</td>\n",
       "      <td>6.000000</td>\n",
       "      <td>2.333333</td>\n",
       "      <td>5.000000</td>\n",
       "      <td>2.333333</td>\n",
       "      <td>5.000000</td>\n",
       "      <td>6.000000</td>\n",
       "    </tr>\n",
       "    <tr>\n",
       "      <th>max</th>\n",
       "      <td>201.0</td>\n",
       "      <td>39.478178</td>\n",
       "      <td>-3.835411e-01</td>\n",
       "      <td>27.0</td>\n",
       "      <td>1.414793e+09</td>\n",
       "      <td>2014.0</td>\n",
       "      <td>10.0</td>\n",
       "      <td>31.000000</td>\n",
       "      <td>23.000000</td>\n",
       "      <td>168.000000</td>\n",
       "      <td>...</td>\n",
       "      <td>34.600000</td>\n",
       "      <td>91.000000</td>\n",
       "      <td>1084.900000</td>\n",
       "      <td>0.0</td>\n",
       "      <td>26.000000</td>\n",
       "      <td>17.000000</td>\n",
       "      <td>20.000000</td>\n",
       "      <td>17.000000</td>\n",
       "      <td>20.000000</td>\n",
       "      <td>26.000000</td>\n",
       "    </tr>\n",
       "  </tbody>\n",
       "</table>\n",
       "<p>8 rows × 24 columns</p>\n",
       "</div>"
      ],
      "text/plain": [
       "       station    latitude     longitude  numDocks     timestamp    year  \\\n",
       "count    745.0  745.000000  7.450000e+02     745.0  7.450000e+02   745.0   \n",
       "mean     201.0   39.478178 -3.835411e-01      27.0  1.413454e+09  2014.0   \n",
       "std        0.0    0.000000  1.666453e-16       0.0  7.747462e+05     0.0   \n",
       "min      201.0   39.478178 -3.835411e-01      27.0  1.412114e+09  2014.0   \n",
       "25%      201.0   39.478178 -3.835411e-01      27.0  1.412784e+09  2014.0   \n",
       "50%      201.0   39.478178 -3.835411e-01      27.0  1.413454e+09  2014.0   \n",
       "75%      201.0   39.478178 -3.835411e-01      27.0  1.414123e+09  2014.0   \n",
       "max      201.0   39.478178 -3.835411e-01      27.0  1.414793e+09  2014.0   \n",
       "\n",
       "       month         day        hour    weekhour  ...  temperature.C  \\\n",
       "count  745.0  745.000000  745.000000  745.000000  ...     744.000000   \n",
       "mean    10.0   16.013423   11.487248   84.583893  ...      21.707796   \n",
       "std      0.0    8.951772    6.930931   46.597784  ...       3.273425   \n",
       "min     10.0    1.000000    0.000000    1.000000  ...      13.900000   \n",
       "25%     10.0    8.000000    5.000000   47.000000  ...      19.400000   \n",
       "50%     10.0   16.000000   11.000000   85.000000  ...      21.350000   \n",
       "75%     10.0   24.000000   17.000000  122.000000  ...      23.400000   \n",
       "max     10.0   31.000000   23.000000  168.000000  ...      34.600000   \n",
       "\n",
       "       relHumidity.HR  airPressure.mb  precipitation.l.m2  bikes_3h_ago  \\\n",
       "count      744.000000      744.000000               744.0    741.000000   \n",
       "mean        65.943548     1002.257258                 0.0      4.292848   \n",
       "std         16.735357       42.551917                 0.0      4.576888   \n",
       "min         18.000000      811.900000                 0.0      0.000000   \n",
       "25%         54.000000     1009.675000                 0.0      1.000000   \n",
       "50%         68.000000     1015.350000                 0.0      3.000000   \n",
       "75%         81.000000     1021.500000                 0.0      6.000000   \n",
       "max         91.000000     1084.900000                 0.0     26.000000   \n",
       "\n",
       "       full_profile_3h_diff_bikes  full_profile_bikes  \\\n",
       "count                  574.000000          577.000000   \n",
       "mean                     0.050377            3.857019   \n",
       "std                      4.395611            3.743557   \n",
       "min                    -19.000000            0.000000   \n",
       "25%                     -2.000000            1.000000   \n",
       "50%                      0.000000            3.000000   \n",
       "75%                      2.333333            5.000000   \n",
       "max                     17.000000           20.000000   \n",
       "\n",
       "       short_profile_3h_diff_bikes  short_profile_bikes       bikes  \n",
       "count                   574.000000           577.000000  744.000000  \n",
       "mean                      0.050377             3.857019    4.315860  \n",
       "std                       4.395611             3.743557    4.585772  \n",
       "min                     -19.000000             0.000000    0.000000  \n",
       "25%                      -2.000000             1.000000    1.000000  \n",
       "50%                       0.000000             3.000000    3.000000  \n",
       "75%                       2.333333             5.000000    6.000000  \n",
       "max                      17.000000            20.000000   26.000000  \n",
       "\n",
       "[8 rows x 24 columns]"
      ]
     },
     "execution_count": 161,
     "metadata": {},
     "output_type": "execute_result"
    }
   ],
   "source": [
    "station_data.describe()"
   ]
  },
  {
   "cell_type": "markdown",
   "metadata": {},
   "source": [
    "Before performing train and test split, we want to analyse the distribution of target instances. \n",
    "\n",
    "- The first step is to get a frequency distribution (or count) of the unique target examples (i.e. 'bikes')\n",
    "- Secondly, how to split and get a representative distribution (especially where there is only 1 example"
   ]
  },
  {
   "cell_type": "markdown",
   "metadata": {},
   "source": [
    "Crude fix to remove example with null target i.e. bikes: NaN"
   ]
  },
  {
   "cell_type": "code",
   "execution_count": 21,
   "metadata": {},
   "outputs": [
    {
     "name": "stdout",
     "output_type": "stream",
     "text": [
      "Null value: True\n",
      "Null value count: 1\n",
      "[603]\n"
     ]
    }
   ],
   "source": [
    "print_null_indication(station_data, 'bikes')\n",
    "print_null_locs(station_data, 'bikes')"
   ]
  },
  {
   "cell_type": "code",
   "execution_count": 22,
   "metadata": {},
   "outputs": [
    {
     "data": {
      "text/plain": [
       "(745, 25)"
      ]
     },
     "execution_count": 22,
     "metadata": {},
     "output_type": "execute_result"
    }
   ],
   "source": [
    "station_data.shape"
   ]
  },
  {
   "cell_type": "code",
   "execution_count": 23,
   "metadata": {},
   "outputs": [],
   "source": [
    "station_data = station_data.drop([603]).reset_index(drop=True)"
   ]
  },
  {
   "cell_type": "code",
   "execution_count": 24,
   "metadata": {},
   "outputs": [
    {
     "data": {
      "text/plain": [
       "25"
      ]
     },
     "execution_count": 24,
     "metadata": {},
     "output_type": "execute_result"
    }
   ],
   "source": [
    "station_data['bikes'].nunique()"
   ]
  },
  {
   "cell_type": "code",
   "execution_count": 25,
   "metadata": {},
   "outputs": [
    {
     "data": {
      "text/plain": [
       "0.0     18.817204\n",
       "1.0     16.397849\n",
       "2.0     10.618280\n",
       "3.0      8.333333\n",
       "4.0      7.795699\n",
       "6.0      7.258065\n",
       "5.0      6.989247\n",
       "7.0      4.838710\n",
       "8.0      4.569892\n",
       "9.0      3.360215\n",
       "10.0     2.150538\n",
       "11.0     1.747312\n",
       "12.0     0.940860\n",
       "14.0     0.806452\n",
       "15.0     0.806452\n",
       "16.0     0.806452\n",
       "20.0     0.806452\n",
       "13.0     0.672043\n",
       "17.0     0.672043\n",
       "19.0     0.537634\n",
       "24.0     0.268817\n",
       "18.0     0.268817\n",
       "22.0     0.268817\n",
       "23.0     0.134409\n",
       "26.0     0.134409\n",
       "Name: bikes, dtype: float64"
      ]
     },
     "execution_count": 25,
     "metadata": {},
     "output_type": "execute_result"
    }
   ],
   "source": [
    "station_data['bikes'].sort_values(axis=0).value_counts(normalize=True) * 100"
   ]
  },
  {
   "cell_type": "code",
   "execution_count": 26,
   "metadata": {},
   "outputs": [
    {
     "data": {
      "text/plain": [
       "0.0     140\n",
       "1.0     122\n",
       "2.0      79\n",
       "3.0      62\n",
       "4.0      58\n",
       "6.0      54\n",
       "5.0      52\n",
       "7.0      36\n",
       "8.0      34\n",
       "9.0      25\n",
       "10.0     16\n",
       "11.0     13\n",
       "12.0      7\n",
       "20.0      6\n",
       "16.0      6\n",
       "15.0      6\n",
       "14.0      6\n",
       "17.0      5\n",
       "13.0      5\n",
       "19.0      4\n",
       "24.0      2\n",
       "18.0      2\n",
       "22.0      2\n",
       "23.0      1\n",
       "26.0      1\n",
       "Name: bikes, dtype: int64"
      ]
     },
     "execution_count": 26,
     "metadata": {},
     "output_type": "execute_result"
    }
   ],
   "source": [
    "station_data['bikes'].value_counts()"
   ]
  },
  {
   "cell_type": "markdown",
   "metadata": {},
   "source": [
    "Lets create a bike_category category so we can perform stratified sampling when creating our train and development datasets:\n",
    "- It is important to have a sufficient number of instances in your dataset for each stratum, or else the estimate of the stratum’s importance may be biased. \n",
    "- This means that you should not have too many strata, and each stratum should be large enough"
   ]
  },
  {
   "cell_type": "code",
   "execution_count": 27,
   "metadata": {},
   "outputs": [],
   "source": [
    "station_data['bike_category'] = pd.cut(station_data['bikes'],\n",
    "                                      bins=[0, 3, 7, 12, np.inf],\n",
    "                                      labels=[1, 2, 3, 4],include_lowest=True)"
   ]
  },
  {
   "cell_type": "code",
   "execution_count": 28,
   "metadata": {},
   "outputs": [
    {
     "data": {
      "image/png": "[encoded data removed]",
      "text/plain": [
       "<Figure size 432x288 with 1 Axes>"
      ]
     },
     "metadata": {
      "needs_background": "light"
     },
     "output_type": "display_data"
    }
   ],
   "source": [
    "station_data['bike_category'].hist();"
   ]
  },
  {
   "cell_type": "code",
   "execution_count": 29,
   "metadata": {},
   "outputs": [
    {
     "data": {
      "text/plain": [
       "(744,)"
      ]
     },
     "execution_count": 29,
     "metadata": {},
     "output_type": "execute_result"
    }
   ],
   "source": [
    "station_data['bike_category'].shape"
   ]
  },
  {
   "cell_type": "code",
   "execution_count": 31,
   "metadata": {},
   "outputs": [
    {
     "data": {
      "image/png": "[encoded data removed]",
      "text/plain": [
       "<Figure size 432x288 with 1 Axes>"
      ]
     },
     "metadata": {
      "needs_background": "light"
     },
     "output_type": "display_data"
    }
   ],
   "source": [
    "station_data['bikes'].hist();"
   ]
  },
  {
   "cell_type": "code",
   "execution_count": 43,
   "metadata": {},
   "outputs": [
    {
     "data": {
      "text/plain": [
       "0.0     119\n",
       "1.0      95\n",
       "2.0      58\n",
       "3.0      50\n",
       "6.0      46\n",
       "4.0      44\n",
       "5.0      42\n",
       "7.0      28\n",
       "8.0      28\n",
       "9.0      22\n",
       "10.0     12\n",
       "11.0     11\n",
       "15.0      6\n",
       "13.0      5\n",
       "20.0      5\n",
       "14.0      4\n",
       "16.0      4\n",
       "17.0      3\n",
       "12.0      3\n",
       "19.0      3\n",
       "24.0      2\n",
       "22.0      2\n",
       "18.0      2\n",
       "26.0      1\n",
       "Name: bikes, dtype: int64"
      ]
     },
     "execution_count": 43,
     "metadata": {},
     "output_type": "execute_result"
    },
    {
     "data": {
      "image/png": "[encoded data removed]",
      "text/plain": [
       "<Figure size 432x288 with 1 Axes>"
      ]
     },
     "metadata": {
      "needs_background": "light"
     },
     "output_type": "display_data"
    }
   ],
   "source": [
    "train, dev = strat_split_data(station_data)\n",
    "train['bikes'].hist();\n",
    "train['bikes'].value_counts()"
   ]
  },
  {
   "cell_type": "code",
   "execution_count": 42,
   "metadata": {},
   "outputs": [
    {
     "data": {
      "text/plain": [
       "1.0     27\n",
       "2.0     21\n",
       "0.0     21\n",
       "4.0     14\n",
       "3.0     12\n",
       "5.0     10\n",
       "7.0      8\n",
       "6.0      8\n",
       "8.0      6\n",
       "12.0     4\n",
       "10.0     4\n",
       "9.0      3\n",
       "11.0     2\n",
       "16.0     2\n",
       "17.0     2\n",
       "14.0     2\n",
       "23.0     1\n",
       "19.0     1\n",
       "20.0     1\n",
       "Name: bikes, dtype: int64"
      ]
     },
     "execution_count": 42,
     "metadata": {},
     "output_type": "execute_result"
    },
    {
     "data": {
      "image/png": "[encoded data removed]",
      "text/plain": [
       "<Figure size 432x288 with 1 Axes>"
      ]
     },
     "metadata": {
      "needs_background": "light"
     },
     "output_type": "display_data"
    }
   ],
   "source": [
    "dev['bikes'].hist();\n",
    "dev['bikes'].value_counts()"
   ]
  },
  {
   "cell_type": "markdown",
   "metadata": {},
   "source": [
    "After we have used the 'bike_category', we should remove it from both the train and development sets as per the below code:"
   ]
  },
  {
   "cell_type": "code",
   "execution_count": null,
   "metadata": {},
   "outputs": [],
   "source": [
    "for set_ in (train, dev):\n",
    "    set_.drop(\"bike_category\", axis=1, inplace=True)"
   ]
  },
  {
   "cell_type": "markdown",
   "metadata": {},
   "source": [
    "Here, we are checking the dimensions of the train and development datasets are as expected (i.e. same dimensions are roughly 80:20)."
   ]
  },
  {
   "cell_type": "code",
   "execution_count": 50,
   "metadata": {},
   "outputs": [
    {
     "name": "stdout",
     "output_type": "stream",
     "text": [
      "(595, 25) (149, 25)\n"
     ]
    }
   ],
   "source": [
    "print(train.shape, dev.shape)"
   ]
  },
  {
   "cell_type": "markdown",
   "metadata": {},
   "source": [
    "Now, we can check the distribution of our train and development datasets"
   ]
  },
  {
   "cell_type": "code",
   "execution_count": 53,
   "metadata": {
    "scrolled": true
   },
   "outputs": [
    {
     "data": {
      "image/png": "[encoded data removed]",
      "text/plain": [
       "<Figure size 432x288 with 1 Axes>"
      ]
     },
     "metadata": {
      "needs_background": "light"
     },
     "output_type": "display_data"
    }
   ],
   "source": [
    "import matplotlib.pyplot as plt\n",
    "\n",
    "fig, ax = plt.subplots()\n",
    "train.plot.scatter(\"temperature.C\", \"bikes\", color=\"red\", marker=\"o\", ax=ax, label=\"train\")\n",
    "dev.plot.scatter(\"temperature.C\", \"bikes\", color=\"blue\", marker=\"x\", ax=ax, label=\"development\")\n",
    "ax.legend();"
   ]
  },
  {
   "cell_type": "code",
   "execution_count": 54,
   "metadata": {},
   "outputs": [
    {
     "data": {
      "image/png": "[encoded data removed]",
      "text/plain": [
       "<Figure size 432x288 with 1 Axes>"
      ]
     },
     "metadata": {
      "needs_background": "light"
     },
     "output_type": "display_data"
    }
   ],
   "source": [
    "train.plot.scatter('temperature.C', 'bikes');"
   ]
  },
  {
   "cell_type": "markdown",
   "metadata": {},
   "source": [
    "### Correlation - Practise Analysis "
   ]
  },
  {
   "cell_type": "code",
   "execution_count": 55,
   "metadata": {},
   "outputs": [],
   "source": [
    "corr = station_data.corr()"
   ]
  },
  {
   "cell_type": "code",
   "execution_count": 56,
   "metadata": {},
   "outputs": [],
   "source": [
    "new_corr = corr.replace(1.0, np.nan)"
   ]
  },
  {
   "cell_type": "code",
   "execution_count": 57,
   "metadata": {},
   "outputs": [
    {
     "data": {
      "text/plain": [
       "bikes_3h_ago                   4.240492e-01\n",
       "short_profile_bikes            3.970195e-01\n",
       "full_profile_bikes             3.970195e-01\n",
       "short_profile_3h_diff_bikes    2.096902e-01\n",
       "full_profile_3h_diff_bikes     2.096902e-01\n",
       "day                            1.305759e-01\n",
       "timestamp                      1.301909e-01\n",
       "airPressure.mb                 1.015576e-01\n",
       "relHumidity.HR                 4.134018e-02\n",
       "windMeanSpeed.m.s              1.954402e-02\n",
       "windMaxSpeed.m.s               3.919557e-03\n",
       "longitude                      1.299937e-15\n",
       "latitude                      -2.982009e-16\n",
       "hour                          -1.434241e-02\n",
       "temperature.C                 -4.052000e-02\n",
       "isHoliday                     -5.630410e-02\n",
       "windDirection.grades          -8.767229e-02\n",
       "weekhour                      -9.862673e-02\n",
       "station                                 NaN\n",
       "numDocks                                NaN\n",
       "year                                    NaN\n",
       "month                                   NaN\n",
       "precipitation.l.m2                      NaN\n",
       "bikes                                   NaN\n",
       "Name: bikes, dtype: float64"
      ]
     },
     "execution_count": 57,
     "metadata": {},
     "output_type": "execute_result"
    }
   ],
   "source": [
    "new_corr['bikes'].sort_values(ascending=False)"
   ]
  },
  {
   "cell_type": "code",
   "execution_count": 59,
   "metadata": {},
   "outputs": [
    {
     "data": {
      "image/png": "[encoded data removed]",
      "text/plain": [
       "<Figure size 432x288 with 2 Axes>"
      ]
     },
     "metadata": {
      "needs_background": "light"
     },
     "output_type": "display_data"
    }
   ],
   "source": [
    "%matplotlib inline\n",
    "\n",
    "import seaborn as sns\n",
    "\n",
    "# We define a diverging colourmap so that 0.0 is white\n",
    "cmap = sns.diverging_palette(10, 220, as_cmap=True)\n",
    "sns.heatmap(corr, vmin=-1.0, vmax=1.0, cmap=cmap);"
   ]
  },
  {
   "cell_type": "markdown",
   "metadata": {},
   "source": [
    "## Linear Regression - Practise Fitting Model"
   ]
  },
  {
   "cell_type": "markdown",
   "metadata": {},
   "source": [
    "First, make a copy of the training data but drop all columns/features except the 'temperature.C' feature. This should produce a 1-dimensional training set, as below:"
   ]
  },
  {
   "cell_type": "code",
   "execution_count": 60,
   "metadata": {},
   "outputs": [
    {
     "data": {
      "text/html": [
       "<div>\n",
       "<style scoped>\n",
       "    .dataframe tbody tr th:only-of-type {\n",
       "        vertical-align: middle;\n",
       "    }\n",
       "\n",
       "    .dataframe tbody tr th {\n",
       "        vertical-align: top;\n",
       "    }\n",
       "\n",
       "    .dataframe thead th {\n",
       "        text-align: right;\n",
       "    }\n",
       "</style>\n",
       "<table border=\"1\" class=\"dataframe\">\n",
       "  <thead>\n",
       "    <tr style=\"text-align: right;\">\n",
       "      <th></th>\n",
       "      <th>bikes_3h_ago</th>\n",
       "    </tr>\n",
       "  </thead>\n",
       "  <tbody>\n",
       "    <tr>\n",
       "      <th>105</th>\n",
       "      <td>8.0</td>\n",
       "    </tr>\n",
       "    <tr>\n",
       "      <th>628</th>\n",
       "      <td>5.0</td>\n",
       "    </tr>\n",
       "    <tr>\n",
       "      <th>298</th>\n",
       "      <td>5.0</td>\n",
       "    </tr>\n",
       "    <tr>\n",
       "      <th>153</th>\n",
       "      <td>3.0</td>\n",
       "    </tr>\n",
       "    <tr>\n",
       "      <th>243</th>\n",
       "      <td>16.0</td>\n",
       "    </tr>\n",
       "    <tr>\n",
       "      <th>...</th>\n",
       "      <td>...</td>\n",
       "    </tr>\n",
       "    <tr>\n",
       "      <th>526</th>\n",
       "      <td>3.0</td>\n",
       "    </tr>\n",
       "    <tr>\n",
       "      <th>629</th>\n",
       "      <td>6.0</td>\n",
       "    </tr>\n",
       "    <tr>\n",
       "      <th>193</th>\n",
       "      <td>4.0</td>\n",
       "    </tr>\n",
       "    <tr>\n",
       "      <th>480</th>\n",
       "      <td>1.0</td>\n",
       "    </tr>\n",
       "    <tr>\n",
       "      <th>647</th>\n",
       "      <td>0.0</td>\n",
       "    </tr>\n",
       "  </tbody>\n",
       "</table>\n",
       "<p>595 rows × 1 columns</p>\n",
       "</div>"
      ],
      "text/plain": [
       "     bikes_3h_ago\n",
       "105           8.0\n",
       "628           5.0\n",
       "298           5.0\n",
       "153           3.0\n",
       "243          16.0\n",
       "..            ...\n",
       "526           3.0\n",
       "629           6.0\n",
       "193           4.0\n",
       "480           1.0\n",
       "647           0.0\n",
       "\n",
       "[595 rows x 1 columns]"
      ]
     },
     "execution_count": 60,
     "metadata": {},
     "output_type": "execute_result"
    }
   ],
   "source": [
    "train_copy = train[['bikes_3h_ago']]\n",
    "train_copy"
   ]
  },
  {
   "cell_type": "markdown",
   "metadata": {},
   "source": [
    "Next, lets check for any null values"
   ]
  },
  {
   "cell_type": "code",
   "execution_count": 61,
   "metadata": {},
   "outputs": [],
   "source": [
    "def find_null(train_copy, feature):\n",
    "    print('Null value: {boolean}\\nNull value count: {count}'.format(\n",
    "            boolean=train_copy[feature].isnull().values.any(),\n",
    "            count=train_copy[feature].isnull().sum()))"
   ]
  },
  {
   "cell_type": "code",
   "execution_count": 62,
   "metadata": {},
   "outputs": [
    {
     "name": "stdout",
     "output_type": "stream",
     "text": [
      "Null value: True\n",
      "Null value count: 2\n"
     ]
    }
   ],
   "source": [
    "find_null(train_copy, 'bikes_3h_ago')"
   ]
  },
  {
   "cell_type": "code",
   "execution_count": 63,
   "metadata": {},
   "outputs": [
    {
     "data": {
      "text/plain": [
       "105     8.0\n",
       "628     5.0\n",
       "298     5.0\n",
       "153     3.0\n",
       "243    16.0\n",
       "       ... \n",
       "526     3.0\n",
       "629     6.0\n",
       "193     4.0\n",
       "480     1.0\n",
       "647     0.0\n",
       "Name: bikes_3h_ago, Length: 595, dtype: float64"
      ]
     },
     "execution_count": 63,
     "metadata": {},
     "output_type": "execute_result"
    }
   ],
   "source": [
    "train_copy['bikes_3h_ago']"
   ]
  },
  {
   "cell_type": "markdown",
   "metadata": {},
   "source": [
    "Let's train a simple imputer to take care of missing values (note: this could be the wrong thing to do, it may be that this data point may need to be removed...)"
   ]
  },
  {
   "cell_type": "code",
   "execution_count": 64,
   "metadata": {},
   "outputs": [
    {
     "data": {
      "text/plain": [
       "array([3.])"
      ]
     },
     "execution_count": 64,
     "metadata": {},
     "output_type": "execute_result"
    }
   ],
   "source": [
    "from sklearn.impute import SimpleImputer\n",
    "imputer = SimpleImputer(strategy=\"median\")\n",
    "imputer.fit(train_copy[['bikes_3h_ago']])\n",
    "imputer.statistics_"
   ]
  },
  {
   "cell_type": "code",
   "execution_count": 65,
   "metadata": {},
   "outputs": [],
   "source": [
    "X = imputer.transform(train_copy[['bikes_3h_ago']])\n",
    "train_copy = pd.DataFrame(X, columns=train_copy.columns)"
   ]
  },
  {
   "cell_type": "code",
   "execution_count": 66,
   "metadata": {},
   "outputs": [
    {
     "name": "stdout",
     "output_type": "stream",
     "text": [
      "Null value: False\n",
      "Null value count: 0\n"
     ]
    }
   ],
   "source": [
    "find_null(train_copy, 'bikes_3h_ago')"
   ]
  },
  {
   "cell_type": "markdown",
   "metadata": {},
   "source": [
    "Yay! This seems to have worked..."
   ]
  },
  {
   "cell_type": "markdown",
   "metadata": {},
   "source": [
    "Now, let's store our labels in a new dataframe"
   ]
  },
  {
   "cell_type": "code",
   "execution_count": 67,
   "metadata": {},
   "outputs": [
    {
     "data": {
      "text/html": [
       "<div>\n",
       "<style scoped>\n",
       "    .dataframe tbody tr th:only-of-type {\n",
       "        vertical-align: middle;\n",
       "    }\n",
       "\n",
       "    .dataframe tbody tr th {\n",
       "        vertical-align: top;\n",
       "    }\n",
       "\n",
       "    .dataframe thead th {\n",
       "        text-align: right;\n",
       "    }\n",
       "</style>\n",
       "<table border=\"1\" class=\"dataframe\">\n",
       "  <thead>\n",
       "    <tr style=\"text-align: right;\">\n",
       "      <th></th>\n",
       "      <th>bikes</th>\n",
       "    </tr>\n",
       "  </thead>\n",
       "  <tbody>\n",
       "    <tr>\n",
       "      <th>105</th>\n",
       "      <td>4.0</td>\n",
       "    </tr>\n",
       "    <tr>\n",
       "      <th>628</th>\n",
       "      <td>6.0</td>\n",
       "    </tr>\n",
       "    <tr>\n",
       "      <th>298</th>\n",
       "      <td>7.0</td>\n",
       "    </tr>\n",
       "    <tr>\n",
       "      <th>153</th>\n",
       "      <td>20.0</td>\n",
       "    </tr>\n",
       "    <tr>\n",
       "      <th>243</th>\n",
       "      <td>4.0</td>\n",
       "    </tr>\n",
       "    <tr>\n",
       "      <th>...</th>\n",
       "      <td>...</td>\n",
       "    </tr>\n",
       "    <tr>\n",
       "      <th>526</th>\n",
       "      <td>1.0</td>\n",
       "    </tr>\n",
       "    <tr>\n",
       "      <th>629</th>\n",
       "      <td>6.0</td>\n",
       "    </tr>\n",
       "    <tr>\n",
       "      <th>193</th>\n",
       "      <td>1.0</td>\n",
       "    </tr>\n",
       "    <tr>\n",
       "      <th>480</th>\n",
       "      <td>2.0</td>\n",
       "    </tr>\n",
       "    <tr>\n",
       "      <th>647</th>\n",
       "      <td>11.0</td>\n",
       "    </tr>\n",
       "  </tbody>\n",
       "</table>\n",
       "<p>595 rows × 1 columns</p>\n",
       "</div>"
      ],
      "text/plain": [
       "     bikes\n",
       "105    4.0\n",
       "628    6.0\n",
       "298    7.0\n",
       "153   20.0\n",
       "243    4.0\n",
       "..     ...\n",
       "526    1.0\n",
       "629    6.0\n",
       "193    1.0\n",
       "480    2.0\n",
       "647   11.0\n",
       "\n",
       "[595 rows x 1 columns]"
      ]
     },
     "execution_count": 67,
     "metadata": {},
     "output_type": "execute_result"
    }
   ],
   "source": [
    "train_copy_labels = train[['bikes']].copy()\n",
    "train_copy_labels"
   ]
  },
  {
   "cell_type": "code",
   "execution_count": 68,
   "metadata": {},
   "outputs": [
    {
     "name": "stdout",
     "output_type": "stream",
     "text": [
      "Null value: False\n",
      "Null value count: 0\n"
     ]
    }
   ],
   "source": [
    "find_null(train_copy_labels, 'bikes')"
   ]
  },
  {
   "cell_type": "code",
   "execution_count": 69,
   "metadata": {},
   "outputs": [
    {
     "data": {
      "text/plain": [
       "array([0.])"
      ]
     },
     "execution_count": 69,
     "metadata": {},
     "output_type": "execute_result"
    }
   ],
   "source": [
    "from sklearn.impute import SimpleImputer\n",
    "imputer = SimpleImputer(strategy=\"most_frequent\")\n",
    "imputer.fit(train_copy_labels[['bikes']])\n",
    "imputer.statistics_"
   ]
  },
  {
   "cell_type": "code",
   "execution_count": 70,
   "metadata": {},
   "outputs": [],
   "source": [
    "X = imputer.transform(train_copy_labels[['bikes']])\n",
    "train_copy_labels = pd.DataFrame(X, columns=train_copy_labels.columns)"
   ]
  },
  {
   "cell_type": "code",
   "execution_count": 71,
   "metadata": {},
   "outputs": [
    {
     "name": "stdout",
     "output_type": "stream",
     "text": [
      "Null value: False\n",
      "Null value count: 0\n"
     ]
    }
   ],
   "source": [
    "find_null(train_copy_labels, 'bikes')"
   ]
  },
  {
   "cell_type": "markdown",
   "metadata": {},
   "source": [
    "Ok, now we have **_imputed_** the labels too and are ready to fit our model.\n",
    "\n",
    "But first, let's check the shape of the training set and the labels have the same shape"
   ]
  },
  {
   "cell_type": "code",
   "execution_count": 72,
   "metadata": {},
   "outputs": [],
   "source": [
    "assert(train_copy.shape == train_copy_labels.shape)"
   ]
  },
  {
   "cell_type": "code",
   "execution_count": 73,
   "metadata": {
    "scrolled": true
   },
   "outputs": [
    {
     "data": {
      "text/plain": [
       "LinearRegression()"
      ]
     },
     "execution_count": 73,
     "metadata": {},
     "output_type": "execute_result"
    }
   ],
   "source": [
    "from sklearn.linear_model import LinearRegression\n",
    "reg = LinearRegression()\n",
    "reg.fit(train_copy, train_copy_labels)"
   ]
  },
  {
   "cell_type": "code",
   "execution_count": 74,
   "metadata": {},
   "outputs": [
    {
     "name": "stdout",
     "output_type": "stream",
     "text": [
      " Model gradient:  [0.44871233]\n",
      "Model intercept: [2.32657063]\n"
     ]
    }
   ],
   "source": [
    "print(\" Model gradient: \", reg.coef_[0])\n",
    "print(\"Model intercept:\", reg.intercept_)"
   ]
  },
  {
   "cell_type": "code",
   "execution_count": 75,
   "metadata": {},
   "outputs": [
    {
     "data": {
      "text/plain": [
       "array([[11.30081726]])"
      ]
     },
     "execution_count": 75,
     "metadata": {},
     "output_type": "execute_result"
    }
   ],
   "source": [
    "reg.predict([[20]])"
   ]
  },
  {
   "cell_type": "markdown",
   "metadata": {},
   "source": [
    "Now, lets prepare the dev set so we can evaluate performance."
   ]
  },
  {
   "cell_type": "code",
   "execution_count": 76,
   "metadata": {},
   "outputs": [
    {
     "data": {
      "text/html": [
       "<div>\n",
       "<style scoped>\n",
       "    .dataframe tbody tr th:only-of-type {\n",
       "        vertical-align: middle;\n",
       "    }\n",
       "\n",
       "    .dataframe tbody tr th {\n",
       "        vertical-align: top;\n",
       "    }\n",
       "\n",
       "    .dataframe thead th {\n",
       "        text-align: right;\n",
       "    }\n",
       "</style>\n",
       "<table border=\"1\" class=\"dataframe\">\n",
       "  <thead>\n",
       "    <tr style=\"text-align: right;\">\n",
       "      <th></th>\n",
       "      <th>bikes_3h_ago</th>\n",
       "    </tr>\n",
       "  </thead>\n",
       "  <tbody>\n",
       "    <tr>\n",
       "      <th>590</th>\n",
       "      <td>2.0</td>\n",
       "    </tr>\n",
       "    <tr>\n",
       "      <th>467</th>\n",
       "      <td>10.0</td>\n",
       "    </tr>\n",
       "    <tr>\n",
       "      <th>330</th>\n",
       "      <td>2.0</td>\n",
       "    </tr>\n",
       "    <tr>\n",
       "      <th>18</th>\n",
       "      <td>2.0</td>\n",
       "    </tr>\n",
       "    <tr>\n",
       "      <th>327</th>\n",
       "      <td>5.0</td>\n",
       "    </tr>\n",
       "    <tr>\n",
       "      <th>...</th>\n",
       "      <td>...</td>\n",
       "    </tr>\n",
       "    <tr>\n",
       "      <th>711</th>\n",
       "      <td>4.0</td>\n",
       "    </tr>\n",
       "    <tr>\n",
       "      <th>391</th>\n",
       "      <td>0.0</td>\n",
       "    </tr>\n",
       "    <tr>\n",
       "      <th>680</th>\n",
       "      <td>1.0</td>\n",
       "    </tr>\n",
       "    <tr>\n",
       "      <th>550</th>\n",
       "      <td>0.0</td>\n",
       "    </tr>\n",
       "    <tr>\n",
       "      <th>63</th>\n",
       "      <td>6.0</td>\n",
       "    </tr>\n",
       "  </tbody>\n",
       "</table>\n",
       "<p>149 rows × 1 columns</p>\n",
       "</div>"
      ],
      "text/plain": [
       "     bikes_3h_ago\n",
       "590           2.0\n",
       "467          10.0\n",
       "330           2.0\n",
       "18            2.0\n",
       "327           5.0\n",
       "..            ...\n",
       "711           4.0\n",
       "391           0.0\n",
       "680           1.0\n",
       "550           0.0\n",
       "63            6.0\n",
       "\n",
       "[149 rows x 1 columns]"
      ]
     },
     "execution_count": 76,
     "metadata": {},
     "output_type": "execute_result"
    }
   ],
   "source": [
    "dev_copy = dev[['bikes_3h_ago']]\n",
    "dev_copy"
   ]
  },
  {
   "cell_type": "code",
   "execution_count": 77,
   "metadata": {},
   "outputs": [
    {
     "name": "stdout",
     "output_type": "stream",
     "text": [
      "Null value: True\n",
      "Null value count: 2\n"
     ]
    }
   ],
   "source": [
    "find_null(dev_copy, 'bikes_3h_ago')"
   ]
  },
  {
   "cell_type": "code",
   "execution_count": 78,
   "metadata": {},
   "outputs": [
    {
     "data": {
      "text/plain": [
       "array([1.])"
      ]
     },
     "execution_count": 78,
     "metadata": {},
     "output_type": "execute_result"
    }
   ],
   "source": [
    "from sklearn.impute import SimpleImputer\n",
    "imputer = SimpleImputer(strategy=\"most_frequent\")\n",
    "imputer.fit(dev_copy[['bikes_3h_ago']])\n",
    "imputer.statistics_"
   ]
  },
  {
   "cell_type": "code",
   "execution_count": 79,
   "metadata": {},
   "outputs": [],
   "source": [
    "X = imputer.transform(dev_copy[['bikes_3h_ago']])\n",
    "dev_copy = pd.DataFrame(X, columns=dev_copy.columns)"
   ]
  },
  {
   "cell_type": "code",
   "execution_count": 80,
   "metadata": {},
   "outputs": [
    {
     "name": "stdout",
     "output_type": "stream",
     "text": [
      "Null value: False\n",
      "Null value count: 0\n"
     ]
    }
   ],
   "source": [
    "find_null(dev_copy, 'bikes_3h_ago')"
   ]
  },
  {
   "cell_type": "code",
   "execution_count": 81,
   "metadata": {},
   "outputs": [
    {
     "data": {
      "text/html": [
       "<div>\n",
       "<style scoped>\n",
       "    .dataframe tbody tr th:only-of-type {\n",
       "        vertical-align: middle;\n",
       "    }\n",
       "\n",
       "    .dataframe tbody tr th {\n",
       "        vertical-align: top;\n",
       "    }\n",
       "\n",
       "    .dataframe thead th {\n",
       "        text-align: right;\n",
       "    }\n",
       "</style>\n",
       "<table border=\"1\" class=\"dataframe\">\n",
       "  <thead>\n",
       "    <tr style=\"text-align: right;\">\n",
       "      <th></th>\n",
       "      <th>bikes</th>\n",
       "    </tr>\n",
       "  </thead>\n",
       "  <tbody>\n",
       "    <tr>\n",
       "      <th>590</th>\n",
       "      <td>1.0</td>\n",
       "    </tr>\n",
       "    <tr>\n",
       "      <th>467</th>\n",
       "      <td>10.0</td>\n",
       "    </tr>\n",
       "    <tr>\n",
       "      <th>330</th>\n",
       "      <td>4.0</td>\n",
       "    </tr>\n",
       "    <tr>\n",
       "      <th>18</th>\n",
       "      <td>10.0</td>\n",
       "    </tr>\n",
       "    <tr>\n",
       "      <th>327</th>\n",
       "      <td>2.0</td>\n",
       "    </tr>\n",
       "    <tr>\n",
       "      <th>...</th>\n",
       "      <td>...</td>\n",
       "    </tr>\n",
       "    <tr>\n",
       "      <th>711</th>\n",
       "      <td>2.0</td>\n",
       "    </tr>\n",
       "    <tr>\n",
       "      <th>391</th>\n",
       "      <td>7.0</td>\n",
       "    </tr>\n",
       "    <tr>\n",
       "      <th>680</th>\n",
       "      <td>14.0</td>\n",
       "    </tr>\n",
       "    <tr>\n",
       "      <th>550</th>\n",
       "      <td>1.0</td>\n",
       "    </tr>\n",
       "    <tr>\n",
       "      <th>63</th>\n",
       "      <td>0.0</td>\n",
       "    </tr>\n",
       "  </tbody>\n",
       "</table>\n",
       "<p>149 rows × 1 columns</p>\n",
       "</div>"
      ],
      "text/plain": [
       "     bikes\n",
       "590    1.0\n",
       "467   10.0\n",
       "330    4.0\n",
       "18    10.0\n",
       "327    2.0\n",
       "..     ...\n",
       "711    2.0\n",
       "391    7.0\n",
       "680   14.0\n",
       "550    1.0\n",
       "63     0.0\n",
       "\n",
       "[149 rows x 1 columns]"
      ]
     },
     "execution_count": 81,
     "metadata": {},
     "output_type": "execute_result"
    }
   ],
   "source": [
    "dev_copy_labels = dev[['bikes']].copy()\n",
    "dev_copy_labels"
   ]
  },
  {
   "cell_type": "code",
   "execution_count": 82,
   "metadata": {},
   "outputs": [
    {
     "name": "stdout",
     "output_type": "stream",
     "text": [
      "Null value: False\n",
      "Null value count: 0\n"
     ]
    }
   ],
   "source": [
    "find_null(dev_copy_labels, 'bikes')"
   ]
  },
  {
   "cell_type": "code",
   "execution_count": 83,
   "metadata": {},
   "outputs": [
    {
     "name": "stdout",
     "output_type": "stream",
     "text": [
      "590     1.0\n",
      "467    10.0\n",
      "330     4.0\n",
      "18     10.0\n",
      "327     2.0\n",
      "       ... \n",
      "711     2.0\n",
      "391     7.0\n",
      "680    14.0\n",
      "550     1.0\n",
      "63      0.0\n",
      "Name: bikes, Length: 149, dtype: float64\n"
     ]
    }
   ],
   "source": [
    "preds = reg.predict(dev_copy)\n",
    "ground_truth = dev_copy_labels['bikes']\n",
    "print(ground_truth)"
   ]
  },
  {
   "cell_type": "markdown",
   "metadata": {},
   "source": [
    "The graph below shows the development training points (blue) and the predictions given by the classifier (red). Obviously not very good..."
   ]
  },
  {
   "cell_type": "code",
   "execution_count": 84,
   "metadata": {},
   "outputs": [
    {
     "data": {
      "image/png": "[encoded data removed]",
      "text/plain": [
       "<Figure size 432x288 with 1 Axes>"
      ]
     },
     "metadata": {
      "needs_background": "light"
     },
     "output_type": "display_data"
    }
   ],
   "source": [
    "import matplotlib.pyplot as plt\n",
    "\n",
    "fig, ax = plt.subplots()\n",
    "\n",
    "dev.plot.scatter(\"bikes_3h_ago\", \"bikes\", color=\"blue\", marker=\"x\", ax=ax, label=\"development\")\n",
    "ax.plot(dev['bikes_3h_ago'], preds, linestyle=':', color='red')\n",
    "ax.legend();"
   ]
  },
  {
   "cell_type": "markdown",
   "metadata": {},
   "source": [
    "Lets visually compare our predictions and groud truths"
   ]
  },
  {
   "cell_type": "code",
   "execution_count": 85,
   "metadata": {},
   "outputs": [
    {
     "data": {
      "text/plain": [
       "0     2.0\n",
       "1    10.0\n",
       "2     2.0\n",
       "3     2.0\n",
       "4     5.0\n",
       "5     9.0\n",
       "6     1.0\n",
       "7     2.0\n",
       "8    13.0\n",
       "9     8.0\n",
       "Name: bikes_3h_ago, dtype: float64"
      ]
     },
     "execution_count": 85,
     "metadata": {},
     "output_type": "execute_result"
    }
   ],
   "source": [
    "dev_copy['bikes_3h_ago'][:10]"
   ]
  },
  {
   "cell_type": "code",
   "execution_count": 86,
   "metadata": {},
   "outputs": [
    {
     "data": {
      "text/plain": [
       "array([[3.2239953 ],\n",
       "       [6.81369395],\n",
       "       [3.2239953 ],\n",
       "       [3.2239953 ],\n",
       "       [4.57013229],\n",
       "       [6.36498162],\n",
       "       [2.77528297],\n",
       "       [3.2239953 ],\n",
       "       [8.15983094],\n",
       "       [5.91626929]])"
      ]
     },
     "execution_count": 86,
     "metadata": {},
     "output_type": "execute_result"
    }
   ],
   "source": [
    "preds[:10]"
   ]
  },
  {
   "cell_type": "code",
   "execution_count": 87,
   "metadata": {
    "scrolled": true
   },
   "outputs": [
    {
     "data": {
      "text/plain": [
       "590     1.0\n",
       "467    10.0\n",
       "330     4.0\n",
       "18     10.0\n",
       "327     2.0\n",
       "643     1.0\n",
       "534     0.0\n",
       "675     0.0\n",
       "635    17.0\n",
       "471     2.0\n",
       "Name: bikes, dtype: float64"
      ]
     },
     "execution_count": 87,
     "metadata": {},
     "output_type": "execute_result"
    }
   ],
   "source": [
    "ground_truth[:10]"
   ]
  },
  {
   "cell_type": "code",
   "execution_count": 88,
   "metadata": {},
   "outputs": [
    {
     "data": {
      "text/plain": [
       "3.401711018825415"
      ]
     },
     "execution_count": 88,
     "metadata": {},
     "output_type": "execute_result"
    }
   ],
   "source": [
    "from sklearn.metrics import mean_absolute_error\n",
    "assert(len(ground_truth) == len(preds))\n",
    "error = mean_absolute_error(ground_truth, preds)\n",
    "error"
   ]
  },
  {
   "cell_type": "markdown",
   "metadata": {},
   "source": [
    "Let's try manually putting in some of the predictions to ensure the results are consistent (slack testing, you'll need to be more rigorous than this going forward...)"
   ]
  },
  {
   "cell_type": "code",
   "execution_count": 89,
   "metadata": {},
   "outputs": [
    {
     "data": {
      "text/plain": [
       "array([[11.3456885]])"
      ]
     },
     "execution_count": 89,
     "metadata": {},
     "output_type": "execute_result"
    }
   ],
   "source": [
    "reg.predict([[20.1]])"
   ]
  },
  {
   "cell_type": "code",
   "execution_count": null,
   "metadata": {},
   "outputs": [],
   "source": []
  }
 ],
 "metadata": {
  "kernelspec": {
   "display_name": "Python 3",
   "language": "python",
   "name": "python3"
  },
  "language_info": {
   "codemirror_mode": {
    "name": "ipython",
    "version": 3
   },
   "file_extension": ".py",
   "mimetype": "text/x-python",
   "name": "python",
   "nbconvert_exporter": "python",
   "pygments_lexer": "ipython3",
   "version": "3.8.5"
  }
 },
 "nbformat": 4,
 "nbformat_minor": 4
}
