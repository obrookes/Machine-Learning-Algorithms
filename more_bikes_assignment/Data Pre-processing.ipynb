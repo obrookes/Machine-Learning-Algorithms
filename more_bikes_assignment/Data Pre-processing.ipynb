{
 "cells": [
  {
   "cell_type": "code",
   "execution_count": 1,
   "metadata": {},
   "outputs": [],
   "source": [
    "from data_handling import *\n",
    "from datetime import datetime\n",
    "import numpy as np"
   ]
  },
  {
   "cell_type": "code",
   "execution_count": 2,
   "metadata": {},
   "outputs": [],
   "source": [
    "station_path = 'Train/Train/station_201_deploy.csv'"
   ]
  },
  {
   "cell_type": "code",
   "execution_count": 3,
   "metadata": {},
   "outputs": [],
   "source": [
    "station_data = load_data(station_path)"
   ]
  },
  {
   "cell_type": "markdown",
   "metadata": {},
   "source": [
    "Dropping features that are redundant for **_individual_** stations (will become important later)"
   ]
  },
  {
   "cell_type": "code",
   "execution_count": 4,
   "metadata": {},
   "outputs": [],
   "source": [
    "redundant_features = ['station', 'latitude', 'longitude', 'numDocks', 'year']\n",
    "station_data = station_data.drop(columns=redundant_features)"
   ]
  },
  {
   "cell_type": "markdown",
   "metadata": {},
   "source": [
    "- Checking for null values in timestamp column\n",
    "- Ordering values by timestamp\n",
    "\n",
    "Note: can already see the data includes days from September"
   ]
  },
  {
   "cell_type": "code",
   "execution_count": 5,
   "metadata": {},
   "outputs": [],
   "source": [
    "station_data = station_data.sort_values(by=['timestamp'])"
   ]
  },
  {
   "cell_type": "markdown",
   "metadata": {},
   "source": [
    "Displaying station_data again to check the ordering is correct..."
   ]
  },
  {
   "cell_type": "code",
   "execution_count": 6,
   "metadata": {},
   "outputs": [
    {
     "data": {
      "text/html": [
       "<div>\n",
       "<style scoped>\n",
       "    .dataframe tbody tr th:only-of-type {\n",
       "        vertical-align: middle;\n",
       "    }\n",
       "\n",
       "    .dataframe tbody tr th {\n",
       "        vertical-align: top;\n",
       "    }\n",
       "\n",
       "    .dataframe thead th {\n",
       "        text-align: right;\n",
       "    }\n",
       "</style>\n",
       "<table border=\"1\" class=\"dataframe\">\n",
       "  <thead>\n",
       "    <tr style=\"text-align: right;\">\n",
       "      <th></th>\n",
       "      <th>timestamp</th>\n",
       "      <th>month</th>\n",
       "      <th>day</th>\n",
       "      <th>hour</th>\n",
       "      <th>weekday</th>\n",
       "      <th>weekhour</th>\n",
       "      <th>isHoliday</th>\n",
       "      <th>windMaxSpeed.m.s</th>\n",
       "      <th>windMeanSpeed.m.s</th>\n",
       "      <th>windDirection.grades</th>\n",
       "      <th>temperature.C</th>\n",
       "      <th>relHumidity.HR</th>\n",
       "      <th>airPressure.mb</th>\n",
       "      <th>precipitation.l.m2</th>\n",
       "      <th>bikes_3h_ago</th>\n",
       "      <th>full_profile_3h_diff_bikes</th>\n",
       "      <th>full_profile_bikes</th>\n",
       "      <th>short_profile_3h_diff_bikes</th>\n",
       "      <th>short_profile_bikes</th>\n",
       "      <th>bikes</th>\n",
       "    </tr>\n",
       "  </thead>\n",
       "  <tbody>\n",
       "    <tr>\n",
       "      <th>0</th>\n",
       "      <td>1.412114e+09</td>\n",
       "      <td>10</td>\n",
       "      <td>1</td>\n",
       "      <td>0</td>\n",
       "      <td>Wednesday</td>\n",
       "      <td>49</td>\n",
       "      <td>0</td>\n",
       "      <td>11.3</td>\n",
       "      <td>3.2</td>\n",
       "      <td>67.5</td>\n",
       "      <td>21.3</td>\n",
       "      <td>85.0</td>\n",
       "      <td>855.3</td>\n",
       "      <td>0.0</td>\n",
       "      <td>NaN</td>\n",
       "      <td>NaN</td>\n",
       "      <td>NaN</td>\n",
       "      <td>NaN</td>\n",
       "      <td>NaN</td>\n",
       "      <td>1.0</td>\n",
       "    </tr>\n",
       "    <tr>\n",
       "      <th>1</th>\n",
       "      <td>1.412118e+09</td>\n",
       "      <td>10</td>\n",
       "      <td>1</td>\n",
       "      <td>1</td>\n",
       "      <td>Wednesday</td>\n",
       "      <td>50</td>\n",
       "      <td>0</td>\n",
       "      <td>1.6</td>\n",
       "      <td>0.0</td>\n",
       "      <td>157.5</td>\n",
       "      <td>21.1</td>\n",
       "      <td>86.0</td>\n",
       "      <td>1000.6</td>\n",
       "      <td>0.0</td>\n",
       "      <td>NaN</td>\n",
       "      <td>NaN</td>\n",
       "      <td>NaN</td>\n",
       "      <td>NaN</td>\n",
       "      <td>NaN</td>\n",
       "      <td>0.0</td>\n",
       "    </tr>\n",
       "    <tr>\n",
       "      <th>2</th>\n",
       "      <td>1.412122e+09</td>\n",
       "      <td>10</td>\n",
       "      <td>1</td>\n",
       "      <td>2</td>\n",
       "      <td>Wednesday</td>\n",
       "      <td>51</td>\n",
       "      <td>0</td>\n",
       "      <td>1.6</td>\n",
       "      <td>0.0</td>\n",
       "      <td>112.5</td>\n",
       "      <td>20.9</td>\n",
       "      <td>86.0</td>\n",
       "      <td>880.6</td>\n",
       "      <td>0.0</td>\n",
       "      <td>NaN</td>\n",
       "      <td>NaN</td>\n",
       "      <td>NaN</td>\n",
       "      <td>NaN</td>\n",
       "      <td>NaN</td>\n",
       "      <td>0.0</td>\n",
       "    </tr>\n",
       "    <tr>\n",
       "      <th>3</th>\n",
       "      <td>1.412125e+09</td>\n",
       "      <td>10</td>\n",
       "      <td>1</td>\n",
       "      <td>3</td>\n",
       "      <td>Wednesday</td>\n",
       "      <td>52</td>\n",
       "      <td>0</td>\n",
       "      <td>0.0</td>\n",
       "      <td>0.0</td>\n",
       "      <td>146.3</td>\n",
       "      <td>20.4</td>\n",
       "      <td>88.0</td>\n",
       "      <td>859.8</td>\n",
       "      <td>0.0</td>\n",
       "      <td>1.0</td>\n",
       "      <td>NaN</td>\n",
       "      <td>NaN</td>\n",
       "      <td>NaN</td>\n",
       "      <td>NaN</td>\n",
       "      <td>0.0</td>\n",
       "    </tr>\n",
       "    <tr>\n",
       "      <th>4</th>\n",
       "      <td>1.412129e+09</td>\n",
       "      <td>10</td>\n",
       "      <td>1</td>\n",
       "      <td>4</td>\n",
       "      <td>Wednesday</td>\n",
       "      <td>53</td>\n",
       "      <td>0</td>\n",
       "      <td>6.4</td>\n",
       "      <td>3.2</td>\n",
       "      <td>157.5</td>\n",
       "      <td>20.3</td>\n",
       "      <td>87.0</td>\n",
       "      <td>898.1</td>\n",
       "      <td>0.0</td>\n",
       "      <td>0.0</td>\n",
       "      <td>NaN</td>\n",
       "      <td>NaN</td>\n",
       "      <td>NaN</td>\n",
       "      <td>NaN</td>\n",
       "      <td>0.0</td>\n",
       "    </tr>\n",
       "  </tbody>\n",
       "</table>\n",
       "</div>"
      ],
      "text/plain": [
       "      timestamp  month  day  hour    weekday  weekhour  isHoliday  \\\n",
       "0  1.412114e+09     10    1     0  Wednesday        49          0   \n",
       "1  1.412118e+09     10    1     1  Wednesday        50          0   \n",
       "2  1.412122e+09     10    1     2  Wednesday        51          0   \n",
       "3  1.412125e+09     10    1     3  Wednesday        52          0   \n",
       "4  1.412129e+09     10    1     4  Wednesday        53          0   \n",
       "\n",
       "   windMaxSpeed.m.s  windMeanSpeed.m.s  windDirection.grades  temperature.C  \\\n",
       "0              11.3                3.2                  67.5           21.3   \n",
       "1               1.6                0.0                 157.5           21.1   \n",
       "2               1.6                0.0                 112.5           20.9   \n",
       "3               0.0                0.0                 146.3           20.4   \n",
       "4               6.4                3.2                 157.5           20.3   \n",
       "\n",
       "   relHumidity.HR  airPressure.mb  precipitation.l.m2  bikes_3h_ago  \\\n",
       "0            85.0           855.3                 0.0           NaN   \n",
       "1            86.0          1000.6                 0.0           NaN   \n",
       "2            86.0           880.6                 0.0           NaN   \n",
       "3            88.0           859.8                 0.0           1.0   \n",
       "4            87.0           898.1                 0.0           0.0   \n",
       "\n",
       "   full_profile_3h_diff_bikes  full_profile_bikes  \\\n",
       "0                         NaN                 NaN   \n",
       "1                         NaN                 NaN   \n",
       "2                         NaN                 NaN   \n",
       "3                         NaN                 NaN   \n",
       "4                         NaN                 NaN   \n",
       "\n",
       "   short_profile_3h_diff_bikes  short_profile_bikes  bikes  \n",
       "0                          NaN                  NaN    1.0  \n",
       "1                          NaN                  NaN    0.0  \n",
       "2                          NaN                  NaN    0.0  \n",
       "3                          NaN                  NaN    0.0  \n",
       "4                          NaN                  NaN    0.0  "
      ]
     },
     "execution_count": 6,
     "metadata": {},
     "output_type": "execute_result"
    }
   ],
   "source": [
    "station_data.head()"
   ]
  },
  {
   "cell_type": "code",
   "execution_count": 7,
   "metadata": {},
   "outputs": [],
   "source": [
    "assert(are_nulls(station_data, 'timestamp')==False)"
   ]
  },
  {
   "cell_type": "code",
   "execution_count": 9,
   "metadata": {},
   "outputs": [],
   "source": [
    "assert(are_nulls(station_data, 'temperature.C'))"
   ]
  },
  {
   "cell_type": "code",
   "execution_count": 355,
   "metadata": {},
   "outputs": [],
   "source": [
    "total_datapoints = len(station_data.index)\n",
    "# get all locations of null values for a given feature\n",
    "null_locs = get_null_locs(station_data, 'temperature.C')\n",
    "for index in null_locs:\n",
    "    feature_value = average_datapoints(station_data, 'temperature.C', index, total_datapoints)\n",
    "    station_data['temperature.C'].loc[index] = feature_value"
   ]
  },
  {
   "cell_type": "code",
   "execution_count": 356,
   "metadata": {},
   "outputs": [
    {
     "data": {
      "text/plain": [
       "18.450000000000003"
      ]
     },
     "execution_count": 356,
     "metadata": {},
     "output_type": "execute_result"
    }
   ],
   "source": [
    "station_data['temperature.C'].loc[603]"
   ]
  },
  {
   "cell_type": "code",
   "execution_count": 357,
   "metadata": {},
   "outputs": [
    {
     "data": {
      "text/plain": [
       "18.6"
      ]
     },
     "execution_count": 357,
     "metadata": {},
     "output_type": "execute_result"
    }
   ],
   "source": [
    "station_data['temperature.C'].loc[602]"
   ]
  },
  {
   "cell_type": "code",
   "execution_count": 308,
   "metadata": {},
   "outputs": [
    {
     "data": {
      "text/plain": [
       "18.8"
      ]
     },
     "execution_count": 308,
     "metadata": {},
     "output_type": "execute_result"
    }
   ],
   "source": [
    "(18.6 + 19.0) / 2"
   ]
  },
  {
   "cell_type": "code",
   "execution_count": null,
   "metadata": {},
   "outputs": [],
   "source": []
  }
 ],
 "metadata": {
  "kernelspec": {
   "display_name": "Python 3",
   "language": "python",
   "name": "python3"
  },
  "language_info": {
   "codemirror_mode": {
    "name": "ipython",
    "version": 3
   },
   "file_extension": ".py",
   "mimetype": "text/x-python",
   "name": "python",
   "nbconvert_exporter": "python",
   "pygments_lexer": "ipython3",
   "version": "3.8.5"
  }
 },
 "nbformat": 4,
 "nbformat_minor": 4
}
